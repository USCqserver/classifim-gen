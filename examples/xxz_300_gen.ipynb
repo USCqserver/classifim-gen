{
 "cells": [
  {
   "cell_type": "markdown",
   "id": "32b85902-cd19-4033-9766-42f1fe485644",
   "metadata": {},
   "source": [
    "# XXZ300: data generation"
   ]
  },
  {
   "cell_type": "markdown",
   "id": "3695ffca-7f25-4354-a69b-d629338f53af",
   "metadata": {},
   "source": [
    "## Init"
   ]
  },
  {
   "cell_type": "markdown",
   "id": "b2596d92-7242-45bc-9231-d79f5c652357",
   "metadata": {},
   "source": [
    "### Imports & config"
   ]
  },
  {
   "cell_type": "code",
   "execution_count": 1,
   "id": "d55cec1c-b0c0-4ed9-b719-bcb6f12d9999",
   "metadata": {
    "tags": []
   },
   "outputs": [],
   "source": [
    "import classifim.bench.fidelity\n",
    "import classifim.bench.metric\n",
    "import classifim.bench.peaks\n",
    "import classifim.bench.plot_tools\n",
    "import classifim.utils\n",
    "import classifim_gen.gs_cache\n",
    "import classifim_gen.gs_utils\n",
    "import classifim_gen.io\n",
    "import classifim_gen.xxz\n",
    "import functools\n",
    "import glob\n",
    "import h5py\n",
    "import itertools\n",
    "import json\n",
    "import matplotlib\n",
    "import matplotlib.pyplot as plt\n",
    "import numpy as np\n",
    "import os\n",
    "import pandas as pd\n",
    "import pyarrow as pa\n",
    "import pyarrow.parquet as pq\n",
    "import re\n",
    "import scipy.sparse.linalg\n",
    "import sys\n",
    "import warnings\n",
    "\n",
    "from tqdm import tqdm, trange"
   ]
  },
  {
   "cell_type": "markdown",
   "id": "e846db4e-2840-420f-b92e-619fe486182b",
   "metadata": {},
   "source": [
    "The following settings were used to generate the images for the main paper. They can be commented out (the cell made \"raw\" using CTRL+R, use CTRL+Y to make it \"code\") since they require a LaTeX installation with some fonts and packages used by matplotlib."
   ]
  },
  {
   "cell_type": "code",
   "execution_count": 2,
   "id": "ef93fd9d-fbc5-49a0-ade2-df55d59d0c2a",
   "metadata": {
    "tags": []
   },
   "outputs": [],
   "source": [
    "# [Optional]: matplotlib.backend_bases.register_backend('pgf', FigureCanvasPgf)\n",
    "matplotlib.rcParams.update({\n",
    "    \"pgf.texsystem\": \"pdflatex\",\n",
    "    'font.family': 'serif',\n",
    "    'text.usetex': True,\n",
    "    'pgf.rcfonts': False,\n",
    "})"
   ]
  },
  {
   "cell_type": "code",
   "execution_count": 3,
   "id": "b293cb3c-1c0d-4e9c-b035-bd4fdb312bd0",
   "metadata": {
    "tags": []
   },
   "outputs": [],
   "source": [
    "HAM_NAME = \"XXZ300\"\n",
    "DATA_DIR0 = classifim.utils.find_data_dir()\n",
    "assert os.path.isdir(DATA_DIR0)\n",
    "DATA_DIR = classifim.utils.maybe_create_subdir(DATA_DIR0, \"xxz_300\")\n",
    "\n",
    "HF_DATA_DIR0 = classifim.utils.find_data_dir(\"hf_data_dir\")\n",
    "HF_DATA_DIR = os.path.join(HF_DATA_DIR0, \"xxz_300_z\")"
   ]
  },
  {
   "cell_type": "code",
   "execution_count": 4,
   "id": "74214ad6-a972-4826-b0d6-e8b3f2d51b06",
   "metadata": {
    "tags": []
   },
   "outputs": [],
   "source": [
    "class XxzParamConversions:\n",
    "    lambda_grid_size = (64, 64)\n",
    "    \n",
    "    @staticmethod\n",
    "    def lambdas_to_params(lambda0, lambda1):\n",
    "        \"\"\"\n",
    "        Convert between lambdas (in range [0, 1]) to params (J' and delta).\n",
    "        \"\"\"\n",
    "        return lambda0 * 2.5, lambda1 * 3.5\n",
    "\n",
    "    @staticmethod\n",
    "    def params_to_lambdas(Jprime, delta):\n",
    "        return Jprime / 2.5, delta / 3.5\n",
    "\n",
    "    @classmethod\n",
    "    def lambdais_to_lambdas(cls, lambda0i, lambda1i):\n",
    "        \"\"\"\n",
    "        Convert indices to lambdas.\n",
    "        \"\"\"\n",
    "        d0, d1 = [s - 1 for s in cls.lambda_grid_size]\n",
    "        return (lambda0i / d0, lambda1i / d1)\n",
    "\n",
    "    @functools.cached_property\n",
    "    def all_Jprimes(self):\n",
    "        size = self.lambda_grid_size[0]\n",
    "        return 2.5 * np.arange(size) / (size - 1)\n",
    "\n",
    "    @functools.cached_property\n",
    "    def all_deltas(self):\n",
    "        size = self.lambda_grid_size[1]\n",
    "        return 2.5 * np.arange(size) / (size - 1)\n",
    "    \n",
    "param_conversions = XxzParamConversions()"
   ]
  },
  {
   "cell_type": "markdown",
   "id": "30075cb4-7862-42aa-83f3-e93936b868ea",
   "metadata": {
    "tags": []
   },
   "source": [
    "## Data generation / reshaping"
   ]
  },
  {
   "cell_type": "markdown",
   "id": "867d0201-5ceb-4660-a072-c2f95916dfc7",
   "metadata": {},
   "source": [
    "DMRG is used to generate the samples and inner products between ground states.\n",
    "The DMRG code is located in \"hpc/dmrgpy_xxz_getmps.{slurm,py}\" and not produced by this notebook."
   ]
  },
  {
   "cell_type": "markdown",
   "id": "e048e126-b459-45e6-8c44-2dde4782105a",
   "metadata": {},
   "source": [
    "### Extract datasets and inner products"
   ]
  },
  {
   "cell_type": "markdown",
   "id": "3772169d-6255-4ce2-87d5-7cafca726d26",
   "metadata": {},
   "source": [
    "* Requires: DMRG results in \"samples\" directory.\n",
    "* Generates: classifim_datasets"
   ]
  },
  {
   "cell_type": "code",
   "execution_count": 7,
   "id": "cffedd3e-4e01-4824-aad3-c89c49bbc6b8",
   "metadata": {
    "tags": []
   },
   "outputs": [],
   "source": [
    "SAMPLES_DIR = os.path.join(DATA_DIR, \"samples\")\n",
    "SAMPLES_FILE_PATTERN = os.path.join(\n",
    "    SAMPLES_DIR, \"dmrgpy_out_{seed:02d}_{lambda0i}_{lambda1i}.hdf5\")"
   ]
  },
  {
   "cell_type": "code",
   "execution_count": 8,
   "id": "c23f0c30-8903-4a07-91d2-f8d4c3953f1c",
   "metadata": {
    "tags": []
   },
   "outputs": [],
   "source": [
    "def read_h5py_colmaj(h5py_dataset):\n",
    "    res = h5py_dataset[()]\n",
    "    if isinstance(res, np.ndarray) and res.ndim > 1:\n",
    "        res = np.transpose(res, axes=tuple(reversed(range(res.ndim))))\n",
    "    return res\n",
    "\n",
    "def _read_sample_file(\n",
    "        samples_data, f, seed_i, lambda0i, lambda1i, all_seeds, read_samples):\n",
    "    seed = all_seeds[seed_i]\n",
    "    assert lambda0i == f[\"lambda0i\"][()]\n",
    "    assert lambda1i == f[\"lambda1i\"][()]\n",
    "    lambda_is = (lambda0i, lambda1i)\n",
    "    if read_samples:\n",
    "        for key in [\"z_samples\", \"pauli_samples\"]:\n",
    "            samples_data[key][seed_i, lambda0i, lambda1i, :, :] = (\n",
    "                read_h5py_colmaj(f[key]))\n",
    "    for key in [\"level_overlap\", \"time\"]:\n",
    "        samples_data[key][seed_i, lambda0i, lambda1i] = f[key][()]\n",
    "    for key in [\"time_estimate\", \"num_cpu_cores\", \"input_size\"]:\n",
    "        if key in f.keys():\n",
    "            samples_data[key][seed_i, lambda0i, lambda1i] = f[key][()]\n",
    "    if seed_i < len(all_seeds) - 1:\n",
    "        assert f['seed_overlap.key'][()] == all_seeds[seed_i + 1]\n",
    "        samples_data[\"seed_overlap\"][seed_i, lambda0i, lambda1i, :, :] = (\n",
    "            read_h5py_colmaj(f[\"seed_overlap.value\"]))\n",
    "    else:\n",
    "        assert 'seed_overlap.key' not in f.keys()\n",
    "    lo_keys = read_h5py_colmaj(f[\"lambda_overlap.keys\"])\n",
    "    lo_values = read_h5py_colmaj(f[\"lambda_overlap.values\"])\n",
    "    for other_lambda_is, lo_value in zip(lo_keys, lo_values):\n",
    "        ldir = tuple(np.subtract(other_lambda_is, lambda_is))\n",
    "        try:\n",
    "            samples_data[\"lambda_overlap\"][ldir][\n",
    "                seed_i,\n",
    "                lambda0i + min(ldir[0], 0),\n",
    "                lambda1i + min(ldir[1], 0),\n",
    "                :, :] = lo_value\n",
    "        except IndexError:\n",
    "            warnings.warn(\n",
    "                f\"Unexpected dir={ldir} for {lambda_is=}: {other_lambda_is=}; \"\n",
    "                + f\"target shape={samples_data['lambda_overlap'][ldir].shape}.\")\n",
    "            # Note: this is a known issue, we need to regenerate the data.\n",
    "\n",
    "def read_sample_data(\n",
    "        file_pattern, lambda_grid_size=XxzParamConversions.lambda_grid_size,\n",
    "        num_samples=1400, num_sites=300, all_seeds=[3, 4], num_levels=2,\n",
    "        read_samples=True):\n",
    "    num_seeds = len(all_seeds)\n",
    "    samples_data = {\n",
    "        \"seed_overlap\": np.empty(\n",
    "            dtype=np.float64,\n",
    "            shape=(num_seeds-1,) + lambda_grid_size + (num_levels,) * 2),\n",
    "        \"time_estimate\": np.full(\n",
    "            fill_value=np.nan, dtype=np.float64,\n",
    "            shape=(num_seeds,) + lambda_grid_size),\n",
    "        \"lambda_overlap\": {\n",
    "            ldir: np.full(\n",
    "                fill_value=np.nan,\n",
    "                dtype=np.float64,\n",
    "                shape=(\n",
    "                    (2,) + tuple(np.subtract(lambda_grid_size, np.abs(ldir)))\n",
    "                    + (num_levels,) * 2))\n",
    "            for ldir in [(0, 1), (1, 0), (1, 1), (1, -1)]\n",
    "        }}\n",
    "    if read_samples:\n",
    "        for key in [\"z_samples\", \"pauli_samples\"]:\n",
    "            samples_data[key] = np.empty(\n",
    "                dtype=np.int8,\n",
    "                shape=(num_seeds,) + lambda_grid_size + (num_samples, num_sites))\n",
    "    for key in [\"num_cpu_cores\", \"input_size\", \"time\"]:\n",
    "        samples_data[key] = np.full(\n",
    "            fill_value=-1, dtype=np.int64,\n",
    "            shape=(num_seeds,) + lambda_grid_size)\n",
    "    for key in [\"level_overlap\", \"time\"]:\n",
    "        samples_data[key] = np.empty(\n",
    "            dtype=np.float64, shape=(num_seeds,) + lambda_grid_size)\n",
    "    all_idx_sizes = (num_seeds,) + lambda_grid_size\n",
    "    all_idxs = itertools.product(*[range(s) for s in all_idx_sizes])\n",
    "    for seed_i, lambda0i, lambda1i in tqdm(\n",
    "            all_idxs, total=np.prod(all_idx_sizes)):\n",
    "        seed = all_seeds[seed_i]\n",
    "        file_name = file_pattern.format(seed=seed, lambda0i=lambda0i, lambda1i=lambda1i)\n",
    "        with h5py.File(file_name, 'r') as f:\n",
    "            _read_sample_file(\n",
    "                samples_data, f, seed_i, lambda0i, lambda1i, all_seeds,\n",
    "                read_samples=read_samples)\n",
    "    samples_data[\"all_seeds\"] = all_seeds\n",
    "    return samples_data\n"
   ]
  },
  {
   "cell_type": "code",
   "execution_count": 9,
   "id": "9a7e3f45-f176-400e-bb21-c455a5d17dbe",
   "metadata": {
    "tags": []
   },
   "outputs": [
    {
     "name": "stderr",
     "output_type": "stream",
     "text": [
      "  0%|                                                                                                          | 0/8192 [00:00<?, ?it/s]\n"
     ]
    },
    {
     "ename": "KeyError",
     "evalue": "\"Unable to synchronously open object (object 'level_overlap' doesn't exist)\"",
     "output_type": "error",
     "traceback": [
      "\u001b[0;31m---------------------------------------------------------------------------\u001b[0m",
      "\u001b[0;31mKeyError\u001b[0m                                  Traceback (most recent call last)",
      "Cell \u001b[0;32mIn[9], line 1\u001b[0m\n\u001b[0;32m----> 1\u001b[0m samples_data \u001b[38;5;241m=\u001b[39m \u001b[43mread_sample_data\u001b[49m\u001b[43m(\u001b[49m\n\u001b[1;32m      2\u001b[0m \u001b[43m    \u001b[49m\u001b[43mfile_pattern\u001b[49m\u001b[38;5;241;43m=\u001b[39;49m\u001b[43mSAMPLES_FILE_PATTERN\u001b[49m\u001b[43m,\u001b[49m\u001b[43m \u001b[49m\u001b[43mread_samples\u001b[49m\u001b[38;5;241;43m=\u001b[39;49m\u001b[38;5;28;43;01mFalse\u001b[39;49;00m\u001b[43m)\u001b[49m\n",
      "Cell \u001b[0;32mIn[8], line 84\u001b[0m, in \u001b[0;36mread_sample_data\u001b[0;34m(file_pattern, lambda_grid_size, num_samples, num_sites, all_seeds, num_levels, read_samples)\u001b[0m\n\u001b[1;32m     82\u001b[0m     file_name \u001b[38;5;241m=\u001b[39m file_pattern\u001b[38;5;241m.\u001b[39mformat(seed\u001b[38;5;241m=\u001b[39mseed, lambda0i\u001b[38;5;241m=\u001b[39mlambda0i, lambda1i\u001b[38;5;241m=\u001b[39mlambda1i)\n\u001b[1;32m     83\u001b[0m     \u001b[38;5;28;01mwith\u001b[39;00m h5py\u001b[38;5;241m.\u001b[39mFile(file_name, \u001b[38;5;124m'\u001b[39m\u001b[38;5;124mr\u001b[39m\u001b[38;5;124m'\u001b[39m) \u001b[38;5;28;01mas\u001b[39;00m f:\n\u001b[0;32m---> 84\u001b[0m         \u001b[43m_read_sample_file\u001b[49m\u001b[43m(\u001b[49m\n\u001b[1;32m     85\u001b[0m \u001b[43m            \u001b[49m\u001b[43msamples_data\u001b[49m\u001b[43m,\u001b[49m\u001b[43m \u001b[49m\u001b[43mf\u001b[49m\u001b[43m,\u001b[49m\u001b[43m \u001b[49m\u001b[43mseed_i\u001b[49m\u001b[43m,\u001b[49m\u001b[43m \u001b[49m\u001b[43mlambda0i\u001b[49m\u001b[43m,\u001b[49m\u001b[43m \u001b[49m\u001b[43mlambda1i\u001b[49m\u001b[43m,\u001b[49m\u001b[43m \u001b[49m\u001b[43mall_seeds\u001b[49m\u001b[43m,\u001b[49m\n\u001b[1;32m     86\u001b[0m \u001b[43m            \u001b[49m\u001b[43mread_samples\u001b[49m\u001b[38;5;241;43m=\u001b[39;49m\u001b[43mread_samples\u001b[49m\u001b[43m)\u001b[49m\n\u001b[1;32m     87\u001b[0m samples_data[\u001b[38;5;124m\"\u001b[39m\u001b[38;5;124mall_seeds\u001b[39m\u001b[38;5;124m\"\u001b[39m] \u001b[38;5;241m=\u001b[39m all_seeds\n\u001b[1;32m     88\u001b[0m \u001b[38;5;28;01mreturn\u001b[39;00m samples_data\n",
      "Cell \u001b[0;32mIn[8], line 18\u001b[0m, in \u001b[0;36m_read_sample_file\u001b[0;34m(samples_data, f, seed_i, lambda0i, lambda1i, all_seeds, read_samples)\u001b[0m\n\u001b[1;32m     15\u001b[0m         samples_data[key][seed_i, lambda0i, lambda1i, :, :] \u001b[38;5;241m=\u001b[39m (\n\u001b[1;32m     16\u001b[0m             read_h5py_colmaj(f[key]))\n\u001b[1;32m     17\u001b[0m \u001b[38;5;28;01mfor\u001b[39;00m key \u001b[38;5;129;01min\u001b[39;00m [\u001b[38;5;124m\"\u001b[39m\u001b[38;5;124mlevel_overlap\u001b[39m\u001b[38;5;124m\"\u001b[39m, \u001b[38;5;124m\"\u001b[39m\u001b[38;5;124mtime\u001b[39m\u001b[38;5;124m\"\u001b[39m]:\n\u001b[0;32m---> 18\u001b[0m     samples_data[key][seed_i, lambda0i, lambda1i] \u001b[38;5;241m=\u001b[39m \u001b[43mf\u001b[49m\u001b[43m[\u001b[49m\u001b[43mkey\u001b[49m\u001b[43m]\u001b[49m[()]\n\u001b[1;32m     19\u001b[0m \u001b[38;5;28;01mfor\u001b[39;00m key \u001b[38;5;129;01min\u001b[39;00m [\u001b[38;5;124m\"\u001b[39m\u001b[38;5;124mtime_estimate\u001b[39m\u001b[38;5;124m\"\u001b[39m, \u001b[38;5;124m\"\u001b[39m\u001b[38;5;124mnum_cpu_cores\u001b[39m\u001b[38;5;124m\"\u001b[39m, \u001b[38;5;124m\"\u001b[39m\u001b[38;5;124minput_size\u001b[39m\u001b[38;5;124m\"\u001b[39m]:\n\u001b[1;32m     20\u001b[0m     \u001b[38;5;28;01mif\u001b[39;00m key \u001b[38;5;129;01min\u001b[39;00m f\u001b[38;5;241m.\u001b[39mkeys():\n",
      "File \u001b[0;32mh5py/_objects.pyx:54\u001b[0m, in \u001b[0;36mh5py._objects.with_phil.wrapper\u001b[0;34m()\u001b[0m\n",
      "File \u001b[0;32mh5py/_objects.pyx:55\u001b[0m, in \u001b[0;36mh5py._objects.with_phil.wrapper\u001b[0;34m()\u001b[0m\n",
      "File \u001b[0;32m~/opt/mambaforge/envs/classifim_macos/lib/python3.10/site-packages/h5py/_hl/group.py:357\u001b[0m, in \u001b[0;36mGroup.__getitem__\u001b[0;34m(self, name)\u001b[0m\n\u001b[1;32m    355\u001b[0m         \u001b[38;5;28;01mraise\u001b[39;00m \u001b[38;5;167;01mValueError\u001b[39;00m(\u001b[38;5;124m\"\u001b[39m\u001b[38;5;124mInvalid HDF5 object reference\u001b[39m\u001b[38;5;124m\"\u001b[39m)\n\u001b[1;32m    356\u001b[0m \u001b[38;5;28;01melif\u001b[39;00m \u001b[38;5;28misinstance\u001b[39m(name, (\u001b[38;5;28mbytes\u001b[39m, \u001b[38;5;28mstr\u001b[39m)):\n\u001b[0;32m--> 357\u001b[0m     oid \u001b[38;5;241m=\u001b[39m \u001b[43mh5o\u001b[49m\u001b[38;5;241;43m.\u001b[39;49m\u001b[43mopen\u001b[49m\u001b[43m(\u001b[49m\u001b[38;5;28;43mself\u001b[39;49m\u001b[38;5;241;43m.\u001b[39;49m\u001b[43mid\u001b[49m\u001b[43m,\u001b[49m\u001b[43m \u001b[49m\u001b[38;5;28;43mself\u001b[39;49m\u001b[38;5;241;43m.\u001b[39;49m\u001b[43m_e\u001b[49m\u001b[43m(\u001b[49m\u001b[43mname\u001b[49m\u001b[43m)\u001b[49m\u001b[43m,\u001b[49m\u001b[43m \u001b[49m\u001b[43mlapl\u001b[49m\u001b[38;5;241;43m=\u001b[39;49m\u001b[38;5;28;43mself\u001b[39;49m\u001b[38;5;241;43m.\u001b[39;49m\u001b[43m_lapl\u001b[49m\u001b[43m)\u001b[49m\n\u001b[1;32m    358\u001b[0m \u001b[38;5;28;01melse\u001b[39;00m:\n\u001b[1;32m    359\u001b[0m     \u001b[38;5;28;01mraise\u001b[39;00m \u001b[38;5;167;01mTypeError\u001b[39;00m(\u001b[38;5;124m\"\u001b[39m\u001b[38;5;124mAccessing a group is done with bytes or str, \u001b[39m\u001b[38;5;124m\"\u001b[39m\n\u001b[1;32m    360\u001b[0m                     \u001b[38;5;124m\"\u001b[39m\u001b[38;5;124mnot \u001b[39m\u001b[38;5;132;01m{}\u001b[39;00m\u001b[38;5;124m\"\u001b[39m\u001b[38;5;241m.\u001b[39mformat(\u001b[38;5;28mtype\u001b[39m(name)))\n",
      "File \u001b[0;32mh5py/_objects.pyx:54\u001b[0m, in \u001b[0;36mh5py._objects.with_phil.wrapper\u001b[0;34m()\u001b[0m\n",
      "File \u001b[0;32mh5py/_objects.pyx:55\u001b[0m, in \u001b[0;36mh5py._objects.with_phil.wrapper\u001b[0;34m()\u001b[0m\n",
      "File \u001b[0;32mh5py/h5o.pyx:189\u001b[0m, in \u001b[0;36mh5py.h5o.open\u001b[0;34m()\u001b[0m\n",
      "\u001b[0;31mKeyError\u001b[0m: \"Unable to synchronously open object (object 'level_overlap' doesn't exist)\""
     ]
    }
   ],
   "source": [
    "samples_data = read_sample_data(\n",
    "    file_pattern=SAMPLES_FILE_PATTERN, read_samples=False)"
   ]
  },
  {
   "cell_type": "code",
   "execution_count": 73,
   "id": "3ffe9f27-0554-4afc-9dfd-2c00731dfb78",
   "metadata": {},
   "outputs": [
    {
     "name": "stdout",
     "output_type": "stream",
     "text": [
      "seed_overlap: float64 (1, 64, 64, 2, 2)\n",
      "time_estimate: float64 (2, 64, 64)\n",
      "lambda_overlap: \n",
      "  (0, 1): float64 (2, 64, 63, 2, 2)\n",
      "  (1, 0): float64 (2, 63, 64, 2, 2)\n",
      "  (1, 1): float64 (2, 63, 63, 2, 2)\n",
      "z_samples: int8 (2, 64, 64, 1400, 300)\n",
      "pauli_samples: int8 (2, 64, 64, 1400, 300)\n",
      "num_cpu_cores: int64 (2, 64, 64)\n",
      "input_size: int64 (2, 64, 64)\n",
      "time: float64 (2, 64, 64)\n",
      "level_overlap: float64 (2, 64, 64)\n"
     ]
    }
   ],
   "source": [
    "def pretty_print(data, prefix=\"\"):\n",
    "    for key, value in data.items():\n",
    "        print(f\"{prefix}{key}: \", end=\"\")\n",
    "        if isinstance(value, np.ndarray):\n",
    "            print(f\"{value.dtype} {value.shape}\")\n",
    "        elif isinstance(value, dict):\n",
    "            print(\"\")\n",
    "            pretty_print(value, prefix=prefix + \"  \")\n",
    "        else:\n",
    "            print(f\"{value}\")\n",
    "pretty_print(samples_data)"
   ]
  },
  {
   "cell_type": "markdown",
   "id": "095e3731-3375-4fba-91f2-d50d521f41e4",
   "metadata": {},
   "source": [
    "### Generate datasets"
   ]
  },
  {
   "cell_type": "markdown",
   "id": "c1d4951e-4a17-4b22-983a-094dc2facf7e",
   "metadata": {},
   "source": [
    "* Requires: Loaded `samples_data` (see above).\n",
    "* Generates: `classifim_datasets`"
   ]
  },
  {
   "cell_type": "code",
   "execution_count": 10,
   "id": "fea98353-7ce8-45c2-b054-313e85beda72",
   "metadata": {
    "tags": []
   },
   "outputs": [],
   "source": [
    "def generate_dataset(seed, samples, lambdais_to_lambdas):\n",
    "    num_lambda0, num_lambda1, size_per_lambda, n_sites = samples.shape\n",
    "    num_samples = num_lambda0 * num_lambda1 * size_per_lambda\n",
    "    lambda_is = np.mgrid[0:num_lambda0, 0:num_lambda1]\n",
    "    lambdas = np.array(lambdais_to_lambdas(\n",
    "        *lambda_is.reshape(2, num_lambda0 * num_lambda1))).T\n",
    "    lambdas = lambdas.repeat(size_per_lambda, axis=0)\n",
    "    zs = samples.reshape((num_samples, n_sites))\n",
    "    \n",
    "    rng = np.random.default_rng(seed)\n",
    "    permutation = rng.permutation(num_samples)\n",
    "    lambdas = lambdas[permutation]\n",
    "    zs = zs[permutation]\n",
    "\n",
    "    return {\n",
    "        \"lambdas\": lambdas,\n",
    "        \"zs\": zs,\n",
    "        \"size_per_lambda\": size_per_lambda,\n",
    "        \"seed\": seed,\n",
    "        \"packed\": False\n",
    "    }"
   ]
  },
  {
   "cell_type": "code",
   "execution_count": 40,
   "id": "11f6ed17-776d-4a7f-8f89-9c13f2bfec03",
   "metadata": {},
   "outputs": [
    {
     "name": "stderr",
     "output_type": "stream",
     "text": [
      "  9%|█████████████                                                                                                                                   | 1/11 [00:11<01:54, 11.45s/it]"
     ]
    },
    {
     "name": "stdout",
     "output_type": "stream",
     "text": [
      "Dataset is saved to '/media/victor/ssd_T7_Victor/d/qc4ml/bschifc_data/neurips2023/xxz1d/classifim_datasets/dataset_z_5.npz'\n"
     ]
    },
    {
     "name": "stderr",
     "output_type": "stream",
     "text": [
      " 18%|██████████████████████████▏                                                                                                                     | 2/11 [00:22<01:42, 11.37s/it]"
     ]
    },
    {
     "name": "stdout",
     "output_type": "stream",
     "text": [
      "Dataset is saved to '/media/victor/ssd_T7_Victor/d/qc4ml/bschifc_data/neurips2023/xxz1d/classifim_datasets/dataset_z_6.npz'\n"
     ]
    },
    {
     "name": "stderr",
     "output_type": "stream",
     "text": [
      " 27%|███████████████████████████████████████▎                                                                                                        | 3/11 [00:33<01:30, 11.31s/it]"
     ]
    },
    {
     "name": "stdout",
     "output_type": "stream",
     "text": [
      "Dataset is saved to '/media/victor/ssd_T7_Victor/d/qc4ml/bschifc_data/neurips2023/xxz1d/classifim_datasets/dataset_z_7.npz'\n"
     ]
    },
    {
     "name": "stderr",
     "output_type": "stream",
     "text": [
      " 36%|████████████████████████████████████████████████████▎                                                                                           | 4/11 [00:45<01:19, 11.34s/it]"
     ]
    },
    {
     "name": "stdout",
     "output_type": "stream",
     "text": [
      "Dataset is saved to '/media/victor/ssd_T7_Victor/d/qc4ml/bschifc_data/neurips2023/xxz1d/classifim_datasets/dataset_z_8.npz'\n"
     ]
    },
    {
     "name": "stderr",
     "output_type": "stream",
     "text": [
      " 45%|█████████████████████████████████████████████████████████████████▍                                                                              | 5/11 [00:56<01:08, 11.34s/it]"
     ]
    },
    {
     "name": "stdout",
     "output_type": "stream",
     "text": [
      "Dataset is saved to '/media/victor/ssd_T7_Victor/d/qc4ml/bschifc_data/neurips2023/xxz1d/classifim_datasets/dataset_z_9.npz'\n"
     ]
    },
    {
     "name": "stderr",
     "output_type": "stream",
     "text": [
      " 55%|██████████████████████████████████████████████████████████████████████████████▌                                                                 | 6/11 [01:08<00:56, 11.32s/it]"
     ]
    },
    {
     "name": "stdout",
     "output_type": "stream",
     "text": [
      "Dataset is saved to '/media/victor/ssd_T7_Victor/d/qc4ml/bschifc_data/neurips2023/xxz1d/classifim_datasets/dataset_z_10.npz'\n"
     ]
    },
    {
     "name": "stderr",
     "output_type": "stream",
     "text": [
      " 64%|███████████████████████████████████████████████████████████████████████████████████████████▋                                                    | 7/11 [01:19<00:45, 11.31s/it]"
     ]
    },
    {
     "name": "stdout",
     "output_type": "stream",
     "text": [
      "Dataset is saved to '/media/victor/ssd_T7_Victor/d/qc4ml/bschifc_data/neurips2023/xxz1d/classifim_datasets/dataset_z_11.npz'\n"
     ]
    },
    {
     "name": "stderr",
     "output_type": "stream",
     "text": [
      " 73%|████████████████████████████████████████████████████████████████████████████████████████████████████████▋                                       | 8/11 [01:30<00:33, 11.30s/it]"
     ]
    },
    {
     "name": "stdout",
     "output_type": "stream",
     "text": [
      "Dataset is saved to '/media/victor/ssd_T7_Victor/d/qc4ml/bschifc_data/neurips2023/xxz1d/classifim_datasets/dataset_z_12.npz'\n"
     ]
    },
    {
     "name": "stderr",
     "output_type": "stream",
     "text": [
      " 82%|█████████████████████████████████████████████████████████████████████████████████████████████████████████████████████▊                          | 9/11 [01:41<00:22, 11.29s/it]"
     ]
    },
    {
     "name": "stdout",
     "output_type": "stream",
     "text": [
      "Dataset is saved to '/media/victor/ssd_T7_Victor/d/qc4ml/bschifc_data/neurips2023/xxz1d/classifim_datasets/dataset_z_13.npz'\n"
     ]
    },
    {
     "name": "stderr",
     "output_type": "stream",
     "text": [
      " 91%|██████████████████████████████████████████████████████████████████████████████████████████████████████████████████████████████████             | 10/11 [01:53<00:11, 11.28s/it]"
     ]
    },
    {
     "name": "stdout",
     "output_type": "stream",
     "text": [
      "Dataset is saved to '/media/victor/ssd_T7_Victor/d/qc4ml/bschifc_data/neurips2023/xxz1d/classifim_datasets/dataset_z_14.npz'\n"
     ]
    },
    {
     "name": "stderr",
     "output_type": "stream",
     "text": [
      "100%|███████████████████████████████████████████████████████████████████████████████████████████████████████████████████████████████████████████████| 11/11 [02:04<00:00, 11.31s/it]\n"
     ]
    },
    {
     "name": "stdout",
     "output_type": "stream",
     "text": [
      "Dataset is saved to '/media/victor/ssd_T7_Victor/d/qc4ml/bschifc_data/neurips2023/xxz1d/classifim_datasets/dataset_z_15.npz'\n"
     ]
    },
    {
     "name": "stderr",
     "output_type": "stream",
     "text": [
      "  9%|█████████████                                                                                                                                   | 1/11 [00:32<05:29, 32.91s/it]"
     ]
    },
    {
     "name": "stdout",
     "output_type": "stream",
     "text": [
      "Dataset is saved to '/media/victor/ssd_T7_Victor/d/qc4ml/bschifc_data/neurips2023/xxz1d/classifim_datasets/dataset_pauli_5.npz'\n"
     ]
    },
    {
     "name": "stderr",
     "output_type": "stream",
     "text": [
      " 18%|██████████████████████████▏                                                                                                                     | 2/11 [01:05<04:56, 32.89s/it]"
     ]
    },
    {
     "name": "stdout",
     "output_type": "stream",
     "text": [
      "Dataset is saved to '/media/victor/ssd_T7_Victor/d/qc4ml/bschifc_data/neurips2023/xxz1d/classifim_datasets/dataset_pauli_6.npz'\n"
     ]
    },
    {
     "name": "stderr",
     "output_type": "stream",
     "text": [
      " 27%|███████████████████████████████████████▎                                                                                                        | 3/11 [01:38<04:23, 32.92s/it]"
     ]
    },
    {
     "name": "stdout",
     "output_type": "stream",
     "text": [
      "Dataset is saved to '/media/victor/ssd_T7_Victor/d/qc4ml/bschifc_data/neurips2023/xxz1d/classifim_datasets/dataset_pauli_7.npz'\n"
     ]
    },
    {
     "name": "stderr",
     "output_type": "stream",
     "text": [
      " 36%|████████████████████████████████████████████████████▎                                                                                           | 4/11 [02:11<03:50, 32.86s/it]"
     ]
    },
    {
     "name": "stdout",
     "output_type": "stream",
     "text": [
      "Dataset is saved to '/media/victor/ssd_T7_Victor/d/qc4ml/bschifc_data/neurips2023/xxz1d/classifim_datasets/dataset_pauli_8.npz'\n"
     ]
    },
    {
     "name": "stderr",
     "output_type": "stream",
     "text": [
      " 45%|█████████████████████████████████████████████████████████████████▍                                                                              | 5/11 [02:44<03:17, 32.86s/it]"
     ]
    },
    {
     "name": "stdout",
     "output_type": "stream",
     "text": [
      "Dataset is saved to '/media/victor/ssd_T7_Victor/d/qc4ml/bschifc_data/neurips2023/xxz1d/classifim_datasets/dataset_pauli_9.npz'\n"
     ]
    },
    {
     "name": "stderr",
     "output_type": "stream",
     "text": [
      " 55%|██████████████████████████████████████████████████████████████████████████████▌                                                                 | 6/11 [03:16<02:43, 32.77s/it]"
     ]
    },
    {
     "name": "stdout",
     "output_type": "stream",
     "text": [
      "Dataset is saved to '/media/victor/ssd_T7_Victor/d/qc4ml/bschifc_data/neurips2023/xxz1d/classifim_datasets/dataset_pauli_10.npz'\n"
     ]
    },
    {
     "name": "stderr",
     "output_type": "stream",
     "text": [
      " 64%|███████████████████████████████████████████████████████████████████████████████████████████▋                                                    | 7/11 [03:49<02:10, 32.74s/it]"
     ]
    },
    {
     "name": "stdout",
     "output_type": "stream",
     "text": [
      "Dataset is saved to '/media/victor/ssd_T7_Victor/d/qc4ml/bschifc_data/neurips2023/xxz1d/classifim_datasets/dataset_pauli_11.npz'\n"
     ]
    },
    {
     "name": "stderr",
     "output_type": "stream",
     "text": [
      " 73%|████████████████████████████████████████████████████████████████████████████████████████████████████████▋                                       | 8/11 [04:22<01:38, 32.86s/it]"
     ]
    },
    {
     "name": "stdout",
     "output_type": "stream",
     "text": [
      "Dataset is saved to '/media/victor/ssd_T7_Victor/d/qc4ml/bschifc_data/neurips2023/xxz1d/classifim_datasets/dataset_pauli_12.npz'\n"
     ]
    },
    {
     "name": "stderr",
     "output_type": "stream",
     "text": [
      " 82%|█████████████████████████████████████████████████████████████████████████████████████████████████████████████████████▊                          | 9/11 [04:55<01:05, 32.97s/it]"
     ]
    },
    {
     "name": "stdout",
     "output_type": "stream",
     "text": [
      "Dataset is saved to '/media/victor/ssd_T7_Victor/d/qc4ml/bschifc_data/neurips2023/xxz1d/classifim_datasets/dataset_pauli_13.npz'\n"
     ]
    },
    {
     "name": "stderr",
     "output_type": "stream",
     "text": [
      " 91%|██████████████████████████████████████████████████████████████████████████████████████████████████████████████████████████████████             | 10/11 [05:28<00:32, 32.97s/it]"
     ]
    },
    {
     "name": "stdout",
     "output_type": "stream",
     "text": [
      "Dataset is saved to '/media/victor/ssd_T7_Victor/d/qc4ml/bschifc_data/neurips2023/xxz1d/classifim_datasets/dataset_pauli_14.npz'\n"
     ]
    },
    {
     "name": "stderr",
     "output_type": "stream",
     "text": [
      "100%|███████████████████████████████████████████████████████████████████████████████████████████████████████████████████████████████████████████████| 11/11 [06:02<00:00, 32.92s/it]"
     ]
    },
    {
     "name": "stdout",
     "output_type": "stream",
     "text": [
      "Dataset is saved to '/media/victor/ssd_T7_Victor/d/qc4ml/bschifc_data/neurips2023/xxz1d/classifim_datasets/dataset_pauli_15.npz'\n"
     ]
    },
    {
     "name": "stderr",
     "output_type": "stream",
     "text": [
      "\n"
     ]
    }
   ],
   "source": [
    "%%time\n",
    "CLASSIFIM_DATASET_DIR = classifim.utils.maybe_create_subdir(DATA_DIR, \"classifim_datasets\")\n",
    "size_per_lambda = 140\n",
    "for sample_type in (\"z\", \"pauli\"):\n",
    "    for seed in range(5, 16):\n",
    "        seed_i = (seed + 1) % 2\n",
    "        istart = ((seed - 5) // 2) * size_per_lambda\n",
    "        iend = istart + size_per_lambda\n",
    "        cur_samples = samples_data[sample_type + \"_samples\"][seed_i, :, :, istart:iend, :]\n",
    "        cur_dataset = generate_dataset(seed, cur_samples, param_conversions.lambdais_to_lambdas)\n",
    "        cur_dataset[\"sample_type\"] = sample_type\n",
    "        dataset_filename = os.path.join(CLASSIFIM_DATASET_DIR, f\"dataset_{sample_type}_{seed}.npz\")\n",
    "        np.savez_compressed(dataset_filename, **cur_dataset)\n",
    "        print(f\"Dataset is saved to '{dataset_filename}'\")"
   ]
  },
  {
   "cell_type": "markdown",
   "id": "df502f7c-8ba0-4696-a0fc-f3002f06b29e",
   "metadata": {},
   "source": [
    "### Compute ground truth FIM"
   ]
  },
  {
   "cell_type": "markdown",
   "id": "091f91ad-2698-428e-8964-6ead0ef647bd",
   "metadata": {},
   "source": [
    "* Requires: Loaded `samples_data` (see above).\n",
    "* Generates: ground truth FIM (`fim/gs_fim_3.npz`)"
   ]
  },
  {
   "cell_type": "code",
   "execution_count": 35,
   "id": "a38e0d0e-9fcf-4aca-89f5-24b4ad015908",
   "metadata": {},
   "outputs": [
    {
     "name": "stdout",
     "output_type": "stream",
     "text": [
      "gs_fims[3] saved to '/media/victor/ssd_T7_Victor/d/qc4ml/bschifc_data/neurips2023/xxz1d/fim/gs_fim_3.npz'\n",
      "gs_fims[4] saved to '/media/victor/ssd_T7_Victor/d/qc4ml/bschifc_data/neurips2023/xxz1d/fim/gs_fim_4.npz'\n"
     ]
    }
   ],
   "source": [
    "FIM_DIR = classifim.utils.maybe_create_subdir(DATA_DIR, \"fim\")\n",
    "gs_fims = {}\n",
    "gs_fims_npz = {}\n",
    "\n",
    "for seed_i, seed in enumerate(samples_data[\"all_seeds\"]):\n",
    "    cur_fidelities = {\n",
    "        k: np.abs(v[seed_i, :, :, 0, 0])\n",
    "        for k, v in samples_data[\"lambda_overlap\"].items()}\n",
    "    cur_fim = classifim.bench.fidelity.compute_2d_fim_from_fidelities(\n",
    "        cur_fidelities, resolution=64, denominator_resolution=63)\n",
    "    cur_fim_npz = classifim.bench.fidelity.encode_for_npz(cur_fim)\n",
    "    cur_fim_npz[\"seed\"] = seed\n",
    "    gs_fims[seed] = cur_fim\n",
    "    gs_fims_npz[seed] = cur_fim_npz\n",
    "    filename = os.path.join(FIM_DIR, f\"gs_fim_{seed}.npz\")\n",
    "    np.savez_compressed(filename, **cur_fim_npz)\n",
    "    print(f\"gs_fims[{seed}] saved to '{filename}'\")"
   ]
  },
  {
   "cell_type": "markdown",
   "id": "d6c668b5-51cc-4878-8d39-9a269c4a8fde",
   "metadata": {},
   "source": [
    "### Level overlap"
   ]
  },
  {
   "cell_type": "markdown",
   "id": "bba6803f-e34b-40a3-8137-d024b578ed1c",
   "metadata": {},
   "source": [
    "This is a bug with our use of excited state DMRG, but since we only care about ground state, it is not worth re-running (i.e. the bug does not affect the results reported in the paper)."
   ]
  },
  {
   "cell_type": "code",
   "execution_count": 84,
   "id": "f9ab62b4-084c-4398-ab88-c2e752ec4d86",
   "metadata": {},
   "outputs": [],
   "source": [
    "def plot_level_overlap(\n",
    "        samples_data, savefig_to=None, plot_triangle=False, take_abs=False):\n",
    "    fig = plt.figure(figsize=(16, 5.0), constrained_layout=True)\n",
    "    gs = matplotlib.gridspec.GridSpec(\n",
    "        1, 6, width_ratios=[1, 0.05, 1, 0.05, 1, 0.05], figure=fig)\n",
    "    ax0, ax1, ax2 = axs = [fig.add_subplot(gs[0, i]) for i in [0, 2, 4]]\n",
    "    cbar_ax0, cbar_ax1, cbar_ax2 = cbar_axs = [\n",
    "        fig.add_subplot(gs[0, i]) for i in [1, 3, 5]]\n",
    "\n",
    "    cmap = classifim.bench.plot_tools.spiral_background2_cmap\n",
    "    kwargs = {\"cmap\": cmap, \"shading\": \"nearest\", \"vmin\": -1, \"vmax\": 1}\n",
    "    level_overlap = samples_data[\"level_overlap\"]\n",
    "    seed_overlap = samples_data[\"seed_overlap\"][0, :, :, 0, 0]\n",
    "    if take_abs:\n",
    "        level_overlap = np.abs(level_overlap)\n",
    "        seed_overlap = np.abs(seed_overlap)\n",
    "        kwargs[\"vmin\"] = 0\n",
    "    Jprimes = param_conversions.all_Jprimes\n",
    "    deltas = param_conversions.all_deltas\n",
    "    for seed_i, (ax, cbar_ax) in enumerate(zip(axs[:2], cbar_axs[:2])):\n",
    "        pc_i = ax.pcolormesh(\n",
    "            Jprimes, deltas,\n",
    "            level_overlap[seed_i, :, :].T,\n",
    "            **kwargs)\n",
    "        fig.colorbar(pc_i, cax=cbar_ax)\n",
    "        ax.set_title(r\"$\\left<\\psi_0 | \\psi_1\\right>$ \" + f\"\\\\#{seed_i}\")\n",
    "\n",
    "    pc2 = ax2.pcolormesh(Jprimes, deltas, seed_overlap.T, **kwargs)\n",
    "    ax2.set_title(r\"$\\left<\\psi_0\\#0 | \\psi_0\\#1\\right>$\")\n",
    "    cbar2 = fig.colorbar(pc2, cax=cbar_ax2)\n",
    "\n",
    "    if plot_triangle:\n",
    "        for ax in axs:\n",
    "            plot_xxz_triangle(ax)\n",
    "    \n",
    "    ax0.set_ylabel(\"$\\delta$\")\n",
    "    for ax in axs:\n",
    "        ax.set_xlabel(\"$J'$\")\n",
    "    \n",
    "    if savefig_to is not None:\n",
    "        fig.savefig(savefig_to, bbox_inches=\"tight\", dpi=600)\n",
    "        print(f\"Saved fig to '{savefig_to}'.\")"
   ]
  },
  {
   "cell_type": "code",
   "execution_count": 86,
   "id": "dacf0d7d-3808-48b3-acd8-035cd110c818",
   "metadata": {},
   "outputs": [
    {
     "data": {
      "image/png": "[encoded data removed]",
      "text/plain": [
       "<Figure size 1600x500 with 6 Axes>"
      ]
     },
     "metadata": {},
     "output_type": "display_data"
    }
   ],
   "source": [
    "plot_level_overlap(samples_data, take_abs=True)"
   ]
  },
  {
   "cell_type": "markdown",
   "id": "1ed1602d-1870-4dc4-8877-11ad31e50860",
   "metadata": {},
   "source": [
    "## Convert to parquet"
   ]
  },
  {
   "cell_type": "code",
   "execution_count": 26,
   "id": "46c6c409-3b4e-441e-9be0-3f4f5a852354",
   "metadata": {},
   "outputs": [
    {
     "name": "stdout",
     "output_type": "stream",
     "text": [
      "Skipping seed 12: output files already exist.\n",
      "Skipping seed 13: output files already exist.\n",
      "Skipping seed 5: output files already exist.\n",
      "Skipping seed 15: output files already exist.\n",
      "Skipping seed 6: output files already exist.\n",
      "Skipping seed 9: output files already exist.\n",
      "Skipping seed 11: output files already exist.\n",
      "Skipping seed 7: output files already exist.\n",
      "Skipping seed 14: output files already exist.\n",
      "Skipping seed 10: output files already exist.\n",
      "Skipping seed 8: output files already exist.\n",
      "Done.\n"
     ]
    }
   ],
   "source": [
    "data_seeds = classifim_gen.io.save_datasets_for_hf(\n",
    "    convert_f=classifim_gen.xxz.convert_dataset_to_hf,\n",
    "    input_pattern=os.path.join(DATA_DIR, \"classifim_datasets\", \"dataset_z_{seed}.npz\"),\n",
    "    output_dir=HF_DATA_DIR,\n",
    "    overwrite=False)\n",
    "print(\"Done.\")"
   ]
  },
  {
   "cell_type": "code",
   "execution_count": 6,
   "id": "6b09ef3c-867d-495c-876d-36371d3ced99",
   "metadata": {},
   "outputs": [],
   "source": [
    "for seed in [3, 4]:\n",
    "    with np.load(os.path.join(DATA_DIR, \"fim\", f\"gs_fim_{seed}.npz\")) as f:\n",
    "        fim_npz = dict(f)\n",
    "    try:\n",
    "        del fim_npz[\"seed\"]\n",
    "    except KeyError:\n",
    "        pass\n",
    "    gt_fim_filename = os.path.join(\n",
    "        classifim.utils.maybe_create_subdir(HF_DATA_DIR, f\"seed_{seed:02d}\"),\n",
    "        \"gt_fim.parquet\")\n",
    "    pq.write_table(pa.Table.from_pydict(fim_npz), gt_fim_filename)"
   ]
  },
  {
   "cell_type": "code",
   "execution_count": 31,
   "id": "f934d42b-a336-485a-929d-a36c9a5dcbcf",
   "metadata": {},
   "outputs": [
    {
     "name": "stdout",
     "output_type": "stream",
     "text": [
      "- config_name: xxz_300_z.seed03.gt_fim\n",
      "  data_files:\n",
      "  - split: test\n",
      "    path: xxz_300_z/seed_03/gt_fim.parquet\n",
      "- config_name: xxz_300_z.seed04.gt_fim\n",
      "  data_files:\n",
      "  - split: test\n",
      "    path: xxz_300_z/seed_04/gt_fim.parquet\n",
      "- config_name: xxz_300_z.seed05\n",
      "  data_files:\n",
      "  - split: train\n",
      "    path: xxz_300_z/seed_05/d_train.parquet\n",
      "  - split: test\n",
      "    path: xxz_300_z/seed_05/d_test.parquet\n",
      "- config_name: xxz_300_z.seed06\n",
      "  data_files:\n",
      "  - split: train\n",
      "    path: xxz_300_z/seed_06/d_train.parquet\n",
      "  - split: test\n",
      "    path: xxz_300_z/seed_06/d_test.parquet\n",
      "- config_name: xxz_300_z.seed07\n",
      "  data_files:\n",
      "  - split: train\n",
      "    path: xxz_300_z/seed_07/d_train.parquet\n",
      "  - split: test\n",
      "    path: xxz_300_z/seed_07/d_test.parquet\n",
      "- config_name: xxz_300_z.seed08\n",
      "  data_files:\n",
      "  - split: train\n",
      "    path: xxz_300_z/seed_08/d_train.parquet\n",
      "  - split: test\n",
      "    path: xxz_300_z/seed_08/d_test.parquet\n",
      "- config_name: xxz_300_z.seed09\n",
      "  data_files:\n",
      "  - split: train\n",
      "    path: xxz_300_z/seed_09/d_train.parquet\n",
      "  - split: test\n",
      "    path: xxz_300_z/seed_09/d_test.parquet\n",
      "- config_name: xxz_300_z.seed10\n",
      "  data_files:\n",
      "  - split: train\n",
      "    path: xxz_300_z/seed_10/d_train.parquet\n",
      "  - split: test\n",
      "    path: xxz_300_z/seed_10/d_test.parquet\n",
      "- config_name: xxz_300_z.seed11\n",
      "  data_files:\n",
      "  - split: train\n",
      "    path: xxz_300_z/seed_11/d_train.parquet\n",
      "  - split: test\n",
      "    path: xxz_300_z/seed_11/d_test.parquet\n",
      "- config_name: xxz_300_z.seed12\n",
      "  data_files:\n",
      "  - split: train\n",
      "    path: xxz_300_z/seed_12/d_train.parquet\n",
      "  - split: test\n",
      "    path: xxz_300_z/seed_12/d_test.parquet\n",
      "- config_name: xxz_300_z.seed13\n",
      "  data_files:\n",
      "  - split: train\n",
      "    path: xxz_300_z/seed_13/d_train.parquet\n",
      "  - split: test\n",
      "    path: xxz_300_z/seed_13/d_test.parquet\n",
      "- config_name: xxz_300_z.seed14\n",
      "  data_files:\n",
      "  - split: train\n",
      "    path: xxz_300_z/seed_14/d_train.parquet\n",
      "  - split: test\n",
      "    path: xxz_300_z/seed_14/d_test.parquet\n",
      "- config_name: xxz_300_z.seed15\n",
      "  data_files:\n",
      "  - split: train\n",
      "    path: xxz_300_z/seed_15/d_train.parquet\n",
      "  - split: test\n",
      "    path: xxz_300_z/seed_15/d_test.parquet\n"
     ]
    }
   ],
   "source": [
    "import importlib\n",
    "importlib.reload(classifim_gen.io)\n",
    "print(classifim_gen.io.gen_config_yml(\n",
    "    sm_name=os.path.basename(HF_DATA_DIR),\n",
    "    seeds=sorted(data_seeds),\n",
    "    fim_seeds=[3,4]))"
   ]
  },
  {
   "cell_type": "markdown",
   "id": "8fdba0ea-1956-4bd6-9246-fb5ebd8fdc8e",
   "metadata": {},
   "source": [
    "## Scratch"
   ]
  },
  {
   "cell_type": "code",
   "execution_count": 8,
   "id": "52120517-d9a2-4cf8-8394-ff9a4ce27237",
   "metadata": {},
   "outputs": [
    {
     "name": "stdout",
     "output_type": "stream",
     "text": [
      "\n",
      "    test quote\n",
      "    a\n"
     ]
    }
   ],
   "source": [
    "print(\"\"\"\n",
    "    test quote\n",
    "    a\"\"\")"
   ]
  },
  {
   "cell_type": "code",
   "execution_count": 9,
   "id": "90c300e6-d4c1-4649-bb35-62f7e678c2dc",
   "metadata": {},
   "outputs": [
    {
     "ename": "AssertionError",
     "evalue": "",
     "output_type": "error",
     "traceback": [
      "\u001b[0;31m---------------------------------------------------------------------------\u001b[0m",
      "\u001b[0;31mAssertionError\u001b[0m                            Traceback (most recent call last)",
      "Cell \u001b[0;32mIn[9], line 12\u001b[0m\n\u001b[1;32m      9\u001b[0m     \u001b[38;5;241m.\u001b[39m\u001b[38;5;241m.\u001b[39m\u001b[38;5;241m.\u001b[39m \u001b[38;5;66;03m# TODO: implement\u001b[39;00m\n\u001b[1;32m     11\u001b[0m \u001b[38;5;66;03m# Test:\u001b[39;00m\n\u001b[0;32m---> 12\u001b[0m \u001b[38;5;28;01massert\u001b[39;00m trim_multiline(trim_multiline\u001b[38;5;241m.\u001b[39m\u001b[38;5;18m__doc__\u001b[39m) \u001b[38;5;241m==\u001b[39m \u001b[38;5;124m\"\"\"\u001b[39m\u001b[38;5;124mTrim a multiline string.\u001b[39m\n\u001b[1;32m     13\u001b[0m \n\u001b[1;32m     14\u001b[0m \u001b[38;5;124mThis removes:\u001b[39m\n\u001b[1;32m     15\u001b[0m \u001b[38;5;124m- leading and trailing whitespace\u001b[39m\n\u001b[1;32m     16\u001b[0m \u001b[38;5;124m- indentation common to all non-empty lines.\u001b[39m\u001b[38;5;124m\"\"\"\u001b[39m\n",
      "\u001b[0;31mAssertionError\u001b[0m: "
     ]
    }
   ],
   "source": [
    "def trim_multiline(s):\n",
    "    \"\"\"\n",
    "    Trim a multiline string.\n",
    "\n",
    "    This removes:\n",
    "    - leading and trailing whitespace\n",
    "    - indentation common to all non-empty lines.\n",
    "    \"\"\"\n",
    "    ... # TODO: implement\n",
    "\n",
    "# Test:\n",
    "assert trim_multiline(trim_multiline.__doc__) == \"\"\"Trim a multiline string.\n",
    "\n",
    "This removes:\n",
    "- leading and trailing whitespace\n",
    "- indentation common to all non-empty lines.\"\"\""
   ]
  },
  {
   "cell_type": "code",
   "execution_count": 18,
   "id": "5390169b-3eec-4183-adeb-59e005722a37",
   "metadata": {},
   "outputs": [],
   "source": [
    "def trim_multiline(s):\n",
    "    \"\"\"\n",
    "    Trim a multiline string.\n",
    "\n",
    "    This removes:\n",
    "    - leading whitespace-only lines,\n",
    "    - trailing whitespace,\n",
    "    - indentation common to all non-empty lines.\n",
    "    \"\"\"\n",
    "    # Step 1: remove trailing whitespace and split into lines:\n",
    "    lines = s.rstrip().splitlines()\n",
    "    min_indent = float('inf')\n",
    "\n",
    "    # Step 2: Remove leading whitespace\n",
    "    num_empty = len(lines)\n",
    "    for i, line in enumerate(lines):\n",
    "        if line.strip():\n",
    "            num_empty = i\n",
    "            break\n",
    "\n",
    "    # Step 3: Find the common indentation\n",
    "    for line in lines[num_empty:]:\n",
    "        stripped_line = line.lstrip()\n",
    "        if stripped_line:\n",
    "            indent = len(line) - len(stripped_line)\n",
    "            min_indent = min(min_indent, indent)\n",
    "\n",
    "    # Step 4: Join and return\n",
    "    return '\\n'.join(line[min_indent:] for line in lines[num_empty:])"
   ]
  },
  {
   "cell_type": "code",
   "execution_count": 19,
   "id": "15032278-f996-49b2-b0eb-2cc1061014df",
   "metadata": {},
   "outputs": [
    {
     "name": "stdout",
     "output_type": "stream",
     "text": [
      "Trim a multiline string.\n",
      "\n",
      "This removes:\n",
      "- leading whitespace-only lines,\n",
      "- trailing whitespace,\n",
      "- indentation common to all non-empty lines.\n"
     ]
    }
   ],
   "source": [
    "res = trim_multiline(trim_multiline.__doc__)\n",
    "print(res)"
   ]
  },
  {
   "cell_type": "code",
   "execution_count": null,
   "id": "f1d881df-a0d5-4a27-9ef9-f731a8e3011a",
   "metadata": {},
   "outputs": [],
   "source": []
  }
 ],
 "metadata": {
  "kernelspec": {
   "display_name": "Python [conda env:classifim]",
   "language": "python",
   "name": "conda-env-classifim-py"
  },
  "language_info": {
   "codemirror_mode": {
    "name": "ipython",
    "version": 3
   },
   "file_extension": ".py",
   "mimetype": "text/x-python",
   "name": "python",
   "nbconvert_exporter": "python",
   "pygments_lexer": "ipython3",
   "version": "3.10.11"
  }
 },
 "nbformat": 4,
 "nbformat_minor": 5
}
