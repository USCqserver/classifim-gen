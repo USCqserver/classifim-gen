{
 "cells": [
  {
   "cell_type": "markdown",
   "id": "e9e586c0-7eac-4959-a34c-4862e016bb0e",
   "metadata": {},
   "source": [
    "# FIL24"
   ]
  },
  {
   "cell_type": "markdown",
   "id": "37b9e843-eee5-44df-9732-0b005cc9aa50",
   "metadata": {},
   "source": [
    "## Init"
   ]
  },
  {
   "cell_type": "code",
   "execution_count": 11,
   "id": "9d67ea4c-5af9-4d04-9ac5-b083a562d101",
   "metadata": {},
   "outputs": [],
   "source": [
    "import classifim.bench.fidelity\n",
    "import classifim.bench.metric\n",
    "import classifim.bench.plot_tools\n",
    "import classifim.utils\n",
    "import classifim_gen.fil24_hamiltonian\n",
    "import classifim_gen.gs_cache\n",
    "import classifim_gen.gs_utils\n",
    "import classifim_gen.hubbard_hamiltonian\n",
    "import classifim_gen.io\n",
    "import concurrent.futures\n",
    "import functools\n",
    "import importlib\n",
    "import matplotlib\n",
    "import matplotlib.pyplot as plt\n",
    "import numpy as np\n",
    "import os\n",
    "import pandas as pd\n",
    "import pyarrow as pa\n",
    "import pyarrow.parquet as pq\n",
    "import scipy.sparse.linalg\n",
    "import sys\n",
    "from tqdm import tqdm"
   ]
  },
  {
   "cell_type": "markdown",
   "id": "84fa16d9-7ff2-4367-9f02-24894c7bab23",
   "metadata": {},
   "source": [
    "The following settings were used to generate the images for the main paper. They are commented out (the cell is made \"raw\" using CTRL+R, use CTRL+Y to make it \"code\") since they require a LaTeX installation with some fonts and packages used by matplotlib."
   ]
  },
  {
   "cell_type": "code",
   "execution_count": 2,
   "id": "86fda7a5-2ced-4d8b-bb42-869476986355",
   "metadata": {},
   "outputs": [],
   "source": [
    "# [Optional]: matplotlib.backend_bases.register_backend('pgf', FigureCanvasPgf)\n",
    "matplotlib.rcParams.update({\n",
    "    \"pgf.texsystem\": \"pdflatex\",\n",
    "    'font.family': 'serif',\n",
    "    'text.usetex': True,\n",
    "    'pgf.rcfonts': False,\n",
    "})"
   ]
  },
  {
   "cell_type": "code",
   "execution_count": 3,
   "id": "4bc2e741-8222-4ea0-b6d4-bf27831d53c0",
   "metadata": {},
   "outputs": [],
   "source": [
    "SM_NAME = \"fil_24\"\n",
    "DATA_DIR0 = classifim.utils.find_data_dir()\n",
    "assert os.path.isdir(DATA_DIR0)\n",
    "DATA_DIR = classifim.utils.maybe_create_subdir(DATA_DIR0, SM_NAME)\n",
    "\n",
    "HF_DATA_DIR0 = classifim.utils.find_data_dir(\"hf_data_dir\")\n",
    "HF_DATA_DIR = classifim.utils.maybe_create_subdir(HF_DATA_DIR0, SM_NAME)"
   ]
  },
  {
   "cell_type": "code",
   "execution_count": 4,
   "id": "86da147a-fc13-4c0e-9ec8-6e3cc6078731",
   "metadata": {},
   "outputs": [],
   "source": [
    "ham_family = classifim_gen.fil24_hamiltonian.CppFil1DFamily(\n",
    "    nsites=12, edge_dirs=[1, 3, 9, 11])\n",
    "param_conversions = classifim_gen.fil24_hamiltonian.Fil24ParamConversions()"
   ]
  },
  {
   "cell_type": "code",
   "execution_count": 5,
   "id": "58a7b521-a1bc-4aef-8e4f-55cdcdd09b41",
   "metadata": {},
   "outputs": [],
   "source": [
    "@functools.cache\n",
    "def get_lanczos_cache():\n",
    "    \"\"\"\n",
    "    Returns lanczos_cache without a way to compute new values.\n",
    "    \"\"\"\n",
    "    DATA_LANCZOS_DIR = os.path.join(DATA_DIR, \"lanczos\")\n",
    "    assert os.path.exists(DATA_LANCZOS_DIR)\n",
    "    return classifim_gen.gs_cache.GroundStateCache(\n",
    "        compute_ground_state=None,\n",
    "        param_keys=ham_family.PARAM_NAMES,\n",
    "        ham_name=SM_NAME.lower(),\n",
    "        save_path=DATA_LANCZOS_DIR,\n",
    "        load_meta=True,\n",
    "        filename_source=classifim_gen.gs_cache.FS_FILESYSTEM)"
   ]
  },
  {
   "cell_type": "markdown",
   "id": "3319badd-ed06-4e1b-9559-94481fbafedf",
   "metadata": {},
   "source": [
    "In binary notation $\\uparrow$ is $0$ and $\\downarrow$ is $1$, in $Z$ notation $\\uparrow$ is $1$ and $\\downarrow$ is $-1$. Dimensionality reduction is from $2^{24}$ to $704370$:"
   ]
  },
  {
   "cell_type": "code",
   "execution_count": 6,
   "id": "dad09931-4a40-4d28-9cb6-0edff6cd3ff8",
   "metadata": {},
   "outputs": [
    {
     "data": {
      "text/plain": [
       "704370"
      ]
     },
     "execution_count": 6,
     "metadata": {},
     "output_type": "execute_result"
    }
   ],
   "source": [
    "len(ham_family.vi_to_z)"
   ]
  },
  {
   "cell_type": "markdown",
   "id": "0e795811-91f3-490b-8c40-d5e578214625",
   "metadata": {
    "tags": []
   },
   "source": [
    "## Data generation"
   ]
  },
  {
   "cell_type": "markdown",
   "id": "7392ded9-9a3f-4194-aa00-8e4e0f8834db",
   "metadata": {},
   "source": [
    "### Lanczos"
   ]
  },
  {
   "cell_type": "markdown",
   "id": "cc815f8e-568d-4eff-b6a5-b4065817fc8b",
   "metadata": {},
   "source": [
    "* Requires: nothing\n",
    "* Generates: ground state vectors and probabilities in lanczos dir (but takes weeks to do so, use HPC instead)"
   ]
  },
  {
   "cell_type": "code",
   "execution_count": 5,
   "id": "78f457b8-eba9-4fbc-8981-a132f173f958",
   "metadata": {},
   "outputs": [],
   "source": [
    "def compute_lanczos_f(ncv, maxiter):\n",
    "    def compute_lanczos(params_vec):\n",
    "        return classifim_gen.gs_utils.compute_lanczos(\n",
    "            params_vec,\n",
    "            ham_family=ham_family,\n",
    "            k=4,\n",
    "            ncv=ncv,\n",
    "            maxiter=maxiter,\n",
    "            beta=1.0e7,\n",
    "            payload=None,\n",
    "            verbose=False\n",
    "        )\n",
    "    return compute_lanczos\n",
    "resolution = 64\n",
    "lambdas = np.array([(lambdai0 / resolution, lambdai1 / resolution) for lambdai0 in range(resolution) for lambdai1 in range(resolution)])\n",
    "param_vecs = np.array(param_conversions.lambdas_to_params(*lambdas.T)).T\n",
    "DATA_LANCZOS_DIR = classifim.utils.maybe_create_subdir(DATA_DIR, \"lanczos\")\n",
    "lanczos_cache = classifim.bench.GroundStateCache(\n",
    "    # ncv and maxiter need to be increased for some points.\n",
    "    compute_ground_state=compute_lanczos_f(40, 40),\n",
    "    param_keys=ham_family.PARAM_NAMES,\n",
    "    ham_name=SM_NAME.lower(),\n",
    "    save_path=DATA_LANCZOS_DIR,\n",
    "    load_meta=True,\n",
    "    filename_source=classifim_gen.gs_cache.FS_FILESYSTEM\n",
    ")"
   ]
  },
  {
   "cell_type": "code",
   "execution_count": null,
   "id": "96a8237c-ff70-4b3f-9ba3-e2d60566ff4c",
   "metadata": {},
   "outputs": [],
   "source": [
    "# This should compute \"ground state\" for all values of parameters in theory.\n",
    "# Takes weeks in practice.\n",
    "LOCK_FILE_PATH = os.path.join(DATA_LANCZOS_DIR, f\"{SM_NAME.lower()}_bench.lock\")\n",
    "num_success = 0\n",
    "num_error = 0\n",
    "num_skipped = 0\n",
    "done = False\n",
    "with classifim_gen.gs_utils.ProcessLockFile(LOCK_FILE_PATH) as process_lock:\n",
    "    print(f\"Locked using '{LOCK_FILE_PATH}'. Remove to stop softly.\")\n",
    "    try:\n",
    "        for ncv in (40, 60, 90, 130, 200):\n",
    "            if done or num_success + num_skipped >= param_vecs.shape[0]:\n",
    "                break\n",
    "            num_success = 0\n",
    "            num_error = 0\n",
    "            num_skipped = 0\n",
    "            # Use maxiter = ncv. This can be optimized further.\n",
    "            lanczos_cache.compute_ground_state = compute_lanczos_f(ncv, maxiter=ncv)\n",
    "            progress_printer = classifim.bench.ProgressPrinter()\n",
    "            progress_printer.pprintln(f\"Start time: {progress_printer.get_now_str()}\")\n",
    "            for param_vec in param_vecs:\n",
    "                if not process_lock.exists():\n",
    "                    progress_printer.pprintln(f\"\\rLock file '{LOCK_FILE_PATH}' removed; exiting.\")\n",
    "                    done = True\n",
    "                    break\n",
    "                try:\n",
    "                    res = lanczos_cache.get_ground_state(tuple(param_vec), load=False)\n",
    "                except classifim_gen.gs_cache.GroundStateComputationError:\n",
    "                    res = 'error'\n",
    "                if res is None:\n",
    "                    num_skipped += 1\n",
    "                    progress_printer.inc_i(char='.')\n",
    "                elif res == 'error':\n",
    "                    num_error += 1\n",
    "                    progress_printer.inc_i(char='E')\n",
    "                else:\n",
    "                    num_success += 1\n",
    "                    progress_printer.inc_i(char='S')\n",
    "            progress_printer.pprintln(f\"\\r{ncv=} done: {num_success=} {num_error=} {num_skipped=}\")\n",
    "    finally:\n",
    "        lanczos_cache.save_meta()\n",
    "        progress_printer.pprintln(f\"\\rEnd time: {progress_printer.get_now_str()}\")"
   ]
  },
  {
   "cell_type": "markdown",
   "id": "5883c21a-2053-4ecb-89f5-bff4cb26255a",
   "metadata": {},
   "source": [
    "### Generate datasets"
   ]
  },
  {
   "cell_type": "markdown",
   "id": "aa8676b0-dc5e-40c0-ac26-fa4622a4fa2c",
   "metadata": {},
   "source": [
    "* Requires: ground state probabilities in \"lanczos\" directory.\n",
    "* Generates: classifim_datasets"
   ]
  },
  {
   "cell_type": "code",
   "execution_count": 6,
   "id": "57d1e43b-c8dd-4490-8283-304c5c913d4a",
   "metadata": {},
   "outputs": [
    {
     "name": "stdout",
     "output_type": "stream",
     "text": [
      "params_vecs.shape=(4096, 3)\n"
     ]
    },
    {
     "name": "stderr",
     "output_type": "stream",
     "text": [
      "100%|███████████████████████████████████████████████████████████████████████████████████████████████████| 4096/4096 [11:52<00:00,  5.75it/s]\n"
     ]
    },
    {
     "name": "stdout",
     "output_type": "stream",
     "text": [
      "Dataset is saved to '/run/media/victor/ssd_T7_Victor/d/qc4ml/bschifc_data/neurips2023/fil24/classifim_datasets/dataset_41.npz'\n",
      "CPU times: user 5min 42s, sys: 17.4 s, total: 6min\n",
      "Wall time: 11min 52s\n"
     ]
    }
   ],
   "source": [
    "%%time\n",
    "BITCHIFC_DATASET_DIR = classifim.utils.maybe_create_subdir(DATA_DIR, \"classifim_datasets\")\n",
    "lanczos_cache = get_lanczos_cache()\n",
    "resolution = 64\n",
    "lambdas = np.array([\n",
    "    (lambda0, lambda1)\n",
    "    for lambda0 in np.arange(resolution) / resolution\n",
    "    for lambda1 in np.arange(resolution) / resolution])\n",
    "params_vecs = np.array(param_conversions.lambdas_to_params(*lambdas.T)).T\n",
    "print(f\"{params_vecs.shape=}\")\n",
    "datasets = classifim_gen.gs_utils.generate_datasets(\n",
    "    gs_cache=lanczos_cache,\n",
    "    lambdas=lambdas,\n",
    "    params_vecs=params_vecs,\n",
    "    vi_to_z=ham_family.vi_to_z,\n",
    "    seeds=(41,))\n",
    "    # seeds=range(42, 52))\n",
    "\n",
    "for dataset in datasets:\n",
    "    seed = dataset[\"seed\"]\n",
    "    dataset[\"zs\"] = ham_family.randomly_transform_z(dataset[\"zs\"], seed=seed + 1)\n",
    "    dataset[\"zs\"] = ham_family.repack_z_for_bschifc(dataset[\"zs\"])\n",
    "    dataset_file_name = os.path.join(BITCHIFC_DATASET_DIR, f\"dataset_{seed}.npz\")\n",
    "    np.savez_compressed(dataset_file_name, **dataset)\n",
    "    print(f\"Dataset is saved to '{dataset_file_name}'\")"
   ]
  },
  {
   "cell_type": "markdown",
   "id": "53e44268-a53e-4a0c-853b-2cda2f2fb8e9",
   "metadata": {},
   "source": [
    "### Convert to parquet"
   ]
  },
  {
   "cell_type": "code",
   "execution_count": 9,
   "id": "0117de14-61c8-4103-86cc-70dad86c5089",
   "metadata": {},
   "outputs": [
    {
     "name": "stdout",
     "output_type": "stream",
     "text": [
      "Done.\n"
     ]
    }
   ],
   "source": [
    "importlib.reload(classifim_gen.io)\n",
    "importlib.reload(classifim_gen.hubbard_hamiltonian)\n",
    "data_seeds = classifim_gen.io.save_datasets_for_hf(\n",
    "    convert_f=classifim_gen.hubbard_hamiltonian.convert_dataset_to_hf,\n",
    "    input_pattern=os.path.join(DATA_DIR, \"classifim_datasets\", \"dataset_{seed}.npz\"),\n",
    "    output_dir=HF_DATA_DIR,\n",
    "    overwrite=True)\n",
    "print(\"Done.\")"
   ]
  },
  {
   "cell_type": "code",
   "execution_count": 12,
   "id": "a2f40a06-992e-4197-a53e-a0216f2c2cde",
   "metadata": {},
   "outputs": [],
   "source": [
    "with np.load(os.path.join(DATA_DIR, \"fim\", \"gs_fim.npz\")) as f:\n",
    "    fim_npz = dict(f)\n",
    "gt_fim_filename = os.path.join(HF_DATA_DIR, \"gt_fim.parquet\")\n",
    "pq.write_table(pa.Table.from_pydict(fim_npz), gt_fim_filename)"
   ]
  },
  {
   "cell_type": "code",
   "execution_count": 13,
   "id": "868754c4-1000-44f8-a50f-93683bed3086",
   "metadata": {},
   "outputs": [
    {
     "name": "stdout",
     "output_type": "stream",
     "text": [
      "- config_name: fil_24.gt_fim\n",
      "  data_files:\n",
      "  - split: test\n",
      "    path: fil_24/gt_fim.parquet\n",
      "- config_name: fil_24.seed41\n",
      "  data_files:\n",
      "  - split: train\n",
      "    path: fil_24/seed_41/d_train.parquet\n",
      "  - split: test\n",
      "    path: fil_24/seed_41/d_test.parquet\n",
      "- config_name: fil_24.seed42\n",
      "  data_files:\n",
      "  - split: train\n",
      "    path: fil_24/seed_42/d_train.parquet\n",
      "  - split: test\n",
      "    path: fil_24/seed_42/d_test.parquet\n",
      "- config_name: fil_24.seed43\n",
      "  data_files:\n",
      "  - split: train\n",
      "    path: fil_24/seed_43/d_train.parquet\n",
      "  - split: test\n",
      "    path: fil_24/seed_43/d_test.parquet\n",
      "- config_name: fil_24.seed44\n",
      "  data_files:\n",
      "  - split: train\n",
      "    path: fil_24/seed_44/d_train.parquet\n",
      "  - split: test\n",
      "    path: fil_24/seed_44/d_test.parquet\n",
      "- config_name: fil_24.seed45\n",
      "  data_files:\n",
      "  - split: train\n",
      "    path: fil_24/seed_45/d_train.parquet\n",
      "  - split: test\n",
      "    path: fil_24/seed_45/d_test.parquet\n",
      "- config_name: fil_24.seed46\n",
      "  data_files:\n",
      "  - split: train\n",
      "    path: fil_24/seed_46/d_train.parquet\n",
      "  - split: test\n",
      "    path: fil_24/seed_46/d_test.parquet\n",
      "- config_name: fil_24.seed47\n",
      "  data_files:\n",
      "  - split: train\n",
      "    path: fil_24/seed_47/d_train.parquet\n",
      "  - split: test\n",
      "    path: fil_24/seed_47/d_test.parquet\n",
      "- config_name: fil_24.seed48\n",
      "  data_files:\n",
      "  - split: train\n",
      "    path: fil_24/seed_48/d_train.parquet\n",
      "  - split: test\n",
      "    path: fil_24/seed_48/d_test.parquet\n",
      "- config_name: fil_24.seed49\n",
      "  data_files:\n",
      "  - split: train\n",
      "    path: fil_24/seed_49/d_train.parquet\n",
      "  - split: test\n",
      "    path: fil_24/seed_49/d_test.parquet\n",
      "- config_name: fil_24.seed50\n",
      "  data_files:\n",
      "  - split: train\n",
      "    path: fil_24/seed_50/d_train.parquet\n",
      "  - split: test\n",
      "    path: fil_24/seed_50/d_test.parquet\n",
      "- config_name: fil_24.seed51\n",
      "  data_files:\n",
      "  - split: train\n",
      "    path: fil_24/seed_51/d_train.parquet\n",
      "  - split: test\n",
      "    path: fil_24/seed_51/d_test.parquet\n"
     ]
    }
   ],
   "source": [
    "import importlib\n",
    "importlib.reload(classifim_gen.io)\n",
    "print(classifim_gen.io.gen_config_yml(\n",
    "    sm_name=os.path.basename(HF_DATA_DIR),\n",
    "    seeds=sorted(data_seeds),\n",
    "    fim_seeds=None))"
   ]
  },
  {
   "cell_type": "markdown",
   "id": "47fca825-fb1a-4043-913f-6a266b251b8e",
   "metadata": {},
   "source": [
    "## Benchmarking"
   ]
  },
  {
   "cell_type": "markdown",
   "id": "0d0968a9-2b85-4746-a5fd-4c5709a9ada1",
   "metadata": {},
   "source": [
    "### Compute ground truth FIM"
   ]
  },
  {
   "cell_type": "markdown",
   "id": "e756fe6e-95a4-40f3-ab06-b1a3d37e0441",
   "metadata": {},
   "source": [
    "* Requires: ground state probabilities in \"lanczos\" directory.\n",
    "* Generates: ground truth ChiFc (`fim/gs_fim.npz`)"
   ]
  },
  {
   "cell_type": "code",
   "execution_count": 7,
   "id": "67265106-479b-40dd-b1da-58b234629f7c",
   "metadata": {},
   "outputs": [
    {
     "name": "stderr",
     "output_type": "stream",
     "text": [
      "  0%|                                                                                                                                                  | 0/16384 [00:00<?, ?it/s]"
     ]
    },
    {
     "ename": "KeyError",
     "evalue": "'fim'",
     "output_type": "error",
     "traceback": [
      "\u001b[0;31m---------------------------------------------------------------------------\u001b[0m",
      "\u001b[0;31mKeyError\u001b[0m                                  Traceback (most recent call last)",
      "File \u001b[0;32m<timed exec>:4\u001b[0m\n",
      "File \u001b[0;32m~/Dropbox (Lidar group)/qc4ml_work/bs_chifc/classifim/src/classifim_bench/fidelity.py:105\u001b[0m, in \u001b[0;36mcompute_2d_fim\u001b[0;34m(lambdas_to_params_f, probs_cache, probs_f, resolution, fidelity_f, verbose)\u001b[0m\n\u001b[1;32m    103\u001b[0m     res[\u001b[38;5;124m\"\u001b[39m\u001b[38;5;124mlambda1\u001b[39m\u001b[38;5;124m\"\u001b[39m]\u001b[38;5;241m.\u001b[39mappend(mid_lambda[\u001b[38;5;241m1\u001b[39m])\n\u001b[1;32m    104\u001b[0m     res[\u001b[38;5;124m\"\u001b[39m\u001b[38;5;124mdir\u001b[39m\u001b[38;5;124m\"\u001b[39m]\u001b[38;5;241m.\u001b[39mappend(direction)\n\u001b[0;32m--> 105\u001b[0m     \u001b[43mres\u001b[49m\u001b[43m[\u001b[49m\u001b[38;5;124;43m\"\u001b[39;49m\u001b[38;5;124;43mfim\u001b[39;49m\u001b[38;5;124;43m\"\u001b[39;49m\u001b[43m]\u001b[49m\u001b[38;5;241m.\u001b[39mappend(fim)\n\u001b[1;32m    106\u001b[0m \u001b[38;5;28;01mif\u001b[39;00m verbose:\n\u001b[1;32m    107\u001b[0m     pbar\u001b[38;5;241m.\u001b[39mupdate()\n",
      "\u001b[0;31mKeyError\u001b[0m: 'fim'"
     ]
    }
   ],
   "source": [
    "%%time\n",
    "FIM_DIR = classifim.utils.maybe_create_subdir(DATA_DIR, \"fim\")\n",
    "lanczos_cache = get_lanczos_cache()\n",
    "\n",
    "gs_fim = classifim.bench.fidelity.compute_2d_fim(\n",
    "    param_conversions.lambdas_to_params, lanczos_cache,\n",
    "    resolution=64, verbose=True)\n",
    "\n",
    "gs_fim_npz = {}\n",
    "for key, value in gs_fim.items():\n",
    "    np_value = value.to_numpy()\n",
    "    if np_value.dtype == object:\n",
    "        np_value = np_value.astype(bytes)\n",
    "    gs_fim_npz[key] = np_value\n",
    "\n",
    "file_name = os.path.join(FIM_DIR, \"gs_fim.npz\")\n",
    "np.savez_compressed(\n",
    "    file_name,\n",
    "    **gs_fim_npz)\n",
    "print(f\"gs_fim saved to '{file_name}'\")"
   ]
  },
  {
   "cell_type": "markdown",
   "id": "d1e58859-194d-4860-a903-4d4af2ab3ff2",
   "metadata": {},
   "source": [
    "### Load FIM"
   ]
  },
  {
   "cell_type": "markdown",
   "id": "43551662-11c3-4306-8c5f-0af9fcb9fa96",
   "metadata": {},
   "source": [
    "* Requires:\n",
    "    - ground truth ChiFc (`fim/gs_fim.npz`)\n",
    "    - estimated ChiFc (`fim/{ml_model_name}*.npz`)\n",
    "* Loads ChiFc into global variables `gs_fim`, `gs_fim_mgrid`, `ML_NAME`, `ml_fims`, `ml_fim_mgrids`."
   ]
  },
  {
   "cell_type": "code",
   "execution_count": 10,
   "id": "d73a5e1a-eda5-4d8a-80c8-f789b9edb7f9",
   "metadata": {},
   "outputs": [],
   "source": [
    "FIM_DIR = os.path.join(DATA_DIR, \"fim\")"
   ]
  },
  {
   "cell_type": "code",
   "execution_count": 11,
   "id": "31f0a9b7-9a12-4ce8-9f82-fdff4048053b",
   "metadata": {},
   "outputs": [],
   "source": [
    "# Load ground truth FIM:\n",
    "gs_fim_filename = os.path.join(FIM_DIR, \"gs_fim.npz\")\n",
    "gs_fim = classifim.bench.fidelity.as_data_frame(np.load(gs_fim_filename), decode=True)\n",
    "gs_fim_mgrid = classifim.bench.fidelity.meshgrid_transform_2D_fim(gs_fim)"
   ]
  },
  {
   "cell_type": "code",
   "execution_count": 12,
   "id": "83423937-313a-431c-bd94-5adad3028ff7",
   "metadata": {},
   "outputs": [],
   "source": [
    "# Load estimated FIM:\n",
    "ML_NAME = \"9_reshuffle\"\n",
    "ML_FIM_PATH = os.path.join(FIM_DIR, f\"{ML_NAME}_\" + \"{seed}.npz\")\n",
    "ml_fims = {}\n",
    "ml_fim_mgrids = {}\n",
    "for ml_fim_seed in range(41, 52): # TODO:9: change back to range(42, 52)\n",
    "    ml_fim_npz = np.load(ML_FIM_PATH.format(seed=ml_fim_seed))\n",
    "    ml_fim = classifim.bench.fidelity.as_data_frame(ml_fim_npz)\n",
    "    ml_fims[ml_fim_seed] = ml_fim\n",
    "    ml_fim_mgrids[ml_fim_seed] = classifim.bench.plot_tools.df_to_meshgrid(\n",
    "        ml_fim, x_col='lambda0', y_col='lambda1')"
   ]
  },
  {
   "cell_type": "markdown",
   "id": "c5c00911-c462-4d46-a10d-3549b3248bcf",
   "metadata": {},
   "source": [
    "### 1D \"phase\" diagrams"
   ]
  },
  {
   "cell_type": "markdown",
   "id": "c22b6f54-5f4b-44d8-9203-0e56556e0580",
   "metadata": {},
   "source": [
    "* Requires:\n",
    "    - Run \"Load ChiFc\" section above\n",
    "* Produces 1D plots of ground truth and predicted fidelity susceptibility."
   ]
  },
  {
   "cell_type": "code",
   "execution_count": 39,
   "id": "25350f8a-ec9e-418d-979c-6ad0428e6fed",
   "metadata": {},
   "outputs": [
    {
     "name": "stdout",
     "output_type": "stream",
     "text": [
      "Saved to '/run/media/victor/ssd_T7_Victor/d/qc4ml/bschifc_data/neurips2023/fil24/figs/chifc_9_reshuffle_lambda1_12b-6_thin.png'\n"
     ]
    },
    {
     "data": {
      "image/png": "[encoded data removed]",
      "text/plain": [
       "<Figure size 650x250 with 1 Axes>"
      ]
     },
     "metadata": {},
     "output_type": "display_data"
    }
   ],
   "source": [
    "font = {'family' : 'serif', 'weight' : 'bold', 'size'   : 18}\n",
    "matplotlib.rc('font', **font)\n",
    "\n",
    "FIG_DIR = classifim.utils.maybe_create_subdir(DATA_DIR, \"figs\")\n",
    "file_name = os.path.join(FIG_DIR, f\"chifc_{ML_NAME}_\" + \"lambda{fixed_lambda_index}_{fixed_lambda_int_val}b-6_thin.png\")\n",
    "classifim.bench.plot_tools.plot_fim_df_1d(\n",
    "    gs_chifc,\n",
    "    list(ml_chifcs.values()),\n",
    "    fixed_lambda=(1, 12),\n",
    "    ymax=880,\n",
    "    sm_name=\"FIL24\",\n",
    "    file_name=file_name,\n",
    "    figsize=(6.5,2.5),\n",
    "    savefig_kwargs={\"dpi\": 300},\n",
    "    verbose=True # Change to True to print the file name\n",
    ")"
   ]
  },
  {
   "cell_type": "markdown",
   "id": "0cdf3122-a40b-488c-8b6b-59ccc3684689",
   "metadata": {},
   "source": [
    "### 2D \"phase\" diagrams"
   ]
  },
  {
   "cell_type": "markdown",
   "id": "8a2f0fd9-1aca-491d-9dc0-4ae820e7b7bd",
   "metadata": {},
   "source": [
    "* Requires:\n",
    "    - Run \"Load ChiFc\" section above\n",
    "* Produces 2D plots of ground truth and predicted fidelity susceptibility."
   ]
  },
  {
   "cell_type": "code",
   "execution_count": 34,
   "id": "37c2b3a5-37a6-4b57-927f-9b1cc92cc593",
   "metadata": {},
   "outputs": [
    {
     "name": "stdout",
     "output_type": "stream",
     "text": [
      "Saved to '/run/media/victor/ssd_T7_Victor/d/qc4ml/bschifc_data/neurips2023/fil24/figs/phase_42.png'.\n"
     ]
    },
    {
     "data": {
      "image/png": "[encoded data removed]",
      "text/plain": [
       "<Figure size 1650x500 with 3 Axes>"
      ]
     },
     "metadata": {},
     "output_type": "display_data"
    }
   ],
   "source": [
    "FIG_DIR = classifim.utils.maybe_create_subdir(DATA_DIR, \"figs\")\n",
    "ml_chifc_seed = 42\n",
    "res = plt.rcParams.update({'font.size': 11})\n",
    "fig, axs = plt.subplots(ncols=3, figsize=(3 * 5.5, 5))\n",
    "(ax0, ax1, ax2) = axs\n",
    "\n",
    "classifim.bench.plot_tools.plot_fim_mgrid_legend(ax0, r0=0)\n",
    "\n",
    "zz_max = 54\n",
    "classifim.bench.plot_tools.plot_fim_mgrid(ax1, ml_chifc_mgrids[ml_chifc_seed], zz_max=zz_max)\n",
    "ax1.set_title(\"ClassiFIM, from $\\simeq 126$ bitstrings per $\\mathbf{\\lambda}$\")\n",
    "\n",
    "classifim.bench.plot_tools.plot_fim_mgrid(ax2, gs_chifc_mgrid, zz_max=zz_max)\n",
    "ax2.set_title(\"Ground truth, from 704370 probabilities per $\\mathbf{\\lambda}$\")\n",
    "\n",
    "file_name = os.path.join(FIG_DIR, f\"phase_{ml_chifc_seed}.png\")\n",
    "fig.savefig(file_name, bbox_inches='tight')\n",
    "print(f\"Saved to '{file_name}'.\")"
   ]
  },
  {
   "cell_type": "markdown",
   "id": "afd2a5a0-69b3-450a-8021-42caa5c05e00",
   "metadata": {},
   "source": [
    "### Test error"
   ]
  },
  {
   "cell_type": "code",
   "execution_count": 6,
   "id": "7ab0cdb5-2d85-4bba-a8b8-7ac0c89fc7f5",
   "metadata": {},
   "outputs": [
    {
     "name": "stdout",
     "output_type": "stream",
     "text": [
      "0.2422 \\pm 0.0008\n"
     ]
    }
   ],
   "source": []
  },
  {
   "cell_type": "markdown",
   "id": "98443436-6d6d-44fb-8d68-2ffaed13bf04",
   "metadata": {},
   "source": [
    "### Compute dist metrics"
   ]
  },
  {
   "cell_type": "markdown",
   "id": "af4e58d8-e9dd-4058-9bc6-a799da0f3635",
   "metadata": {},
   "source": [
    "* Requires:\n",
    "    - Run \"Load FIM\" section above\n",
    "* Produces: `metrics/dist_res.npz` with distSE values, distMSE & distRE metrics"
   ]
  },
  {
   "cell_type": "code",
   "execution_count": 13,
   "id": "6856c871-39be-4671-a81d-3a2db7f8d0f1",
   "metadata": {},
   "outputs": [],
   "source": [
    "METRICS_DIR = classifim.utils.maybe_create_subdir(DATA_DIR, \"metrics\")"
   ]
  },
  {
   "cell_type": "code",
   "execution_count": 23,
   "id": "c8cca441-66f9-4bc4-a833-80b977bc09fe",
   "metadata": {},
   "outputs": [
    {
     "name": "stdout",
     "output_type": "stream",
     "text": [
      "CPU times: user 2h 13min 14s, sys: 1min 53s, total: 2h 15min 7s\n",
      "Wall time: 1h 40min 55s\n"
     ]
    }
   ],
   "source": [
    "%%time\n",
    "res = {}\n",
    "def wrapper(ml_fim_seed):\n",
    "    prng = classifim.utils.DeterministicPrng(ml_fim_seed)\n",
    "    cur_res = classifim.bench.metric.compute_distance_errors(\n",
    "        ml_fim_mgrids[ml_fim_seed], gs_fim_mgrid, num_pairs=8386560,\n",
    "        seed=prng.get_seed(\"compute_distance_errors\"),\n",
    "        use_cpp=True)\n",
    "    res[ml_fim_seed] = cur_res\n",
    "    return ml_fim_seed\n",
    "with concurrent.futures.ThreadPoolExecutor() as executor:\n",
    "    r = list(executor.map(wrapper, range(42, 52)))"
   ]
  },
  {
   "cell_type": "code",
   "execution_count": 24,
   "id": "fad35037-ed98-4a06-8b22-b27143561b9a",
   "metadata": {},
   "outputs": [],
   "source": [
    "dist_res = {}\n",
    "for key in next(iter(res.values())).keys():\n",
    "    value = np.array([r[key] for r in res.values()])\n",
    "    dist_res[key] = value\n",
    "dist_res[\"ml_chifc_seed\"] = np.array(list(res.keys()))\n",
    "DIST_RES_PATH = os.path.join(METRICS_DIR, \"dist_res.npz\")\n",
    "np.savez_compressed(DIST_RES_PATH, **dist_res)"
   ]
  },
  {
   "cell_type": "markdown",
   "id": "e6803af0-5f72-4661-a9aa-12f08baf367b",
   "metadata": {},
   "source": [
    "### Print dist metrics"
   ]
  },
  {
   "cell_type": "code",
   "execution_count": 24,
   "id": "2af909e2-4b92-4aa6-abc9-09e58e2bf161",
   "metadata": {},
   "outputs": [
    {
     "data": {
      "text/html": [
       "<div>\n",
       "<style scoped>\n",
       "    .dataframe tbody tr th:only-of-type {\n",
       "        vertical-align: middle;\n",
       "    }\n",
       "\n",
       "    .dataframe tbody tr th {\n",
       "        vertical-align: top;\n",
       "    }\n",
       "\n",
       "    .dataframe thead th {\n",
       "        text-align: right;\n",
       "    }\n",
       "</style>\n",
       "<table border=\"1\" class=\"dataframe\">\n",
       "  <thead>\n",
       "    <tr style=\"text-align: right;\">\n",
       "      <th></th>\n",
       "      <th>num_pairs</th>\n",
       "      <th>distMSE</th>\n",
       "      <th>distRE</th>\n",
       "      <th>distMSE_const</th>\n",
       "      <th>distRE_const</th>\n",
       "      <th>distRE_perfect</th>\n",
       "      <th>distMSE_perfect_scale</th>\n",
       "      <th>scale</th>\n",
       "    </tr>\n",
       "    <tr>\n",
       "      <th>ml_chifc_seed</th>\n",
       "      <th></th>\n",
       "      <th></th>\n",
       "      <th></th>\n",
       "      <th></th>\n",
       "      <th></th>\n",
       "      <th></th>\n",
       "      <th></th>\n",
       "      <th></th>\n",
       "    </tr>\n",
       "  </thead>\n",
       "  <tbody>\n",
       "    <tr>\n",
       "      <th>41</th>\n",
       "      <td>5120</td>\n",
       "      <td>0.123124</td>\n",
       "      <td>0.043975</td>\n",
       "      <td>1.039071</td>\n",
       "      <td>0.251863</td>\n",
       "      <td>0.0</td>\n",
       "      <td>0.07487</td>\n",
       "      <td>1.112497</td>\n",
       "    </tr>\n",
       "  </tbody>\n",
       "</table>\n",
       "</div>"
      ],
      "text/plain": [
       "               num_pairs   distMSE    distRE  distMSE_const  distRE_const  \\\n",
       "ml_chifc_seed                                                               \n",
       "41                  5120  0.123124  0.043975       1.039071      0.251863   \n",
       "\n",
       "               distRE_perfect  distMSE_perfect_scale     scale  \n",
       "ml_chifc_seed                                                   \n",
       "41                        0.0                0.07487  1.112497  "
      ]
     },
     "metadata": {},
     "output_type": "display_data"
    },
    {
     "data": {
      "text/html": [
       "<div>\n",
       "<style scoped>\n",
       "    .dataframe tbody tr th:only-of-type {\n",
       "        vertical-align: middle;\n",
       "    }\n",
       "\n",
       "    .dataframe tbody tr th {\n",
       "        vertical-align: top;\n",
       "    }\n",
       "\n",
       "    .dataframe thead th {\n",
       "        text-align: right;\n",
       "    }\n",
       "</style>\n",
       "<table border=\"1\" class=\"dataframe\">\n",
       "  <thead>\n",
       "    <tr style=\"text-align: right;\">\n",
       "      <th></th>\n",
       "      <th>num_pairs</th>\n",
       "      <th>distMSE</th>\n",
       "      <th>distRE</th>\n",
       "      <th>distMSE_const</th>\n",
       "      <th>distRE_const</th>\n",
       "      <th>distRE_perfect</th>\n",
       "      <th>distMSE_perfect_scale</th>\n",
       "      <th>scale</th>\n",
       "    </tr>\n",
       "    <tr>\n",
       "      <th>ml_chifc_seed</th>\n",
       "      <th></th>\n",
       "      <th></th>\n",
       "      <th></th>\n",
       "      <th></th>\n",
       "      <th></th>\n",
       "      <th></th>\n",
       "      <th></th>\n",
       "      <th></th>\n",
       "    </tr>\n",
       "  </thead>\n",
       "  <tbody>\n",
       "    <tr>\n",
       "      <th>41</th>\n",
       "      <td>287075</td>\n",
       "      <td>0.114975</td>\n",
       "      <td>0.043815</td>\n",
       "      <td>1.054441</td>\n",
       "      <td>0.255866</td>\n",
       "      <td>0.0</td>\n",
       "      <td>0.069347</td>\n",
       "      <td>1.110588</td>\n",
       "    </tr>\n",
       "  </tbody>\n",
       "</table>\n",
       "</div>"
      ],
      "text/plain": [
       "               num_pairs   distMSE    distRE  distMSE_const  distRE_const  \\\n",
       "ml_chifc_seed                                                               \n",
       "41                287075  0.114975  0.043815       1.054441      0.255866   \n",
       "\n",
       "               distRE_perfect  distMSE_perfect_scale     scale  \n",
       "ml_chifc_seed                                                   \n",
       "41                        0.0               0.069347  1.110588  "
      ]
     },
     "metadata": {},
     "output_type": "display_data"
    },
    {
     "data": {
      "text/html": [
       "<div>\n",
       "<style scoped>\n",
       "    .dataframe tbody tr th:only-of-type {\n",
       "        vertical-align: middle;\n",
       "    }\n",
       "\n",
       "    .dataframe tbody tr th {\n",
       "        vertical-align: top;\n",
       "    }\n",
       "\n",
       "    .dataframe thead th {\n",
       "        text-align: right;\n",
       "    }\n",
       "</style>\n",
       "<table border=\"1\" class=\"dataframe\">\n",
       "  <thead>\n",
       "    <tr style=\"text-align: right;\">\n",
       "      <th></th>\n",
       "      <th>num_pairs</th>\n",
       "      <th>distMSE</th>\n",
       "      <th>distRE</th>\n",
       "      <th>distMSE_const</th>\n",
       "      <th>distRE_const</th>\n",
       "      <th>distRE_perfect</th>\n",
       "      <th>distMSE_perfect_scale</th>\n",
       "      <th>scale</th>\n",
       "    </tr>\n",
       "    <tr>\n",
       "      <th>ml_chifc_seed</th>\n",
       "      <th></th>\n",
       "      <th></th>\n",
       "      <th></th>\n",
       "      <th></th>\n",
       "      <th></th>\n",
       "      <th></th>\n",
       "      <th></th>\n",
       "      <th></th>\n",
       "    </tr>\n",
       "  </thead>\n",
       "  <tbody>\n",
       "    <tr>\n",
       "      <th>41</th>\n",
       "      <td>287075</td>\n",
       "      <td>0.493827</td>\n",
       "      <td>0.110514</td>\n",
       "      <td>1.054441</td>\n",
       "      <td>0.255866</td>\n",
       "      <td>0.0</td>\n",
       "      <td>0.278476</td>\n",
       "      <td>1.284387</td>\n",
       "    </tr>\n",
       "  </tbody>\n",
       "</table>\n",
       "</div>"
      ],
      "text/plain": [
       "               num_pairs   distMSE    distRE  distMSE_const  distRE_const  \\\n",
       "ml_chifc_seed                                                               \n",
       "41                287075  0.493827  0.110514       1.054441      0.255866   \n",
       "\n",
       "               distRE_perfect  distMSE_perfect_scale     scale  \n",
       "ml_chifc_seed                                                   \n",
       "41                        0.0               0.278476  1.284387  "
      ]
     },
     "metadata": {},
     "output_type": "display_data"
    },
    {
     "data": {
      "text/html": [
       "<div>\n",
       "<style scoped>\n",
       "    .dataframe tbody tr th:only-of-type {\n",
       "        vertical-align: middle;\n",
       "    }\n",
       "\n",
       "    .dataframe tbody tr th {\n",
       "        vertical-align: top;\n",
       "    }\n",
       "\n",
       "    .dataframe thead th {\n",
       "        text-align: right;\n",
       "    }\n",
       "</style>\n",
       "<table border=\"1\" class=\"dataframe\">\n",
       "  <thead>\n",
       "    <tr style=\"text-align: right;\">\n",
       "      <th></th>\n",
       "      <th>num_pairs</th>\n",
       "      <th>distMSE</th>\n",
       "      <th>distRE</th>\n",
       "      <th>distMSE_const</th>\n",
       "      <th>distRE_const</th>\n",
       "      <th>distRE_perfect</th>\n",
       "      <th>distMSE_perfect_scale</th>\n",
       "      <th>scale</th>\n",
       "    </tr>\n",
       "    <tr>\n",
       "      <th>ml_chifc_seed</th>\n",
       "      <th></th>\n",
       "      <th></th>\n",
       "      <th></th>\n",
       "      <th></th>\n",
       "      <th></th>\n",
       "      <th></th>\n",
       "      <th></th>\n",
       "      <th></th>\n",
       "    </tr>\n",
       "  </thead>\n",
       "  <tbody>\n",
       "    <tr>\n",
       "      <th>41</th>\n",
       "      <td>287075</td>\n",
       "      <td>0.114975</td>\n",
       "      <td>0.043815</td>\n",
       "      <td>1.054441</td>\n",
       "      <td>0.255866</td>\n",
       "      <td>0.0</td>\n",
       "      <td>0.069347</td>\n",
       "      <td>1.110588</td>\n",
       "    </tr>\n",
       "  </tbody>\n",
       "</table>\n",
       "</div>"
      ],
      "text/plain": [
       "               num_pairs   distMSE    distRE  distMSE_const  distRE_const  \\\n",
       "ml_chifc_seed                                                               \n",
       "41                287075  0.114975  0.043815       1.054441      0.255866   \n",
       "\n",
       "               distRE_perfect  distMSE_perfect_scale     scale  \n",
       "ml_chifc_seed                                                   \n",
       "41                        0.0               0.069347  1.110588  "
      ]
     },
     "metadata": {},
     "output_type": "display_data"
    }
   ],
   "source": [
    "# TODO:6: delete this cell (keep the one below with dist_res.npz instead)\n",
    "METRICS_DIR = os.path.join(DATA_DIR, \"metrics\")\n",
    "for version in (\"_tmp\", \"_tmp2\", \"_tmp3\", \"_tmp4\"):\n",
    "    dist_res_filename = os.path.join(METRICS_DIR, f\"dist_res{version}.npz\")\n",
    "    dist_res = np.load(dist_res_filename)\n",
    "    df = {key: value for key, value in dist_res.items() if len(value.shape) == 1}\n",
    "    df = pd.DataFrame(df)\n",
    "    df.set_index(\"ml_chifc_seed\", inplace=True)\n",
    "\n",
    "    display(df)"
   ]
  },
  {
   "cell_type": "code",
   "execution_count": 16,
   "id": "48ea1f85-47c6-45ca-bb8a-00aa473ae921",
   "metadata": {},
   "outputs": [
    {
     "name": "stdout",
     "output_type": "stream",
     "text": [
      "['num_pairs', 'lambda_pairs', 'distances', 'distMSE', 'distRE', 'distMSE_const', 'distRE_const', 'distRE_perfect', 'distMSE_perfect_scale', 'scale', 'ml_chifc_seed']\n"
     ]
    }
   ],
   "source": [
    "with np.load(dist_res_filename) as f:\n",
    "    print(list(f.keys()))"
   ]
  },
  {
   "cell_type": "code",
   "execution_count": 17,
   "id": "dec24df7-aea7-446d-8c3b-fce847e92699",
   "metadata": {},
   "outputs": [
    {
     "data": {
      "text/html": [
       "<div>\n",
       "<style scoped>\n",
       "    .dataframe tbody tr th:only-of-type {\n",
       "        vertical-align: middle;\n",
       "    }\n",
       "\n",
       "    .dataframe tbody tr th {\n",
       "        vertical-align: top;\n",
       "    }\n",
       "\n",
       "    .dataframe thead th {\n",
       "        text-align: right;\n",
       "    }\n",
       "</style>\n",
       "<table border=\"1\" class=\"dataframe\">\n",
       "  <thead>\n",
       "    <tr style=\"text-align: right;\">\n",
       "      <th></th>\n",
       "      <th>num_pairs</th>\n",
       "      <th>distMSE</th>\n",
       "      <th>distRE</th>\n",
       "      <th>distMSE_const</th>\n",
       "      <th>distRE_const</th>\n",
       "      <th>distRE_perfect</th>\n",
       "      <th>distMSE_perfect_scale</th>\n",
       "      <th>scale</th>\n",
       "    </tr>\n",
       "    <tr>\n",
       "      <th>ml_chifc_seed</th>\n",
       "      <th></th>\n",
       "      <th></th>\n",
       "      <th></th>\n",
       "      <th></th>\n",
       "      <th></th>\n",
       "      <th></th>\n",
       "      <th></th>\n",
       "      <th></th>\n",
       "    </tr>\n",
       "  </thead>\n",
       "  <tbody>\n",
       "    <tr>\n",
       "      <th>43</th>\n",
       "      <td>8386560</td>\n",
       "      <td>0.457575</td>\n",
       "      <td>0.042942</td>\n",
       "      <td>4.207848</td>\n",
       "      <td>0.255958</td>\n",
       "      <td>8.815035e-13</td>\n",
       "      <td>0.279303</td>\n",
       "      <td>1.109370</td>\n",
       "    </tr>\n",
       "    <tr>\n",
       "      <th>48</th>\n",
       "      <td>8386560</td>\n",
       "      <td>0.469291</td>\n",
       "      <td>0.043967</td>\n",
       "      <td>4.207848</td>\n",
       "      <td>0.255958</td>\n",
       "      <td>8.815035e-13</td>\n",
       "      <td>0.289217</td>\n",
       "      <td>1.110015</td>\n",
       "    </tr>\n",
       "    <tr>\n",
       "      <th>47</th>\n",
       "      <td>8386560</td>\n",
       "      <td>0.424193</td>\n",
       "      <td>0.041681</td>\n",
       "      <td>4.207848</td>\n",
       "      <td>0.255958</td>\n",
       "      <td>8.815035e-13</td>\n",
       "      <td>0.268281</td>\n",
       "      <td>1.101527</td>\n",
       "    </tr>\n",
       "    <tr>\n",
       "      <th>45</th>\n",
       "      <td>8386560</td>\n",
       "      <td>0.458561</td>\n",
       "      <td>0.043924</td>\n",
       "      <td>4.207848</td>\n",
       "      <td>0.255958</td>\n",
       "      <td>8.815035e-13</td>\n",
       "      <td>0.272671</td>\n",
       "      <td>1.111918</td>\n",
       "    </tr>\n",
       "    <tr>\n",
       "      <th>51</th>\n",
       "      <td>8386560</td>\n",
       "      <td>0.478792</td>\n",
       "      <td>0.043647</td>\n",
       "      <td>4.207848</td>\n",
       "      <td>0.255958</td>\n",
       "      <td>8.815035e-13</td>\n",
       "      <td>0.270840</td>\n",
       "      <td>1.119136</td>\n",
       "    </tr>\n",
       "    <tr>\n",
       "      <th>46</th>\n",
       "      <td>8386560</td>\n",
       "      <td>0.549583</td>\n",
       "      <td>0.047364</td>\n",
       "      <td>4.207848</td>\n",
       "      <td>0.255958</td>\n",
       "      <td>8.815035e-13</td>\n",
       "      <td>0.306244</td>\n",
       "      <td>1.130285</td>\n",
       "    </tr>\n",
       "    <tr>\n",
       "      <th>50</th>\n",
       "      <td>8386560</td>\n",
       "      <td>0.487333</td>\n",
       "      <td>0.044026</td>\n",
       "      <td>4.207848</td>\n",
       "      <td>0.255958</td>\n",
       "      <td>8.815035e-13</td>\n",
       "      <td>0.292032</td>\n",
       "      <td>1.115106</td>\n",
       "    </tr>\n",
       "    <tr>\n",
       "      <th>49</th>\n",
       "      <td>8386560</td>\n",
       "      <td>0.435056</td>\n",
       "      <td>0.042871</td>\n",
       "      <td>4.207848</td>\n",
       "      <td>0.255958</td>\n",
       "      <td>8.815035e-13</td>\n",
       "      <td>0.268489</td>\n",
       "      <td>1.105299</td>\n",
       "    </tr>\n",
       "    <tr>\n",
       "      <th>42</th>\n",
       "      <td>8386560</td>\n",
       "      <td>0.460136</td>\n",
       "      <td>0.043637</td>\n",
       "      <td>4.207848</td>\n",
       "      <td>0.255958</td>\n",
       "      <td>8.815035e-13</td>\n",
       "      <td>0.277793</td>\n",
       "      <td>1.110744</td>\n",
       "    </tr>\n",
       "    <tr>\n",
       "      <th>44</th>\n",
       "      <td>8386560</td>\n",
       "      <td>0.462992</td>\n",
       "      <td>0.044841</td>\n",
       "      <td>4.207848</td>\n",
       "      <td>0.255958</td>\n",
       "      <td>8.815035e-13</td>\n",
       "      <td>0.284254</td>\n",
       "      <td>1.109545</td>\n",
       "    </tr>\n",
       "  </tbody>\n",
       "</table>\n",
       "</div>"
      ],
      "text/plain": [
       "               num_pairs   distMSE    distRE  distMSE_const  distRE_const  \\\n",
       "ml_chifc_seed                                                               \n",
       "43               8386560  0.457575  0.042942       4.207848      0.255958   \n",
       "48               8386560  0.469291  0.043967       4.207848      0.255958   \n",
       "47               8386560  0.424193  0.041681       4.207848      0.255958   \n",
       "45               8386560  0.458561  0.043924       4.207848      0.255958   \n",
       "51               8386560  0.478792  0.043647       4.207848      0.255958   \n",
       "46               8386560  0.549583  0.047364       4.207848      0.255958   \n",
       "50               8386560  0.487333  0.044026       4.207848      0.255958   \n",
       "49               8386560  0.435056  0.042871       4.207848      0.255958   \n",
       "42               8386560  0.460136  0.043637       4.207848      0.255958   \n",
       "44               8386560  0.462992  0.044841       4.207848      0.255958   \n",
       "\n",
       "               distRE_perfect  distMSE_perfect_scale     scale  \n",
       "ml_chifc_seed                                                   \n",
       "43               8.815035e-13               0.279303  1.109370  \n",
       "48               8.815035e-13               0.289217  1.110015  \n",
       "47               8.815035e-13               0.268281  1.101527  \n",
       "45               8.815035e-13               0.272671  1.111918  \n",
       "51               8.815035e-13               0.270840  1.119136  \n",
       "46               8.815035e-13               0.306244  1.130285  \n",
       "50               8.815035e-13               0.292032  1.115106  \n",
       "49               8.815035e-13               0.268489  1.105299  \n",
       "42               8.815035e-13               0.277793  1.110744  \n",
       "44               8.815035e-13               0.284254  1.109545  "
      ]
     },
     "metadata": {},
     "output_type": "display_data"
    },
    {
     "name": "stdout",
     "output_type": "stream",
     "text": [
      "num_pairs: $8386560 \\pm 0$\n",
      "distMSE: $0.4684 \\pm 0.0323$\n",
      "distRE (%): $4.39 \\pm 0.14$\n",
      "distMSE_const: $4.2078 \\pm 0.0000$\n",
      "distRE_const (%): $25.60 \\pm 0.00$\n",
      "distRE_perfect (%): $0.00 \\pm 0.00$\n",
      "distMSE_perfect_scale: $0.2809 \\pm 0.0116$\n",
      "scale: $1.1123 \\pm 0.0075$\n"
     ]
    }
   ],
   "source": [
    "METRICS_DIR = os.path.join(DATA_DIR, \"metrics\")\n",
    "dist_res_filename = os.path.join(METRICS_DIR, \"dist_res.npz\")\n",
    "with np.load(dist_res_filename) as f:\n",
    "    df = pd.DataFrame({\n",
    "        key: value\n",
    "        for key in f.keys()\n",
    "        if key not in [\"lambda_pairs\", \"distances\"]\n",
    "            and len((value := f[key]).shape) == 1\n",
    "    })\n",
    "df.set_index(\"ml_chifc_seed\", inplace=True)\n",
    "\n",
    "display(df)\n",
    "\n",
    "for column_name, values in df.items():\n",
    "    digits = 4\n",
    "    if 'distRE' in column_name:\n",
    "        digits = 2\n",
    "        values = values * 100\n",
    "        column_name = column_name + \" (%)\"\n",
    "    elif column_name.startswith(\"num_\"):\n",
    "        digits = 0\n",
    "    print(f\"{column_name}: ${classifim.bench.metric.normal_summary(values, digits=digits)}$\")"
   ]
  },
  {
   "cell_type": "markdown",
   "id": "46555273-6e45-469e-a54d-a1fd7baf1207",
   "metadata": {},
   "source": [
    "### Best possible cross entropy error"
   ]
  },
  {
   "cell_type": "markdown",
   "id": "77c37e97-819e-4ea8-80e9-558a9d6ea15a",
   "metadata": {},
   "source": [
    "* Requires:\n",
    "    - Ground state probabilities in 'lanczos' dir\n",
    "    - Test dumps (produced by `twelve_sites_classifim.ipynb`) at `classifim_datasets/test_dump_{seed}.npz`.\n",
    "* Prints out best possible cross entropy error (for an algorithm which knows ground state probabilities)."
   ]
  },
  {
   "cell_type": "code",
   "execution_count": null,
   "id": "14ee538b-bb67-42a2-a107-763a37880316",
   "metadata": {},
   "outputs": [],
   "source": [
    "%%time\n",
    "DATASETS_DIR = os.path.join(DATA_DIR, \"classifim_datasets\")\n",
    "assert os.path.isdir(DATASETS_DIR)\n",
    "best_xes = {}\n",
    "for seed in range(42, 52):\n",
    "    res = classifim_gen.fil24_hamiltonian.compute_best_possible_xe(\n",
    "        dump_npz=np.load(os.path.join(DATASETS_DIR, f\"test_dump_{seed}.npz\")),\n",
    "        zs_to_vi_f=lambda zs: ham_family.z_to_vi[ham_family.unrepack_z_for_bschifc(zs)],\n",
    "        lambdas_to_params_f=param_conversions.lambdas_to_params,\n",
    "        probs_cache=get_lanczos_cache(),\n",
    "        resolution=64)\n",
    "    best_xes[seed] = res"
   ]
  },
  {
   "cell_type": "code",
   "execution_count": null,
   "id": "5a900cfc-a80a-4dc9-8d41-1fff5829975d",
   "metadata": {},
   "outputs": [],
   "source": [
    "v = np.array(list(best_xes.values()))\n",
    "summary = classifim.bench.metric.normal_summary(v)\n",
    "print(f\"Best possible XE: {summary}\")"
   ]
  },
  {
   "cell_type": "markdown",
   "id": "02374f57-9d2b-43a8-82ab-365d9b732a26",
   "metadata": {},
   "source": [
    "## Identifying critical values"
   ]
  },
  {
   "cell_type": "markdown",
   "id": "351195ba-f066-44e8-b800-478c9ae01dd3",
   "metadata": {},
   "source": [
    "Plan:\n",
    "1. Load the dataset (seed=42).\n",
    "2. Train two models:\n",
    "  - input: $(\\lambda_0, x)$, output: $\\textrm{sign}(\\lambda_1 - 31.5/64)$;\n",
    "  - input: $(\\lambda_1, x)$, output: $\\textrm{sign}(\\lambda_0 - 31.5/64)$.\n",
    "3. Determine $\\lambda_{1,critical}$ as a function of $\\lambda_0$\n",
    "4. Same for ground truth and the original model.\n",
    "5. Plot."
   ]
  },
  {
   "cell_type": "code",
   "execution_count": 9,
   "id": "a3badf14-caaa-43e6-a4da-92c1b307b25e",
   "metadata": {},
   "outputs": [],
   "source": [
    "DATA_DIR0 = classifim.utils.find_data_dir(code_dir=CODE_DIR)\n",
    "assert os.path.isdir(DATA_DIR0)"
   ]
  },
  {
   "cell_type": "code",
   "execution_count": 10,
   "id": "affba66a-e32c-4b03-a97e-f47a71fc25b0",
   "metadata": {},
   "outputs": [
    {
     "data": {
      "text/plain": [
       "'/run/media/victor/ssd_T7_Victor/d/qc4ml/bschifc_data/neurips2023'"
      ]
     },
     "execution_count": 10,
     "metadata": {},
     "output_type": "execute_result"
    }
   ],
   "source": [
    "DATA_DIR0"
   ]
  },
  {
   "cell_type": "markdown",
   "id": "ed7b2766-886e-49ab-958c-d1348be1b751",
   "metadata": {},
   "source": [
    "# Scratch"
   ]
  },
  {
   "cell_type": "code",
   "execution_count": null,
   "id": "cbedc9e8-08fa-46bd-99c3-7ed8fdfd38cf",
   "metadata": {},
   "outputs": [],
   "source": []
  }
 ],
 "metadata": {
  "kernelspec": {
   "display_name": "Python [conda env:classifim]",
   "language": "python",
   "name": "conda-env-classifim-py"
  },
  "language_info": {
   "codemirror_mode": {
    "name": "ipython",
    "version": 3
   },
   "file_extension": ".py",
   "mimetype": "text/x-python",
   "name": "python",
   "nbconvert_exporter": "python",
   "pygments_lexer": "ipython3",
   "version": "3.10.11"
  }
 },
 "nbformat": 4,
 "nbformat_minor": 5
}
