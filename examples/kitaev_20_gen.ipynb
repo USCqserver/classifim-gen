{
 "cells": [
  {
   "cell_type": "markdown",
   "id": "e9e586c0-7eac-4959-a34c-4862e016bb0e",
   "metadata": {},
   "source": [
    "# Kitaev20"
   ]
  },
  {
   "cell_type": "markdown",
   "id": "37b9e843-eee5-44df-9732-0b005cc9aa50",
   "metadata": {},
   "source": [
    "## Introduction"
   ]
  },
  {
   "cell_type": "markdown",
   "id": "0865ba75-53f6-44cf-b597-58fefa13f2de",
   "metadata": {},
   "source": [
    "## Init"
   ]
  },
  {
   "cell_type": "code",
   "execution_count": 26,
   "id": "9d67ea4c-5af9-4d04-9ac5-b083a562d101",
   "metadata": {
    "tags": []
   },
   "outputs": [],
   "source": [
    "import classifim.bench.fidelity\n",
    "import classifim.bench.metric\n",
    "\n",
    "import classifim_gen.fft\n",
    "import classifim_gen.gs_cache\n",
    "import classifim_gen.kitaev20_dataset\n",
    "import classifim_gen.kitaev_hamiltonian\n",
    "import classifim_gen.hubbard_hamiltonian\n",
    "import classifim_gen.io\n",
    "import classifim.utils\n",
    "import cmath\n",
    "import concurrent.futures\n",
    "import datetime\n",
    "import functools\n",
    "import gradient_descent_the_ultimate_optimizer\n",
    "import importlib\n",
    "import math\n",
    "import matplotlib\n",
    "import matplotlib.pyplot as plt\n",
    "import my.utils as myu\n",
    "import numpy as np\n",
    "import os\n",
    "import pandas as pd\n",
    "import pyarrow as pa\n",
    "import pyarrow.parquet as pq\n",
    "import scipy.sparse.linalg\n",
    "import sys\n",
    "\n",
    "from gradient_descent_the_ultimate_optimizer import gdtuo\n",
    "from tqdm import tqdm"
   ]
  },
  {
   "cell_type": "markdown",
   "id": "84fa16d9-7ff2-4367-9f02-24894c7bab23",
   "metadata": {},
   "source": [
    "The following settings were used to generate the images for the main paper. They are commented out (the cell is made \"raw\" using CTRL+R, use CTRL+Y to make it \"code\") since they require a LaTeX installation with some fonts and packages used by matplotlib."
   ]
  },
  {
   "cell_type": "code",
   "execution_count": 2,
   "id": "b2c7d9bb-8d38-4ed5-8402-5caf47235e09",
   "metadata": {},
   "outputs": [],
   "source": [
    "# [Optional]: matplotlib.backend_bases.register_backend('pgf', FigureCanvasPgf)\n",
    "matplotlib.rcParams.update({\n",
    "    \"pgf.texsystem\": \"pdflatex\",\n",
    "    'font.family': 'serif',\n",
    "    'text.usetex': True,\n",
    "    'pgf.rcfonts': False,\n",
    "})"
   ]
  },
  {
   "cell_type": "code",
   "execution_count": 3,
   "id": "4bc2e741-8222-4ea0-b6d4-bf27831d53c0",
   "metadata": {},
   "outputs": [
    {
     "name": "stdout",
     "output_type": "stream",
     "text": [
      "DATA_DIR='/media/victor/ssd_T7_Victor/d/qc4ml/bschifc_data/neurips2023/kitaev_20'\n"
     ]
    }
   ],
   "source": [
    "SM_NAME = \"kitaev_20\"\n",
    "SM_NAME_PRINT = \"Kitaev20\"\n",
    "DATA_DIR0 = classifim.utils.find_data_dir()\n",
    "assert os.path.isdir(DATA_DIR0)\n",
    "DATA_DIR = classifim.utils.maybe_create_subdir(DATA_DIR0, SM_NAME)\n",
    "print(f\"{DATA_DIR=}\")\n",
    "\n",
    "HF_DATA_DIR0 = classifim.utils.find_data_dir(\"hf_data_dir\")\n",
    "HF_DATA_DIR = classifim.utils.maybe_create_subdir(HF_DATA_DIR0, SM_NAME)"
   ]
  },
  {
   "cell_type": "code",
   "execution_count": 4,
   "id": "86da147a-fc13-4c0e-9ec8-6e3cc6078731",
   "metadata": {},
   "outputs": [],
   "source": [
    "ham_family = classifim_gen.kitaev_hamiltonian.KitaevFamily(L=20)"
   ]
  },
  {
   "cell_type": "markdown",
   "id": "0e795811-91f3-490b-8c40-d5e578214625",
   "metadata": {},
   "source": [
    "## Data generation"
   ]
  },
  {
   "cell_type": "markdown",
   "id": "7392ded9-9a3f-4194-aa00-8e4e0f8834db",
   "metadata": {},
   "source": [
    "### FermFT"
   ]
  },
  {
   "cell_type": "markdown",
   "id": "cc815f8e-568d-4eff-b6a5-b4065817fc8b",
   "metadata": {},
   "source": [
    "* Requires: nothing\n",
    "* Generates: fermft_out/dataset_{seed}.npz"
   ]
  },
  {
   "cell_type": "code",
   "execution_count": 5,
   "id": "78f457b8-eba9-4fbc-8981-a132f173f958",
   "metadata": {},
   "outputs": [],
   "source": [
    "def top_evals_rhoA(phi, n=10):\n",
    "    L = int(0.5 + math.log2(phi.shape[0]))\n",
    "    assert phi.shape == (1 << L,)\n",
    "    assert L % 2 == 0\n",
    "    # Can't request more eigenvalues than size of the density matrix:\n",
    "    assert n <= (1 << (L // 2))\n",
    "    \n",
    "    rho_a = phi.reshape((2**(L//2), 2**(L//2)))\n",
    "    # rho_a[i_low, j_low] = sum_{i_high=0,...,2^{L_a}-1}(phi[i_high, i_low] * phi[i_high, j_low]^\\dagger):\n",
    "    rho_a = rho_a.T @ np.conj(rho_a)\n",
    "    evals = scipy.linalg.eigvalsh(rho_a)\n",
    "    return evals[:-n-1:-1]"
   ]
  },
  {
   "cell_type": "code",
   "execution_count": 9,
   "id": "18b6cba8-63ce-4421-9f71-6be2b5dcc6b5",
   "metadata": {},
   "outputs": [
    {
     "name": "stdout",
     "output_type": "stream",
     "text": [
      "Start: 2023-09-19 11:05:00\n"
     ]
    },
    {
     "name": "stderr",
     "output_type": "stream",
     "text": [
      "100%|████████████████████████████████████████████████████████████████████████████████████████████████████████████████████████| 20000/20000 [5:49:36<00:00,  1.05s/it]\n"
     ]
    }
   ],
   "source": [
    "# This covers [0, 1]:\n",
    "mus_cnt = 2 * 10**4\n",
    "mus = (np.arange(-1, mus_cnt) + 0.5) / mus_cnt\n",
    "# This covers [-4, 4]:\n",
    "mus = -4 + 8 * mus\n",
    "prev_mu = mus[0]\n",
    "mus = mus[1:]\n",
    "kitaev_dataset = {\n",
    "    \"seed\": 42,\n",
    "    \"param.t\": 1.0,\n",
    "    \"param.delta\": 1.0,\n",
    "    \"param.mus\": [],\n",
    "    \"ts\": [],\n",
    "    \"deltas\": [],\n",
    "    \"samples\": [],\n",
    "    \"top_10\": [],\n",
    "    \"chi_f\": []\n",
    "}\n",
    "prev_gs = ham_family.get_coordinate_basis_ground_state(t=1.0, delta=1.0, mu=prev_mu)\n",
    "rng = np.random.default_rng(kitaev_dataset[\"seed\"])\n",
    "L = ham_family.L\n",
    "\n",
    "print(f\"Start: {datetime.datetime.now():%Y-%m-%d %H:%M:%S}\")\n",
    "for mu_val in tqdm(mus):\n",
    "    gs = ham_family.get_coordinate_basis_ground_state(\n",
    "        t=kitaev_dataset[\"param.t\"],\n",
    "        delta=kitaev_dataset[\"param.delta\"],\n",
    "        mu=mu_val)\n",
    "    kitaev_dataset[\"ts\"].append(1.0)\n",
    "    kitaev_dataset[\"deltas\"].append(1.0)\n",
    "    kitaev_dataset[\"param.mus\"].append(mu_val)\n",
    "    kitaev_dataset[\"samples\"].append(\n",
    "            rng.choice(1<<L, size=140, replace=True, p=np.abs(gs)**2))\n",
    "    kitaev_dataset[\"top_10\"].append(top_evals_rhoA(gs, n=10))\n",
    "    kitaev_dataset[\"chi_f\"].append(np.abs(prev_gs.conj() @ gs))\n",
    "    prev_gs = gs\n",
    "\n",
    "ds_keys = list(kitaev_dataset.keys())\n",
    "for key in ds_keys:\n",
    "    value = kitaev_dataset[key]\n",
    "    if isinstance(value, list):\n",
    "        kitaev_dataset[key] = np.array(value)\n",
    "\n",
    "DATASET_DIR = classifim.utils.maybe_create_subdir(DATA_DIR, \"fermft_out\")\n",
    "np.savez_compressed(\n",
    "    os.path.join(DATASET_DIR, f\"dataset_{kitaev_dataset['seed']}v1.npz\"), **kitaev_dataset)"
   ]
  },
  {
   "cell_type": "markdown",
   "id": "e29fadce-4574-4180-b57e-235687c456ee",
   "metadata": {},
   "source": [
    "Or if generated using batch jobs, join into one file:"
   ]
  },
  {
   "cell_type": "code",
   "execution_count": 47,
   "id": "19fe3407-b8dd-45fb-ac9d-f815885563f5",
   "metadata": {},
   "outputs": [],
   "source": [
    "batch_dataset_dir = os.path.expanduser(\"~/Dropbox (Lidar group)/qc4ml_work/aaai24_kitaev20/fermft_out/\")\n",
    "kitaev_dataset = {}\n",
    "scalar_keys = set([\"seed\", \"param.t\", \"param.delta\"])\n",
    "ignored_keys = set([\"ts\", \"deltas\"])\n",
    "other_keys = []\n",
    "for i in range(100):\n",
    "    npz = np.load(os.path.join(batch_dataset_dir, f\"dataset_42_{i}.npz\"))\n",
    "    num_rows = None\n",
    "    for key, value in npz.items():\n",
    "        if key in ignored_keys:\n",
    "            continue\n",
    "        if key in scalar_keys:\n",
    "            if i == 0:\n",
    "                kitaev_dataset[key] = value\n",
    "            else:\n",
    "                assert kitaev_dataset[key] == value\n",
    "            continue\n",
    "        if i == 0:\n",
    "            other_keys.append(key)\n",
    "            kitaev_dataset[key] = []\n",
    "        else:\n",
    "            assert key in other_keys, f\"{key}\"\n",
    "        if num_rows is None:\n",
    "            num_rows = value.shape[0]\n",
    "        else:\n",
    "            assert num_rows == value.shape[0]\n",
    "        kitaev_dataset[key].append(value)\n",
    "for key in other_keys:\n",
    "    kitaev_dataset[key] = np.concatenate(kitaev_dataset[key])"
   ]
  },
  {
   "cell_type": "code",
   "execution_count": 48,
   "id": "8c7f99d9-8f85-40f5-a5c4-18c23d36e4b1",
   "metadata": {},
   "outputs": [
    {
     "name": "stdout",
     "output_type": "stream",
     "text": [
      "Dataset saved to /run/media/victor/ssd_T7_Victor/d/qc4ml/bschifc_data/neurips2023/kitaev20/fermft_out/dataset_42v1.npz\n"
     ]
    }
   ],
   "source": [
    "DATASET_DIR = classifim.utils.maybe_create_subdir(DATA_DIR, \"fermft_out\")\n",
    "filename = os.path.join(DATASET_DIR, f\"dataset_{kitaev_dataset['seed']}v1.npz\")\n",
    "np.savez_compressed(\n",
    "    filename, **kitaev_dataset)\n",
    "print(f\"Dataset saved to {filename}\")"
   ]
  },
  {
   "cell_type": "raw",
   "id": "bc49db9d-e88c-4d2d-83a4-ad07f9b71040",
   "metadata": {},
   "source": [
    "# Multithreaded version, did not show much improvement since the original version\n",
    "# is already sort-of multithreaded due to internal parallelism within numpy and scipy.\n",
    "import queue\n",
    "import threading\n",
    "\n",
    "# This covers [0, 1]:\n",
    "mus_cnt = 2 * 10 # 10**4\n",
    "mus = (np.arange(-1, mus_cnt) + 0.5) / mus_cnt\n",
    "# This covers [-4, 4]:\n",
    "mus = -4 + 8 * mus\n",
    "kitaev_dataset = {\n",
    "    \"seed\": 42,\n",
    "    \"param.t\": 1.0,\n",
    "    \"param.delta\": 1.0,\n",
    "    \"param.mus\": [None] * mus_cnt,\n",
    "    \"samples\": [None] * mus_cnt,\n",
    "    \"top_10\": [None] * mus_cnt,\n",
    "    \"chi_f\": [None] * mus_cnt,\n",
    "}\n",
    "\n",
    "print(f\"Start: {datetime.datetime.now():%Y-%m-%d %H:%M:%S}\")\n",
    "def process_mu_range(start, end, use_tqdm=False,\n",
    "                     thread_id=None, done_queue=None):\n",
    "    thread_seed = hash((kitaev_dataset[\"seed\"], thread_id))\n",
    "    thread_seed = (thread_seed >= 0) + 2 * abs(thread_seed)\n",
    "    rng = np.random.default_rng(thread_seed)\n",
    "    L = ham_family.L\n",
    "    def get_gs(mu_val):\n",
    "        return ham_family.get_coordinate_basis_ground_state(\n",
    "            t=kitaev_dataset[\"param.t\"],\n",
    "            delta=kitaev_dataset[\"param.delta\"],\n",
    "            mu=mu_val)\n",
    "    prev_gs = get_gs(mus[start])\n",
    "    i_range = range(start, end)\n",
    "    if use_tqdm:\n",
    "        i_range = tqdm(i_range)\n",
    "    for i in i_range:\n",
    "        # There is one 'dummy' value at the beginning of mus for prev_gs,\n",
    "        # hence the +1:\n",
    "        mu_val = mus[i + 1]\n",
    "        gs = get_gs(mu_val)\n",
    "        kitaev_dataset[\"param.mus\"][i] = mu_val\n",
    "        kitaev_dataset[\"samples\"][i] = (\n",
    "                rng.choice(1<<L, size=140, replace=True, p=np.abs(gs)**2))\n",
    "        kitaev_dataset[\"top_10\"][i] = top_evals_rhoA(gs, n=10)\n",
    "        kitaev_dataset[\"chi_f\"][i] = np.abs(prev_gs.conj() @ gs)\n",
    "        prev_gs = gs\n",
    "    if done_queue is not None:\n",
    "        done_queue.put(thread_id)\n",
    "\n",
    "num_workers = 12\n",
    "threads = []\n",
    "chunk_size = mus_cnt // num_workers\n",
    "assert chunk_size > 0\n",
    "start_index = 0\n",
    "finished_threads = queue.Queue()\n",
    "for i in range(num_workers - 1):\n",
    "    end_index = start_index + chunk_size\n",
    "    threads.append(\n",
    "        threading.Thread(\n",
    "            target=process_mu_range,\n",
    "            args=(start_index, end_index, False, i, finished_threads)))\n",
    "    start_index = end_index\n",
    "\n",
    "for thread in threads:\n",
    "    thread.start()\n",
    "\n",
    "process_mu_range(start_index, mus_cnt, use_tqdm=True)\n",
    "pbar = tqdm(total=num_workers-1)\n",
    "num_fails = 0\n",
    "pending_threads = set(range(num_workers - 1))\n",
    "while num_fails < 1 + num_workers and pending_threads:\n",
    "    try:\n",
    "        thread_i = finished_threads.get(timeout=12)\n",
    "    except queue.Empty:\n",
    "        num_fails += 1\n",
    "        # Check if any threads are still alive:\n",
    "        pending_threads_lst = list(pending_threads)\n",
    "        for thread_i in pending_threads_lst:\n",
    "            if not threads[thread_i].is_alive():\n",
    "                print(f\"Thread {thread_i} is dead!\")\n",
    "                pending_threads.remove(thread_i)\n",
    "                pbar.update(1)\n",
    "        continue\n",
    "    threads[thread_i].join()\n",
    "    pending_threads.remove(thread_i)\n",
    "    pbar.update(1)\n",
    "pbar.close()\n",
    "assert not pending_threads\n",
    "\n",
    "mus = mus[1:]\n",
    "\n",
    "ds_keys = list(kitaev_dataset.keys())\n",
    "for key in ds_keys:\n",
    "    value = kitaev_dataset[key]\n",
    "    if isinstance(value, list):\n",
    "        kitaev_dataset[key] = np.array(value)\n",
    "\n",
    "DATASET_DIR = os.path.join(DATA_DIR, \"fermft_out\")\n",
    "np.savez_compressed(\n",
    "    os.path.join(DATASET_DIR, f\"dataset_{kitaev_dataset['seed']}v1.npz\"),\n",
    "    **kitaev_dataset)\n",
    "print(f\"End: {datetime.datetime.now():%Y-%m-%d %H:%M:%S}\")\n"
   ]
  },
  {
   "cell_type": "markdown",
   "id": "5883c21a-2053-4ecb-89f5-bff4cb26255a",
   "metadata": {},
   "source": [
    "### Generate datasets"
   ]
  },
  {
   "cell_type": "code",
   "execution_count": 50,
   "id": "8c0c122f-50b9-4c51-97e9-7599375dafce",
   "metadata": {},
   "outputs": [],
   "source": [
    "npz42 = dict(np.load(f\"{DATA_DIR}/fermft_out/dataset_42v1.npz\"))"
   ]
  },
  {
   "cell_type": "code",
   "execution_count": 70,
   "id": "149cec90-a5ba-4d67-ab0f-00bd52c583e6",
   "metadata": {},
   "outputs": [
    {
     "name": "stdout",
     "output_type": "stream",
     "text": [
      "seed: () int64\n",
      "param.t: () float64\n",
      "param.delta: () float64\n",
      "param.mus: (20000,) float64\n",
      "samples: (20000, 1400) int64\n",
      "top_20: (20000, 20) float64\n",
      "chi_f: (20000,) float64\n"
     ]
    }
   ],
   "source": [
    "for key, value in npz42.items():\n",
    "    print(f\"{key}: {value.shape} {value.dtype}\")"
   ]
  },
  {
   "cell_type": "code",
   "execution_count": 63,
   "id": "1abf85bb-91c9-4654-a613-0cc561be5bf9",
   "metadata": {},
   "outputs": [
    {
     "name": "stdout",
     "output_type": "stream",
     "text": [
      "lambdas: (573440, 2) float64\n",
      "zs: (573440,) uint32\n",
      "seed: () int64\n"
     ]
    }
   ],
   "source": [
    "example_ds = dict(np.load(\"/run/media/victor/ssd_T7_Victor/d/qc4ml/bschifc_data/neurips2023/fil1d20/classifim_datasets/dataset_42.npz\"))\n",
    "for key, value in example_ds.items():\n",
    "    print(f\"{key}: {value.shape} {value.dtype}\")"
   ]
  },
  {
   "cell_type": "code",
   "execution_count": 69,
   "id": "5306f56d-619d-479a-bfa7-f2c61287b8f6",
   "metadata": {},
   "outputs": [
    {
     "name": "stdout",
     "output_type": "stream",
     "text": [
      "Dataset is saved to '/run/media/victor/ssd_T7_Victor/d/qc4ml/bschifc_data/neurips2023/kitaev20/classifim_datasets/dataset_42_0.npz'\n",
      "Dataset is saved to '/run/media/victor/ssd_T7_Victor/d/qc4ml/bschifc_data/neurips2023/kitaev20/classifim_datasets/dataset_42_1.npz'\n",
      "Dataset is saved to '/run/media/victor/ssd_T7_Victor/d/qc4ml/bschifc_data/neurips2023/kitaev20/classifim_datasets/dataset_42_2.npz'\n",
      "Dataset is saved to '/run/media/victor/ssd_T7_Victor/d/qc4ml/bschifc_data/neurips2023/kitaev20/classifim_datasets/dataset_42_3.npz'\n",
      "Dataset is saved to '/run/media/victor/ssd_T7_Victor/d/qc4ml/bschifc_data/neurips2023/kitaev20/classifim_datasets/dataset_42_4.npz'\n",
      "Dataset is saved to '/run/media/victor/ssd_T7_Victor/d/qc4ml/bschifc_data/neurips2023/kitaev20/classifim_datasets/dataset_42_5.npz'\n",
      "Dataset is saved to '/run/media/victor/ssd_T7_Victor/d/qc4ml/bschifc_data/neurips2023/kitaev20/classifim_datasets/dataset_42_6.npz'\n",
      "Dataset is saved to '/run/media/victor/ssd_T7_Victor/d/qc4ml/bschifc_data/neurips2023/kitaev20/classifim_datasets/dataset_42_7.npz'\n",
      "Dataset is saved to '/run/media/victor/ssd_T7_Victor/d/qc4ml/bschifc_data/neurips2023/kitaev20/classifim_datasets/dataset_42_8.npz'\n",
      "Dataset is saved to '/run/media/victor/ssd_T7_Victor/d/qc4ml/bschifc_data/neurips2023/kitaev20/classifim_datasets/dataset_42_9.npz'\n"
     ]
    }
   ],
   "source": [
    "CLASSIFIM_DATASET_DIR = classifim.utils.maybe_create_subdir(DATA_DIR, \"classifim_datasets\")\n",
    "datasets = classifim_gen.kitaev20_dataset.generate_kitaev20_datasets(\n",
    "    npz42,\n",
    "    payload={\n",
    "        \"fermft_seed\": npz42[\"seed\"],\n",
    "        \"param.t\": npz42[\"param.t\"],\n",
    "        \"param.delta\": npz42[\"param.delta\"]\n",
    "    })\n",
    "for dataset in datasets:\n",
    "    seed = dataset[\"fermft_seed\"]\n",
    "    dataset_i = dataset[\"dataset_i\"]\n",
    "    dataset_file_name = os.path.join(CLASSIFIM_DATASET_DIR, f\"dataset_{seed}_{dataset_i}.npz\")\n",
    "    np.savez_compressed(dataset_file_name, **dataset)\n",
    "    print(f\"Dataset is saved to '{dataset_file_name}'\")"
   ]
  },
  {
   "cell_type": "markdown",
   "id": "1f76558d-b5d9-4ed6-bf38-9f3e412e5890",
   "metadata": {},
   "source": [
    "### Compute ground truth FIM"
   ]
  },
  {
   "cell_type": "code",
   "execution_count": 33,
   "id": "7e436774-80e9-470d-b4ba-ad13ac1c1365",
   "metadata": {},
   "outputs": [],
   "source": [
    "def spectrum_fim_1d(x, spectrum, cutoff):\n",
    "    n_points, n_evals = spectrum.shape\n",
    "    assert x.shape == (n_points,)\n",
    "    assert np.all(np.sum(spectrum, axis=1) <= 1.0)\n",
    "    assert np.all(spectrum >= 0)\n",
    "    assert n_evals >= cutoff\n",
    "    spectrum = spectrum[:, :cutoff]\n",
    "    spectrum_o = 1.0 - np.sum(spectrum, axis=1)\n",
    "    fim = (\n",
    "        1.0 - np.sum((spectrum[:-1] * spectrum[1:])**0.5, axis=1)\n",
    "        - (spectrum_o[:-1] * spectrum_o[1:])**0.5)\n",
    "    dx = x[1:] - x[:-1]\n",
    "    x1 = (x[1:] + x[:-1]) / 2\n",
    "    fim = fim * 8 / dx**2\n",
    "    return x1, np.maximum(fim, 0)"
   ]
  },
  {
   "cell_type": "code",
   "execution_count": 48,
   "id": "37f2adc9-668e-4779-9852-fb247da80dd4",
   "metadata": {},
   "outputs": [
    {
     "name": "stdout",
     "output_type": "stream",
     "text": [
      "Saved gt_fim to '/media/victor/ssd_T7_Victor/d/qc4ml/bschifc_data/neurips2023/kitaev_20/fim/gt_fim.npz'.\n"
     ]
    }
   ],
   "source": [
    "npz42 = dict(np.load(os.path.join(DATA_DIR, \"fermft_out\", \"dataset_42v1.npz\")))\n",
    "gt_fim = {\n",
    "    \"param.delta\": npz42[\"param.delta\"]\n",
    "}\n",
    "spectrum = npz42[\"top_20\"]\n",
    "lambda0s = npz42[\"param.mus\"]\n",
    "dlambda0s = lambda0s[1:] - lambda0s[:-1]\n",
    "gt_fim[\"lambda0\"], gt_fim[\"fim_10\"] = spectrum_fim_1d(lambda0s, spectrum, cutoff=10)\n",
    "# chi_f here is a misnomer:\n",
    "fidelity = npz42[\"chi_f\"][1:]\n",
    "gt_fim[\"fim\"] = (1.0 - fidelity) * 8 / dlambda0s**2\n",
    "\n",
    "description = {\n",
    "    \"lambda0\": \"midpoints from npz42['param.mus']: these are the points were FIM is evaluated.\",\n",
    "    \"param.delta\": \"Copy from npz42\",\n",
    "    \"top10_fim\": \"FIM of the distribution implied by 'top10' entanglement spectrum at points given by param.mus\",\n",
    "    \"fim\": \"FIM at points given by param.mus; fim is with respect to lambda0\"}\n",
    "gt_fim[\"description\"] = \"Ground truth FIM\\n\" + (\n",
    "    \"\\n\".join(f'\"{key}\": \"{value}\"' for key, value in description.items()))\n",
    "gt_fim_filename = os.path.join(DATA_DIR, \"fim\", \"gt_fim.npz\")\n",
    "np.savez_compressed(gt_fim_filename, **classifim.bench.fidelity.encode_for_npz(gt_fim))\n",
    "print(f\"Saved gt_fim to '{gt_fim_filename}'.\")"
   ]
  },
  {
   "cell_type": "markdown",
   "id": "cd20b342-4c75-411f-b878-ef791d982577",
   "metadata": {},
   "source": [
    "### Convert to parquet"
   ]
  },
  {
   "cell_type": "code",
   "execution_count": 49,
   "id": "ddd817a1-0c98-4186-86fe-fc9776c09e60",
   "metadata": {},
   "outputs": [],
   "source": [
    "with np.load(os.path.join(DATA_DIR, \"fim\", \"gt_fim.npz\")) as f:\n",
    "    fim_npz = dict(f)\n",
    "gt_fim_filename = os.path.join(HF_DATA_DIR, \"gt_fim.parquet\")\n",
    "pq.write_table(\n",
    "    pa.Table.from_pydict({\n",
    "        k: v\n",
    "        for k, v in fim_npz.items()\n",
    "        if k not in [\"description\", \"param.delta\"]\n",
    "    }),\n",
    "    gt_fim_filename)"
   ]
  },
  {
   "cell_type": "code",
   "execution_count": 46,
   "id": "d4f26636-96f9-4a92-90a4-a157628ae5d4",
   "metadata": {},
   "outputs": [
    {
     "name": "stdout",
     "output_type": "stream",
     "text": [
      "Done.\n"
     ]
    }
   ],
   "source": [
    "extra_metadata = {}\n",
    "for k, v in fim_npz.items():\n",
    "    if isinstance(v, np.ndarray):\n",
    "        if v.size == 1:\n",
    "            v = v.item()\n",
    "        else:\n",
    "            continue\n",
    "    if k == \"description\":\n",
    "        extra_metadata[\"gt_fim.description\"] = v\n",
    "        continue\n",
    "    extra_metadata[k] = v\n",
    "\n",
    "data_seeds = classifim_gen.io.save_datasets_for_hf(\n",
    "    convert_f=classifim_gen.kitaev20_dataset.convert_dataset_to_hf,\n",
    "    input_pattern=os.path.join(DATA_DIR, \"classifim_datasets\", \"dataset_42_{seed}.npz\"),\n",
    "    output_dir=HF_DATA_DIR,\n",
    "    overwrite=True,\n",
    "    extra_metadata=extra_metadata)\n",
    "print(\"Done.\")"
   ]
  },
  {
   "cell_type": "code",
   "execution_count": 47,
   "id": "24f8fc2d-fa09-4620-aa2b-1d6ec922f479",
   "metadata": {},
   "outputs": [
    {
     "name": "stdout",
     "output_type": "stream",
     "text": [
      "- config_name: kitaev_20.gt_fim\n",
      "  data_files:\n",
      "  - split: test\n",
      "    path: kitaev_20/gt_fim.parquet\n",
      "- config_name: kitaev_20.seed00\n",
      "  data_files:\n",
      "  - split: train\n",
      "    path: kitaev_20/seed_00/d_train.parquet\n",
      "  - split: test\n",
      "    path: kitaev_20/seed_00/d_test.parquet\n",
      "- config_name: kitaev_20.seed01\n",
      "  data_files:\n",
      "  - split: train\n",
      "    path: kitaev_20/seed_01/d_train.parquet\n",
      "  - split: test\n",
      "    path: kitaev_20/seed_01/d_test.parquet\n",
      "- config_name: kitaev_20.seed02\n",
      "  data_files:\n",
      "  - split: train\n",
      "    path: kitaev_20/seed_02/d_train.parquet\n",
      "  - split: test\n",
      "    path: kitaev_20/seed_02/d_test.parquet\n",
      "- config_name: kitaev_20.seed03\n",
      "  data_files:\n",
      "  - split: train\n",
      "    path: kitaev_20/seed_03/d_train.parquet\n",
      "  - split: test\n",
      "    path: kitaev_20/seed_03/d_test.parquet\n",
      "- config_name: kitaev_20.seed04\n",
      "  data_files:\n",
      "  - split: train\n",
      "    path: kitaev_20/seed_04/d_train.parquet\n",
      "  - split: test\n",
      "    path: kitaev_20/seed_04/d_test.parquet\n",
      "- config_name: kitaev_20.seed05\n",
      "  data_files:\n",
      "  - split: train\n",
      "    path: kitaev_20/seed_05/d_train.parquet\n",
      "  - split: test\n",
      "    path: kitaev_20/seed_05/d_test.parquet\n",
      "- config_name: kitaev_20.seed06\n",
      "  data_files:\n",
      "  - split: train\n",
      "    path: kitaev_20/seed_06/d_train.parquet\n",
      "  - split: test\n",
      "    path: kitaev_20/seed_06/d_test.parquet\n",
      "- config_name: kitaev_20.seed07\n",
      "  data_files:\n",
      "  - split: train\n",
      "    path: kitaev_20/seed_07/d_train.parquet\n",
      "  - split: test\n",
      "    path: kitaev_20/seed_07/d_test.parquet\n",
      "- config_name: kitaev_20.seed08\n",
      "  data_files:\n",
      "  - split: train\n",
      "    path: kitaev_20/seed_08/d_train.parquet\n",
      "  - split: test\n",
      "    path: kitaev_20/seed_08/d_test.parquet\n",
      "- config_name: kitaev_20.seed09\n",
      "  data_files:\n",
      "  - split: train\n",
      "    path: kitaev_20/seed_09/d_train.parquet\n",
      "  - split: test\n",
      "    path: kitaev_20/seed_09/d_test.parquet\n"
     ]
    }
   ],
   "source": [
    "print(classifim_gen.io.gen_config_yml(\n",
    "    sm_name=os.path.basename(HF_DATA_DIR),\n",
    "    seeds=sorted(data_seeds),\n",
    "    fim_seeds=None))"
   ]
  },
  {
   "cell_type": "markdown",
   "id": "ec76ecee-819b-42e4-8666-928f0c733a93",
   "metadata": {},
   "source": [
    "# FFT"
   ]
  },
  {
   "cell_type": "code",
   "execution_count": 47,
   "id": "39bcabac-8287-4dce-a243-c54bb4aecff8",
   "metadata": {},
   "outputs": [],
   "source": [
    "rng = np.random.default_rng(1)\n",
    "L = 20\n",
    "psi = rng.normal(size=(2, 1<<L))\n",
    "psi = psi / np.linalg.norm(psi)\n",
    "psi = psi[0] + psi[1] * 1j\n",
    "assert psi.dtype == np.complex128"
   ]
  },
  {
   "cell_type": "code",
   "execution_count": 48,
   "id": "2c2ef2d9-474a-40b6-9774-5886641e0b8d",
   "metadata": {},
   "outputs": [
    {
     "name": "stdout",
     "output_type": "stream",
     "text": [
      "CPU times: user 1.34 s, sys: 1.15 s, total: 2.5 s\n",
      "Wall time: 785 ms\n"
     ]
    }
   ],
   "source": [
    "%%time\n",
    "phi = classifim_gen.fft.fermionic_fourier(psi)"
   ]
  },
  {
   "cell_type": "code",
   "execution_count": 49,
   "id": "08188a29-1419-40f8-9d55-55a272fa94b3",
   "metadata": {},
   "outputs": [
    {
     "name": "stdout",
     "output_type": "stream",
     "text": [
      "CPU times: user 1.53 s, sys: 972 ms, total: 2.5 s\n",
      "Wall time: 222 ms\n"
     ]
    }
   ],
   "source": [
    "%%time\n",
    "rho_a = phi.reshape((2**(L//2), 2**(L//2)))\n",
    "# rho_a[i_low, j_low] = sum_{i_high=0,...,2^{L_a}-1}(phi[i_high, i_low] * phi[i_high, j_low]^\\dagger):\n",
    "rho_a = rho_a.T @ np.conj(rho_a)\n",
    "evals = scipy.linalg.eigvalsh(rho_a)\n",
    "top_10 = evals[:-10:-1]"
   ]
  },
  {
   "cell_type": "code",
   "execution_count": 51,
   "id": "a2108fb6-bcbc-4009-b283-19f97e21a8f8",
   "metadata": {},
   "outputs": [
    {
     "data": {
      "text/plain": [
       "0.002551592042542838"
      ]
     },
     "execution_count": 51,
     "metadata": {},
     "output_type": "execute_result"
    }
   ],
   "source": [
    "evals[-100]"
   ]
  },
  {
   "cell_type": "code",
   "execution_count": 15,
   "id": "150c6c84-2160-4c9d-b999-709b2273d42c",
   "metadata": {},
   "outputs": [],
   "source": [
    "rotation = (np.array([[1, 1], [1, -1]], dtype=np.complex128) / 2**0.5, (0, 7))"
   ]
  },
  {
   "cell_type": "code",
   "execution_count": 13,
   "id": "187bbdb2-4bee-460d-af78-daa3f099a452",
   "metadata": {},
   "outputs": [
    {
     "name": "stdout",
     "output_type": "stream",
     "text": [
      "752 ms ± 7.34 ms per loop (mean ± std. dev. of 7 runs, 10 loops each)\n"
     ]
    }
   ],
   "source": [
    "%%timeit -n 10\n",
    "phi =   classifim_gen.fft.fermionic_fourier(psi)"
   ]
  },
  {
   "cell_type": "code",
   "execution_count": 16,
   "id": "1bc8a26f-2f49-40b6-b62e-017c7904f98a",
   "metadata": {},
   "outputs": [
    {
     "name": "stdout",
     "output_type": "stream",
     "text": [
      "26.8 ms ± 2.02 ms per loop (mean ± std. dev. of 7 runs, 10 loops each)\n"
     ]
    }
   ],
   "source": [
    "%%timeit -n 10\n",
    "phi = classifim_gen.fft._apply_rotation_inplace(rotation, psi.copy())"
   ]
  },
  {
   "cell_type": "code",
   "execution_count": null,
   "id": "b0db5aee-b560-45ff-8ac6-7f985d5b5715",
   "metadata": {},
   "outputs": [],
   "source": []
  },
  {
   "cell_type": "code",
   "execution_count": 110,
   "id": "50901ae2-55ca-46e5-a034-e66d897e8c86",
   "metadata": {},
   "outputs": [
    {
     "name": "stdout",
     "output_type": "stream",
     "text": [
      "[[ 1.000+0.000j, -0.000-0.000j,  0.000-0.000j]\n",
      " [ 0.000+0.000j,  1.000-0.000j,  0.000-0.000j]\n",
      " [ 0.000-0.000j,  0.000+0.000j,  1.000+0.000j]]\n"
     ]
    }
   ],
   "source": [
    "def my_print_matrix(a):\n",
    "    for i in range(a.shape[0]):\n",
    "        if i == 0:\n",
    "            print(\"[[\", end=\"\")\n",
    "        else:\n",
    "            print(\" [\", end=\"\")\n",
    "        for j in range(a.shape[1]):\n",
    "            if j > 0:\n",
    "                print(\", \", end=\"\")\n",
    "            a_str = f\"{a[i, j]:.3f}\"\n",
    "            print(f\"{a_str:>13s}\", end=\"\")\n",
    "        if i == a.shape[0] - 1:\n",
    "            print(\"]]\")\n",
    "        else:\n",
    "            print(\"]\")\n",
    "            \n",
    "my_print_matrix(np.conj(res_f.T) @ expected_f)"
   ]
  },
  {
   "cell_type": "code",
   "execution_count": 111,
   "id": "e3cf7149-eb80-46c6-870b-e42fa54a721f",
   "metadata": {},
   "outputs": [
    {
     "name": "stdout",
     "output_type": "stream",
     "text": [
      "[[ 1.000+0.000j, -0.000-0.000j,  0.000-0.000j]\n",
      " [ 0.000+0.000j,  1.000+0.000j,  0.000-0.000j]\n",
      " [ 0.000-0.000j,  0.000+0.000j,  1.000+0.000j]]\n"
     ]
    }
   ],
   "source": [
    "my_print_matrix(a)"
   ]
  },
  {
   "cell_type": "code",
   "execution_count": 84,
   "id": "b4d4c9cd-fc9c-4900-9812-125ab4206894",
   "metadata": {},
   "outputs": [
    {
     "data": {
      "text/plain": [
       "False"
      ]
     },
     "execution_count": 84,
     "metadata": {},
     "output_type": "execute_result"
    }
   ],
   "source": [
    "np.allclose(a, np.eye(3))"
   ]
  },
  {
   "cell_type": "code",
   "execution_count": 73,
   "id": "0c7504ad-4c50-4fd9-b636-40e1c6947811",
   "metadata": {},
   "outputs": [
    {
     "name": "stdout",
     "output_type": "stream",
     "text": [
      "[[ 1.000+0.000j, -0.000-0.000j,  0.000-0.000j]\n",
      " [-0.000+0.000j,  1.000+0.000j,  0.000-0.000j]\n",
      " [ 0.000+0.000j,  0.000+0.000j,  1.000+0.000j]]\n"
     ]
    }
   ],
   "source": [
    "my_print_matrix(np.conj(a.T) @ a)"
   ]
  },
  {
   "cell_type": "code",
   "execution_count": 74,
   "id": "86b5a40c-947f-4ed0-9830-b8729a793407",
   "metadata": {},
   "outputs": [
    {
     "data": {
      "text/plain": [
       "True"
      ]
     },
     "execution_count": 74,
     "metadata": {},
     "output_type": "execute_result"
    }
   ],
   "source": [
    "np.allclose(np.conj(expected_f.T) @ expected_f, np.eye(3))"
   ]
  },
  {
   "cell_type": "code",
   "execution_count": 7,
   "id": "58a3fdab-2774-4834-ac66-db19f18a3253",
   "metadata": {},
   "outputs": [
    {
     "name": "stdout",
     "output_type": "stream",
     "text": [
      "1.69 ms ± 202 µs per loop (mean ± std. dev. of 7 runs, 10 loops each)\n"
     ]
    }
   ],
   "source": [
    "%%timeit -n 10\n",
    "sign = \n",
    "zs1 = 1 - ((zs & 1) << 1)"
   ]
  },
  {
   "cell_type": "markdown",
   "id": "bc254efa-4413-4498-9097-56327336be2b",
   "metadata": {},
   "source": [
    "# FFT: Givens decomposition"
   ]
  },
  {
   "cell_type": "markdown",
   "id": "60de95ae-1536-4bb5-a968-af524f341bae",
   "metadata": {},
   "source": [
    "## Givens decomposition: planted solution"
   ]
  },
  {
   "cell_type": "code",
   "execution_count": 8,
   "id": "58637833-04b6-4829-b050-9771668e3aac",
   "metadata": {
    "tags": []
   },
   "outputs": [
    {
     "ename": "NameError",
     "evalue": "name 'math' is not defined",
     "output_type": "error",
     "traceback": [
      "\u001b[0;31m---------------------------------------------------------------------------\u001b[0m",
      "\u001b[0;31mNameError\u001b[0m                                 Traceback (most recent call last)",
      "Cell \u001b[0;32mIn[8], line 66\u001b[0m\n\u001b[1;32m     63\u001b[0m \u001b[38;5;28;01mwhile\u001b[39;00m np\u001b[38;5;241m.\u001b[39msum(q\u001b[38;5;241m==\u001b[39m\u001b[38;5;241m0\u001b[39m) \u001b[38;5;241m>\u001b[39m \u001b[38;5;241m0\u001b[39m:\n\u001b[1;32m     64\u001b[0m     \u001b[38;5;66;03m# orig_p = random_permutation_matrix(rng, n)\u001b[39;00m\n\u001b[1;32m     65\u001b[0m     orig_p \u001b[38;5;241m=\u001b[39m np\u001b[38;5;241m.\u001b[39meye(n)\n\u001b[0;32m---> 66\u001b[0m     orig_d \u001b[38;5;241m=\u001b[39m \u001b[43mrandom_diagonal_matrix\u001b[49m\u001b[43m(\u001b[49m\u001b[43mrng\u001b[49m\u001b[43m,\u001b[49m\u001b[43m \u001b[49m\u001b[43mn\u001b[49m\u001b[43m)\u001b[49m\n\u001b[1;32m     67\u001b[0m     orig_rotations \u001b[38;5;241m=\u001b[39m random_givens_rotations(rng, n, orig_k)\n\u001b[1;32m     68\u001b[0m     q \u001b[38;5;241m=\u001b[39m reconstruct_q(orig_p, orig_d, orig_rotations)\n",
      "Cell \u001b[0;32mIn[8], line 24\u001b[0m, in \u001b[0;36mrandom_diagonal_matrix\u001b[0;34m(rng, n)\u001b[0m\n\u001b[1;32m     23\u001b[0m \u001b[38;5;28;01mdef\u001b[39;00m \u001b[38;5;21mrandom_diagonal_matrix\u001b[39m(rng, n):\n\u001b[0;32m---> 24\u001b[0m     \u001b[38;5;28;01mreturn\u001b[39;00m np\u001b[38;5;241m.\u001b[39mdiag(np\u001b[38;5;241m.\u001b[39mexp(rng\u001b[38;5;241m.\u001b[39muniform(low\u001b[38;5;241m=\u001b[39m\u001b[38;5;241m0\u001b[39m, high\u001b[38;5;241m=\u001b[39m\u001b[38;5;241m2\u001b[39m \u001b[38;5;241m*\u001b[39m \u001b[43mmath\u001b[49m\u001b[38;5;241m.\u001b[39mpi, size\u001b[38;5;241m=\u001b[39mn) \u001b[38;5;241m*\u001b[39m \u001b[38;5;241m1\u001b[39mj))\n",
      "\u001b[0;31mNameError\u001b[0m: name 'math' is not defined"
     ]
    }
   ],
   "source": [
    "def lapply_givens_rotation(g, rows, a):\n",
    "    \"\"\"\n",
    "    Multiply a matrix a by a single givens rotation on the left.\n",
    "    \"\"\"\n",
    "    rows = list(rows)\n",
    "    a[rows, :] = g @ a[rows, :]\n",
    "\n",
    "# Function to reconstruct Q from P, D, rotations\n",
    "def reconstruct_q(p, d, rotations):\n",
    "    q = np.eye(p.shape[0], dtype=np.complex128)\n",
    "    for g, ij in reversed(rotations):\n",
    "        lapply_givens_rotation(g, ij, q)\n",
    "    q = p @ d @ q\n",
    "    return q\n",
    "\n",
    "# Function to sample P:\n",
    "def random_permutation_matrix(rng, n):\n",
    "    p = np.zeros(shape=(n,n), dtype=np.complex128)\n",
    "    p[np.arange(n), rng.choice(n, size=n, replace=False)] = 1\n",
    "    return p\n",
    "\n",
    "# Function to sample D:\n",
    "def random_diagonal_matrix(rng, n):\n",
    "    return np.diag(np.exp(rng.uniform(low=0, high=2 * math.pi, size=n) * 1j))\n",
    "\n",
    "# Given 2 angles, return the corresponding complex Givens 2x2 matrix:\n",
    "def givens_from_angles(gtheta, gphi):\n",
    "    cos_gtheta = np.cos(gtheta)\n",
    "    sin_gtheta = np.sin(gtheta)\n",
    "    exp_igphi = np.exp(gphi * 1j)\n",
    "    g = np.array([\n",
    "            [cos_gtheta, -exp_igphi * sin_gtheta],\n",
    "            [sin_gtheta, exp_igphi * cos_gtheta]],\n",
    "        dtype=np.complex128)\n",
    "    return g\n",
    "\n",
    "def random_givens_rotation(rng, n, excluded_pairs=[]):\n",
    "    index_pairs = [(i, j) for i in range(1, n) for j in range(i)]\n",
    "    index_pairs = list(set(index_pairs) - set(excluded_pairs))\n",
    "    ij = tuple(rng.choice(index_pairs))\n",
    "    g = givens_from_angles(*rng.uniform(0, 2 * math.pi, size=2))\n",
    "    return g, ij\n",
    "\n",
    "def random_givens_rotations(rng, n, k):\n",
    "    if k == 0:\n",
    "        return []\n",
    "    assert n >= 2\n",
    "    assert n >= 3 or k == 1\n",
    "    res = []\n",
    "    excluded_pairs = []\n",
    "    for _ in range(k):\n",
    "        g, ij = random_givens_rotation(rng, n, excluded_pairs)\n",
    "        res.append((g, ij))\n",
    "        # ij is excluded because two ij rotations in a row would simplify into a single one.\n",
    "        # rotations which commute with ij and were excluded are still excluded.\n",
    "        excluded_pairs = [ij1 for ij1 in excluded_pairs if len(set(ij1 + ij)) == 4] + [ij]\n",
    "    return res\n",
    "\n",
    "n = 5\n",
    "orig_k = 7\n",
    "rng = np.random.default_rng(seed=1)\n",
    "q = np.zeros(1)\n",
    "while np.sum(q==0) > 0:\n",
    "    # orig_p = random_permutation_matrix(rng, n)\n",
    "    orig_p = np.eye(n)\n",
    "    orig_d = random_diagonal_matrix(rng, n)\n",
    "    orig_rotations = random_givens_rotations(rng, n, orig_k)\n",
    "    q = reconstruct_q(orig_p, orig_d, orig_rotations)\n",
    "\n",
    "assert q.shape == (n, n)\n",
    "assert q.dtype == np.complex128\n",
    "assert np.allclose(q @ np.conj(q.T), np.eye(n))"
   ]
  },
  {
   "cell_type": "code",
   "execution_count": 338,
   "id": "96d1eba8-fb1c-4bec-bc74-971f637d03b6",
   "metadata": {
    "tags": []
   },
   "outputs": [],
   "source": [
    "def absorb_diagonal(d, rotations):\n",
    "    n = d.shape[0]\n",
    "    assert d.shape == (n, n)\n",
    "    d = np.diag(d).copy()\n",
    "    res_rotations = []\n",
    "    for g, ij in rotations:\n",
    "        ij_list = list(ij)\n",
    "        new_g = g * d[ij_list, None]\n",
    "        d[ij_list] = 1.0 + 0.0j\n",
    "        res_rotations.append((new_g, ij))\n",
    "    return np.diag(d), res_rotations\n",
    "\n",
    "def rotations_to_h(rotations, n):\n",
    "    \"\"\"\n",
    "    Convert a list of 2x2 rotations into a tensor with corresponding matrices.\n",
    "    \n",
    "    Args:\n",
    "        rotations: list, each element of which is a tuple `(g, (i, j))`, where\n",
    "            g: 2x2 matrix\n",
    "            i, j: indices where to put the values of that matrix.\n",
    "        n: target matrix size\n",
    "    \n",
    "    Returns:\n",
    "        np.ndarray of shape `(k, n, n)`, where `k = len(rotations)`.\n",
    "        The resulting array `res` coincides with `k` copies of identity matrix\n",
    "        except for elements specified in the `rotations` array.\n",
    "    \"\"\"\n",
    "    k = len(rotations)\n",
    "    res = np.tile(np.eye(n, dtype=np.complex128), (k, 1, 1))\n",
    "    \n",
    "    # Iterate through the rotations list and fill in the matrices\n",
    "    for idx, (g, (i, j)) in enumerate(rotations):\n",
    "        res[idx, [i, i, j, j], [i, j, i, j]] = g[[0, 0, 1, 1], [0, 1, 0, 1]]\n",
    "    \n",
    "    return MinimalGivensDecomposition.logm_unitary(torch.tensor(res)).numpy()"
   ]
  },
  {
   "cell_type": "code",
   "execution_count": 339,
   "id": "d75cfc0a-373e-4fa7-95a9-2f693e6db514",
   "metadata": {
    "tags": []
   },
   "outputs": [],
   "source": [
    "new_d, new_rotations = absorb_diagonal(orig_d, orig_rotations)\n",
    "assert np.allclose(new_d, np.eye(n))\n",
    "new_q = reconstruct_q(np.eye(n), np.eye(n), new_rotations)\n",
    "assert np.allclose(new_q, q)\n",
    "new_h = rotations_to_h(new_rotations, n)"
   ]
  },
  {
   "cell_type": "markdown",
   "id": "7a57db3a-b1d2-4d6e-b1b1-2a11c5ba3e37",
   "metadata": {},
   "source": [
    "## Torch: Minimal Givens Decomposition"
   ]
  },
  {
   "cell_type": "code",
   "execution_count": 101,
   "id": "d2c8c826-a1e8-4769-a2ce-6ee69577f134",
   "metadata": {
    "tags": []
   },
   "outputs": [],
   "source": [
    "def batch_randperm(batch_size, n, dtype=torch.int64):\n",
    "    base = torch.arange(n, dtype=dtype).repeat(batch_size, 1)\n",
    "    rand_indices = torch.rand(batch_size, n).argsort(dim=1, descending=False)\n",
    "    output = torch.gather(base, 1, rand_indices)\n",
    "    return output"
   ]
  },
  {
   "cell_type": "code",
   "execution_count": 102,
   "id": "6477a525-4268-45d1-8eec-11bbaf471f7f",
   "metadata": {
    "tags": []
   },
   "outputs": [],
   "source": [
    "# This is slower than batch_randperm.\n",
    "def batch_randperm_v2(batch_size, n, dtype=torch.int64):\n",
    "    res = torch.arange(n, dtype=dtype).repeat(batch_size, 1)\n",
    "    ii = torch.arange(batch_size, dtype=torch.int64)\n",
    "    tmp = torch.zeros(batch_size, dtype=dtype)\n",
    "    idx = torch.zeros(batch_size, dtype=torch.int64)\n",
    "    for j in reversed(range(1, n-1)):\n",
    "        torch.randint(j+1, (batch_size,), out=idx)\n",
    "        tmp[:] = res[:, j]\n",
    "        res[:, j] = res[ii, idx]\n",
    "        res[ii, idx] = tmp[:]\n",
    "    return res"
   ]
  },
  {
   "cell_type": "code",
   "execution_count": 103,
   "id": "a6bfba15-2304-4c3c-97ea-61b9de0e7304",
   "metadata": {
    "tags": []
   },
   "outputs": [
    {
     "name": "stdout",
     "output_type": "stream",
     "text": [
      "77.6 ms ± 1.49 ms per loop (mean ± std. dev. of 7 runs, 10 loops each)\n"
     ]
    }
   ],
   "source": [
    "%%timeit -n 10\n",
    "_ = batch_randperm_v2(2**14, 256)"
   ]
  },
  {
   "cell_type": "code",
   "execution_count": 100,
   "id": "8a1035ee-193a-4179-86a2-054ac5198ea6",
   "metadata": {
    "tags": []
   },
   "outputs": [
    {
     "name": "stdout",
     "output_type": "stream",
     "text": [
      "41.2 ms ± 1.35 ms per loop (mean ± std. dev. of 7 runs, 10 loops each)\n"
     ]
    }
   ],
   "source": [
    "%%timeit -n 10\n",
    "_ = batch_randperm(2**14, 256)"
   ]
  },
  {
   "cell_type": "code",
   "execution_count": 46,
   "id": "a36124e1-660b-4bd7-9593-59a42ea3a03d",
   "metadata": {
    "tags": []
   },
   "outputs": [
    {
     "name": "stdout",
     "output_type": "stream",
     "text": [
      "GivensLoss grad check: True\n"
     ]
    }
   ],
   "source": [
    "import torch\n",
    "\n",
    "class GivensLoss(torch.autograd.Function):\n",
    "\n",
    "    @staticmethod\n",
    "    def _get_ij(h):\n",
    "        n = h.shape[-1]\n",
    "        n2 = n * n\n",
    "        # Compute the non-differentiable part.\n",
    "        d = torch.abs(torch.diagonal(h, dim1=-2, dim2=-1))**2\n",
    "        a = torch.abs(h)**2 + (d[..., :, None] + d[..., None, :]) / 2\n",
    "        a.diagonal(dim1=-2, dim2=-1).fill_(0)\n",
    "        a = a.view(-1, n2)\n",
    "        ij = torch.argmax(a, dim=1)\n",
    "        i = torch.div(ij, n, rounding_mode=\"floor\")\n",
    "        j = ij % n\n",
    "        return i, j\n",
    "    \n",
    "    @staticmethod\n",
    "    def get_ij(h):\n",
    "        res_shape = h.shape[:-2]\n",
    "        i0, j0 = GivensLoss._get_ij(h)\n",
    "        i = torch.minimum(i0, j0).reshape(res_shape)\n",
    "        j = torch.maximum(i0, j0).reshape(res_shape)\n",
    "        return i, j\n",
    "    \n",
    "    @staticmethod\n",
    "    def forward(ctx, h):\n",
    "        n = h.shape[-1]\n",
    "        n2 = n * n\n",
    "        batch_size = torch.prod(torch.tensor(h.shape)).item() // n2\n",
    "        i, j = GivensLoss._get_ij(h)\n",
    "\n",
    "        # Compute the differentiable part.\n",
    "        h1 = h.clone()\n",
    "        h1v = h1.view(batch_size, n, n)\n",
    "        batch_idx = torch.arange(batch_size, dtype=int)\n",
    "        h1v[batch_idx, i, i] = 0\n",
    "        h1v[batch_idx, i, j] = 0\n",
    "        h1v[batch_idx, j, i] = 0\n",
    "        h1v[batch_idx, j, j] = 0\n",
    "        ctx.save_for_backward(h1)\n",
    "\n",
    "        return torch.linalg.matrix_norm(h1, ord='fro', dim=(-2, -1))**2\n",
    "    \n",
    "    @staticmethod\n",
    "    def make_sparse(h, keep=None):\n",
    "        n = h.shape[-1]\n",
    "        n2 = n * n\n",
    "        batch_size = torch.prod(torch.tensor(h.shape)).item() // n2\n",
    "\n",
    "        i, j = GivensLoss._get_ij(h)\n",
    "        batch_idx = torch.arange(batch_size, dtype=int)\n",
    "        hv = h.view(batch_size, n, n)\n",
    "        if keep is None:\n",
    "            res = torch.zeros((batch_size, n, n), dtype=torch.cdouble)\n",
    "        else:\n",
    "            assert isinstance(keep, float)\n",
    "            res = hv.clone() * keep\n",
    "        res[batch_idx, i, i] = hv[batch_idx, i, i]\n",
    "        res[batch_idx, i, j] = hv[batch_idx, i, j]\n",
    "        res[batch_idx, j, i] = hv[batch_idx, j, i]\n",
    "        res[batch_idx, j, j] = hv[batch_idx, j, j]\n",
    "        return res.reshape(h.shape)\n",
    "\n",
    "    @staticmethod\n",
    "    def backward(ctx, grad_output):\n",
    "        assert not torch.isnan(grad_output).any()\n",
    "        h1, = ctx.saved_tensors\n",
    "        return 2 * h1 * grad_output[..., None, None]\n",
    "\n",
    "rng = np.random.default_rng(2)\n",
    "x_shape = (2, 2, 4, 4)\n",
    "x = rng.normal(size=x_shape) + 1j * rng.normal(size=x_shape)\n",
    "x = torch.tensor(x + np.moveaxis(x, -1, -2).conj(), dtype=torch.cdouble, requires_grad=True)\n",
    "print(f\"GivensLoss grad check: {torch.autograd.gradcheck(GivensLoss.apply, x)}\")\n",
    "\n",
    "def square_product_mismatch(h, q):\n",
    "    g = torch.linalg.matrix_exp(1j * h)\n",
    "    g_list = [g[..., j1, :, :] for j1 in range(g.shape[-3])]\n",
    "    prod_g = functools.reduce(torch.matmul, g_list)\n",
    "    diff = prod_g - q[None, :, :]\n",
    "\n",
    "    return torch.linalg.matrix_norm(diff, ord='fro', dim=(-2, -1))**2"
   ]
  },
  {
   "cell_type": "code",
   "execution_count": 346,
   "id": "5cdcdd23-fbab-423d-814f-2e4f9e3283fa",
   "metadata": {
    "tags": []
   },
   "outputs": [],
   "source": [
    "class MinimalGivensDecomposition(torch.nn.Module):\n",
    "    def __init__(self, q, num_samples=16384, num_matrices=7, n=5,\n",
    "                 sampler_version=4, oversampling_ratio=8):\n",
    "        super(MinimalGivensDecomposition, self).__init__()\n",
    "        self.q = torch.tensor(q)\n",
    "        # h = self.sample_h((num_samples, num_matrices), n=n)\n",
    "        if sampler_version == 1:\n",
    "            h = self.sample_h((num_samples, num_matrices), n)\n",
    "            self.prev_losses = None\n",
    "        else:\n",
    "            assert sampler_version == 4\n",
    "            h, self.prev_losses = self.sample_h_v4(\n",
    "                num_orig_samples=int(num_samples * oversampling_ratio + 0.5),\n",
    "                num_samples=num_samples,\n",
    "                num_matrices=num_matrices, n=n)\n",
    "        self.h = torch.nn.Parameter(h)\n",
    "\n",
    "    @staticmethod\n",
    "    def sample_h(batch_size, n):\n",
    "        if isinstance(batch_size, int):\n",
    "            batch_size=(batch_size,)\n",
    "        h_shape = batch_size + (n, n)\n",
    "        h0 = torch.randn(h_shape, dtype=torch.cdouble)\n",
    "        hq, _ = torch.linalg.qr(h0)\n",
    "        hr_diag = 2 * torch.rand(batch_size + (n,), dtype=torch.double) - 1\n",
    "        hr_diag = (hr_diag * math.pi).to(dtype=torch.cdouble)\n",
    "        hr = torch.diag_embed(hr_diag)\n",
    "        h = hq @ hr @ hq.conj().transpose(-2, -1)\n",
    "        return h\n",
    "    \n",
    "    @staticmethod\n",
    "    def logm_unitary(g):\n",
    "        \"\"\"\n",
    "        For a unitary matrix g, return h s.t. g = exp(1j * h).\n",
    "        \n",
    "        That is, compute -1j * log(g).\n",
    "        \n",
    "        Eigenvalues of `h` are in `[-pi, pi]`.\n",
    "        \"\"\"\n",
    "        eigenvalues, eigenvectors = torch.linalg.eig(g)\n",
    "        eigenvalues_angle = torch.angle(eigenvalues)\n",
    "        # Ensure the angle is in [-pi, pi]:\n",
    "        eigenvalues_angle = (eigenvalues_angle + cmath.pi) % (2 * cmath.pi) - cmath.pi\n",
    "\n",
    "        # Reconstruct log_q using the diagonalized eigenvalues\n",
    "        log_eigenvalues = eigenvalues_angle.to(dtype=torch.cdouble)\n",
    "        log_g = torch.matmul(\n",
    "            eigenvectors,\n",
    "            torch.matmul(\n",
    "                log_eigenvalues.diag_embed(), torch.linalg.inv(eigenvectors)))\n",
    "        return log_g\n",
    "    \n",
    "    @staticmethod\n",
    "    def replace_hj(h, q, j, mode='full'):\n",
    "        num_samples = h.shape[0]\n",
    "        k = h.shape[1]\n",
    "        n = h.shape[2]\n",
    "        assert h.shape == (num_samples, k, n, n)\n",
    "        if isinstance(j, int):\n",
    "            assert j < k\n",
    "            j = torch.full(fill_value=j, size=(num_samples,))\n",
    "        else:\n",
    "            assert torch.all(j < k)\n",
    "        # g[j] = g[j-1]^{-1} * g[0]^{-1} * q * g[k-1]^{-1} * ... * g[j+1]^{-1}\n",
    "        g_list = torch.zeros((k, num_samples, n, n), dtype=torch.cdouble)\n",
    "        ii0 = torch.arange(num_samples)\n",
    "        g_list[j, ii0, :, :] = q[None, :, :]\n",
    "        # k-1, k-2, ..., j+1, j-1, ..., 0:\n",
    "        j_in = torch.full(fill_value=k, size=(num_samples,))\n",
    "        j_out = j.clone() # j+1, ..., k-1, 0, ..., j-1\n",
    "        for _ in range(k-1):\n",
    "            j_in -= 1\n",
    "            j_out += 1\n",
    "            at_end = (j_in == j).to(dtype=torch.int64)\n",
    "            at_end2 = (j_out == k).to(dtype=torch.int64)\n",
    "            j_in -= at_end\n",
    "            j_out -= at_end * k\n",
    "            g_list[j_out, ii0, :, :] = torch.linalg.matrix_exp(-1j * h[ii0, j_in, :, :])\n",
    "        hj = MinimalGivensDecomposition.logm_unitary(\n",
    "            functools.reduce(torch.matmul, g_list))\n",
    "        if mode == 'full':\n",
    "            pass\n",
    "        elif mode == 'sparse':\n",
    "            hj = GivensLoss.make_sparse(hj)\n",
    "        else:\n",
    "            assert isinstance(mode, float)\n",
    "            hj = GivensLoss.make_sparse(hj, keep=mode)\n",
    "        h[ii0, j, :, :] = hj\n",
    "    \n",
    "    def replace_hj_loops(self, h, num_loops=1, mode=1e-3):\n",
    "        k = h.shape[1]\n",
    "        if mode == \"spread_loss\":\n",
    "            assert num_loops >= 1\n",
    "            for j0, j in enumerate(batch_randperm(h.shape[0], k).T):\n",
    "                total_weight = k - j0 + 1 / k\n",
    "                self.replace_hj(h, q=self.q, j=j, mode=1.0 / total_weight)\n",
    "            total_weight = 1 + 1.0 / num_matrices\n",
    "            self.replace_hj_loops(h, num_loops=num_loops-1, mode=1.0 / total_weight)\n",
    "        else:\n",
    "            for _ in range(num_loops):\n",
    "                for j in batch_randperm(h.shape[0], k).T:\n",
    "                    self.replace_hj(h, q=self.q, j=j, mode=mode)            \n",
    "    \n",
    "    def sample_h_v2(self, num_samples, num_matrices, n):\n",
    "        h = self.sample_h((num_samples, num_matrices), n)\n",
    "        self.replace_hj(h, q=self.q, j=0, mode='full')\n",
    "        return h\n",
    "\n",
    "    def sample_h_v3(self, num_samples, num_matrices, n):\n",
    "        h = self.sample_h((num_samples, num_matrices), n)\n",
    "        self.replace_hj_loops(h, num_loops=6, mode=1e-3)\n",
    "        self.replace_hj_loops(h, num_loops=2, mode=\"spread_loss\")\n",
    "        return h\n",
    "    \n",
    "    def sample_h_v4(self, num_orig_samples, num_samples, num_matrices, n):\n",
    "        assert num_orig_samples >= num_samples * 4\n",
    "        h = self.sample_h((num_orig_samples, num_matrices), n)\n",
    "        self.replace_hj_loops(h, num_loops=8, mode=1e-3)\n",
    "        self.replace_hj_loops(h, num_loops=1, mode=\"spread_loss\")\n",
    "        h, losses = self._make_sparser(h, self.q, ratio=(num_samples-0.4) / h.shape[0])\n",
    "        return h, losses\n",
    "\n",
    "    @staticmethod\n",
    "    def losses_fn(h, q):\n",
    "        h1 = (h + h.conj().transpose(-1, -2)) / 2\n",
    "        mismatch_loss = square_product_mismatch(h1, q)\n",
    "        givens_loss = GivensLoss.apply(h1)\n",
    "        weight_decay = 0.0 # 1e-5 * torch.sum(torch.abs(h * h.conj()), dim=tuple(range(len(h.shape)))[1:])\n",
    "        num_matrices = h.shape[-3]\n",
    "        return num_matrices * mismatch_loss + torch.sum(givens_loss, dim=-1) + weight_decay\n",
    "\n",
    "    @staticmethod\n",
    "    def loss_fn(h, q):\n",
    "        return torch.sum(losses_fn(h, q))\n",
    "\n",
    "    def forward(self):\n",
    "        losses = self.losses_fn(self.h, self.q)\n",
    "        self.prev_losses = losses\n",
    "        loss = torch.sum(losses)\n",
    "        return loss\n",
    "\n",
    "    @staticmethod\n",
    "    def _make_sparser(h, q, losses=None, verbose=1, ratio=0.5):\n",
    "        if losses is None:\n",
    "            losses = MinimalGivensDecomposition.losses_fn(h, q)\n",
    "        mean_loss0 = torch.mean(losses)\n",
    "        ii = torch.argsort(losses)\n",
    "        iimax = math.ceil(ii.shape[0] * ratio)\n",
    "        ii = ii[:iimax]\n",
    "        h = h[ii, ...]\n",
    "        losses = losses[ii]\n",
    "        if verbose:\n",
    "            mean_loss1 = torch.mean(losses)\n",
    "            print(f\"{mean_loss0:.3g} -> {mean_loss1:.3g}\")\n",
    "        return h, losses\n",
    "    \n",
    "    def make_sparser(self, verbose=1, ratio=0.5):\n",
    "        # reset the .grad fields of your parameters to None after use to break\n",
    "        # the potential cycle.\n",
    "        self.h.grad = None\n",
    "        with torch.no_grad():\n",
    "            h = self.h.data\n",
    "            h, losses = self._make_sparser(\n",
    "                h, q=self.q, losses=self.prev_losses, verbose=verbose,\n",
    "                ratio=ratio)\n",
    "            self.prev_losses = losses\n",
    "            self.h = torch.nn.Parameter(h.clone().detach())"
   ]
  },
  {
   "cell_type": "code",
   "execution_count": 362,
   "id": "487e960b-917e-4bef-9b9e-f992f32d5800",
   "metadata": {
    "tags": []
   },
   "outputs": [],
   "source": [
    "rows = cols = np.arange(5)\n",
    "q = np.exp((-2 * math.pi / 5 * 1j) * rows[:, None] * rows[None, :]) / 5**0.5\n",
    "assert np.allclose(q @ q.conj().T, np.eye(5))"
   ]
  },
  {
   "cell_type": "code",
   "execution_count": 364,
   "id": "495f9c4d-4f5a-4464-a41e-da66798e0444",
   "metadata": {
    "tags": []
   },
   "outputs": [
    {
     "name": "stdout",
     "output_type": "stream",
     "text": [
      "0.26 -> 0.119\n",
      "CPU times: user 18min 13s, sys: 11min 24s, total: 29min 37s\n",
      "Wall time: 7min 26s\n"
     ]
    }
   ],
   "source": [
    "%%time\n",
    "torch.manual_seed(1)\n",
    "mgd = MinimalGivensDecomposition(q, oversampling_ratio=12.6)\n",
    "training_log = {\n",
    "    \"lr\": [],\n",
    "    \"loss\": [],\n",
    "    \"batch_size\": []}\n",
    "# 1. 5023980.488\n",
    "# 2. 1414316.635\n",
    "# 3. 1456119.854\n",
    "# 4.  509277.176\n",
    "# 5.  119131.239 # 2 passes\n",
    "# 6.   66932.247 # 3 passes\n",
    "# 7.   56811.108 # 4 passes\n",
    "# 8.   54581.541 # randomize order (turns to 12480.904 in 6s)\n",
    "# 9.   44981.348 # 6 passes\n",
    "# 10.   6179.117 # 6 passes + spread loss\n",
    "# 11.   6166.752 # spread loss x2\n",
    "# 12.   2509.654 # oversample & make_sparser (turns to 2307.824 in 7s)\n",
    "# 13.   1641.201 # oversample x4 (2.41s; turns to 1569.111 in 7s)\n",
    "# 14.   1397.221 # oversample x8 (4.44s; turns to 1296.156 in 7s)\n",
    "# 15.   1172.563 # oversample x12.6 (6.98s; turns to 1094.826 in 7s)\n",
    "# 16.   1148.976 # half weight decay (7.16s; turns to 1070.969 in 6s)\n",
    "# 17.   1341.806 # v4: _make_sparser after 2 loops, oversample x12.6 (4.58s)\n",
    "# 18.   1271.361 # #17 + oversampling_ratio=18 (6.41s); worse than #16\n",
    "# 19.   1163.839 # #18 + _make_sparser after 3 loops instead of 2 (6.9s); still worse than #16\n",
    "# 20.   1168.577 # #18 + oversampling_ratio=16, _make_sparser after 4 loops instead of 2 (6.66s); still worse than #16\n",
    "# 21.   1107.948 # #16 + 7 regular loops & 1 spreadout loop instead of 6 & 2 (6.98s)\n",
    "# 22.   1075.146 # #21 + (8 & 1) (7.64s)"
   ]
  },
  {
   "cell_type": "code",
   "execution_count": 365,
   "id": "9009e7ce-03f9-419c-904b-e0844a1838bd",
   "metadata": {
    "tags": []
   },
   "outputs": [
    {
     "name": "stdout",
     "output_type": "stream",
     "text": [
      "2023-09-12 15:00:46 ME: 0, batch_size=16384, lr=0.0002\n",
      "[0: 121.980][1: 121.826][2: 121.629][3: 121.372][4: 121.071][5: 120.748][6: 120.424][7: 120.117][8: 119.839][9: 119.595]\n",
      "[10: 119.385][11: 119.206][12: 119.052][13: 118.916][14: 118.794][15: 118.681][16: 118.574][17: 118.473][18: 118.375][19: 118.282]\n",
      "[20: 118.192][21: 118.106][22: 118.024][23: 117.946][24: 117.871][25: 117.800][26: 117.732][27: 117.666][28: 117.603][29: 117.543]\n",
      "[30: 117.486][31: 117.430][32: 117.376][33: 117.325][34: 117.275][35: 117.227][36: 117.180][37: 117.135][38: 117.091][39: 117.049]\n",
      "[40: 117.008][41: 116.968][42: 116.930][43: 116.893][44: 116.856][45: 116.821][46: 116.787][47: 116.754][48: 116.722][49: 116.690]\n",
      "[50: 116.660][51: 116.630][52: 116.601][53: 116.573][54: 116.546][55: 116.519][56: 116.493][57: 116.468][58: 116.443][59: 116.419]\n",
      "[60: 116.395][61: 116.372][62: 116.349][63: 116.327][64: 116.306][65: 116.285][66: 116.264][67: 116.244][68: 116.224][69: 116.204]\n",
      "[70: 116.185][71: 116.167][72: 116.148][73: 116.130][74: 116.113][75: 116.096][76: 116.079][77: 116.062][78: 116.046][79: 116.030]\n",
      "[80: 116.014][81: 115.999][82: 115.984][83: 115.969][84: 115.955][85: 115.940][86: 115.926][87: 115.913][88: 115.899][89: 115.886]\n",
      "[90: 115.873][91: 115.860][92: 115.847][93: 115.835][94: 115.823][95: 115.811][96: 115.799][97: 115.787][98: 115.776][99: 115.764]\n",
      "[100: 115.753][101: 115.742][102: 115.732][103: 115.721][104: 115.711][105: 115.700][106: 115.690][107: 115.680][108: 115.670][109: 115.661]\n",
      "[110: 115.651][111: 115.642][112: 115.632][113: 115.623][114: 115.614][115: 115.605][116: 115.597][117: 115.588][118: 115.580][119: 115.571]\n",
      "[120: 115.563][121: 115.555][122: 115.547][123: 115.539][124: 115.531][125: 115.523][126: 115.515][127: 115.508]\n",
      "0.113 -> 0.0965\n",
      "2023-09-12 15:06:43 ME: 1, batch_size=8192, lr=0.00027\n",
      "[0: 197.639][0: 197.804][1: 197.647][1: 197.709][2: 197.637][3: 197.643][4: 197.618][5: 197.605][6: 197.597][7: 197.582][8: 197.573][9: 197.563]\n",
      "[10: 197.553][11: 197.545][12: 197.535][13: 197.527][14: 197.518][15: 197.510][16: 197.502][17: 197.493][18: 197.485][19: 197.477]\n",
      "[20: 197.469][21: 197.461][22: 197.453][23: 197.445][24: 197.437][25: 197.429][26: 197.421][27: 197.413][28: 197.406][29: 197.398]\n",
      "[30: 197.390][31: 197.382][32: 197.375][33: 197.367][34: 197.359][35: 197.352][36: 197.344][37: 197.336][38: 197.329][39: 197.321]\n",
      "[40: 197.314][41: 197.306][42: 197.299][43: 197.291][44: 197.284][45: 197.276][46: 197.269][47: 197.262][48: 197.254][49: 197.247]\n",
      "[50: 197.240][51: 197.232][52: 197.225][53: 197.218][54: 197.211][55: 197.203][56: 197.196][57: 197.189][58: 197.182][59: 197.175]\n",
      "[60: 197.168][61: 197.161][62: 197.154][63: 197.147][64: 197.140][65: 197.133][66: 197.126][67: 197.119][68: 197.112][69: 197.105]\n",
      "[70: 197.099][71: 197.092][72: 197.085][73: 197.078][74: 197.071][75: 197.065][76: 197.058][77: 197.051][78: 197.045][79: 197.038]\n",
      "[80: 197.032][81: 197.025][82: 197.019][83: 197.012][84: 197.006][85: 196.999][86: 196.993][87: 196.986][88: 196.980][89: 196.974]\n",
      "[90: 196.967][91: 196.961][92: 196.955][93: 196.948][94: 196.942][95: 196.936][96: 196.930][97: 196.923][98: 196.917][99: 196.911]\n",
      "[100: 196.905][101: 196.899][102: 196.893][103: 196.887][104: 196.881][105: 196.875][106: 196.869][107: 196.863][108: 196.857][109: 196.851]\n",
      "[110: 196.845][111: 196.839][112: 196.833][113: 196.827][114: 196.821][115: 196.816][116: 196.810][117: 196.804][118: 196.798][119: 196.793]\n",
      "[120: 196.787][121: 196.781][122: 196.775][123: 196.770][124: 196.764][125: 196.758][126: 196.753][127: 196.747]\n",
      "0.0961 -> 0.0807\n",
      "2023-09-12 15:12:54 ME: 2, batch_size=4096, lr=6.72e-05\n",
      "[0: 330.698][0: 330.697][0: 330.696][0: 330.694][1: 330.688][2: 330.681][3: 330.673][4: 330.666][5: 330.658][6: 330.651][7: 330.643][8: 330.635][9: 330.627]\n",
      "[10: 330.619][11: 330.610][12: 330.602][13: 330.594][14: 330.585][15: 330.577][16: 330.568][17: 330.560][18: 330.551][19: 330.543]\n",
      "[20: 330.534][21: 330.525][22: 330.516][23: 330.508][24: 330.499][25: 330.490][26: 330.481][27: 330.472][28: 330.463][29: 330.455]\n",
      "[30: 330.446][31: 330.437][32: 330.428][33: 330.419][34: 330.410][35: 330.401][36: 330.392][37: 330.383][38: 330.374][39: 330.364]\n",
      "[40: 330.355][41: 330.346][42: 330.337][43: 330.328][44: 330.319][45: 330.310][46: 330.301][47: 330.291][48: 330.282][49: 330.273]\n",
      "[50: 330.264][51: 330.255][52: 330.245][53: 330.236][54: 330.227][55: 330.218][56: 330.208][57: 330.199][58: 330.190][59: 330.181]\n",
      "[60: 330.172][61: 330.164][62: 330.154][63: 330.145][64: 330.136][65: 330.127][66: 330.118][67: 330.109][68: 330.100][69: 330.091]\n",
      "[70: 330.082][71: 330.073][72: 330.064][73: 330.056][74: 330.047][75: 330.038][76: 330.029][77: 330.020][78: 330.012][79: 330.003]\n",
      "[80: 329.994][81: 329.985][82: 329.976][83: 329.968][84: 329.959][85: 329.950][86: 329.941][87: 329.933][88: 329.924][89: 329.915]\n",
      "[90: 329.906][91: 329.898][92: 329.889][93: 329.880][94: 329.871][95: 329.863][96: 329.854][97: 329.845][98: 329.837][99: 329.828]\n",
      "[100: 329.819][101: 329.811][102: 329.802][103: 329.794][104: 329.785][105: 329.776][106: 329.768][107: 329.759][108: 329.751][109: 329.742]\n",
      "[110: 329.734][111: 329.725][112: 329.717][113: 329.708][114: 329.700][115: 329.691][116: 329.683][117: 329.674][118: 329.666][119: 329.657]\n",
      "[120: 329.649][121: 329.641][122: 329.632][123: 329.624][124: 329.615][125: 329.607][126: 329.599][127: 329.590]\n",
      "0.0805 -> 0.0663\n",
      "2023-09-12 15:19:05 ME: 3, batch_size=2048, lr=2.38e-05\n",
      "[0: 542.942][0: 542.940][0: 542.940][0: 542.936][1: 542.929][2: 542.922][3: 542.914][4: 542.906][5: 542.898][6: 542.890][7: 542.881][8: 542.873][9: 542.864]\n",
      "[10: 542.855][11: 542.846][12: 542.837][13: 542.828][14: 542.818][15: 542.809][16: 542.800][17: 542.790][18: 542.780][19: 542.771]\n",
      "[20: 542.761][21: 542.751][22: 542.741][23: 542.732][24: 542.722][25: 542.712][26: 542.701][27: 542.691][28: 542.681][29: 542.671]\n",
      "[30: 542.661][31: 542.650][32: 542.640][33: 542.630][34: 542.619][35: 542.609][36: 542.598][37: 542.587][38: 542.577][39: 542.566]\n",
      "[40: 542.555][41: 542.545][42: 542.534][43: 542.523][44: 542.512][45: 542.501][46: 542.490][47: 542.479][48: 542.468][49: 542.457]\n",
      "[50: 542.446][51: 542.435][52: 542.424][53: 542.413][54: 542.402][55: 542.390][56: 542.379][57: 542.368][58: 542.357][59: 542.345]\n",
      "[60: 542.334][61: 542.322][62: 542.311][63: 542.300][64: 542.288][65: 542.276][66: 542.265][67: 542.253][68: 542.242][69: 542.230]\n",
      "[70: 542.218][71: 542.207][72: 542.195][73: 542.183][74: 542.172][75: 542.160][76: 542.148][77: 542.136][78: 542.124][79: 542.112]\n",
      "[80: 542.101][81: 542.089][82: 542.077][83: 542.065][84: 542.053][85: 542.041][86: 542.029][87: 542.017][88: 542.005][89: 541.992]\n",
      "[90: 541.980][91: 541.968][92: 541.956][93: 541.944][94: 541.932][95: 541.919][96: 541.907][97: 541.895][98: 541.883][99: 541.870]\n",
      "[100: 541.858][101: 541.846][102: 541.833][103: 541.821][104: 541.809][105: 541.797][106: 541.785][107: 541.772][108: 541.760][109: 541.748]\n",
      "[110: 541.735][111: 541.723][112: 541.711][113: 541.699][114: 541.686][115: 541.674][116: 541.662][117: 541.650][118: 541.638][119: 541.625]\n",
      "[120: 541.613][121: 541.601][122: 541.589][123: 541.576][124: 541.564][125: 541.552][126: 541.539][127: 541.527]\n",
      "0.0661 -> 0.0547\n",
      "2023-09-12 15:24:55 ME: 4, batch_size=1024, lr=9.84e-06\n",
      "[0: 895.946][0: 895.946][0: 895.946][0: 895.941][1: 895.934][2: 895.927][3: 895.920][4: 895.912][5: 895.904][6: 895.896][7: 895.888][8: 895.879][9: 895.871]\n",
      "[10: 895.862][11: 895.853][12: 895.844][13: 895.835][14: 895.825][15: 895.816][16: 895.806][17: 895.797][18: 895.787][19: 895.778]\n",
      "[20: 895.768][21: 895.758][22: 895.748][23: 895.738][24: 895.728][25: 895.718][26: 895.708][27: 895.697][28: 895.687][29: 895.677]\n",
      "[30: 895.666][31: 895.656][32: 895.645][33: 895.635][34: 895.624][35: 895.613][36: 895.603][37: 895.592][38: 895.581][39: 895.570]\n",
      "[40: 895.559][41: 895.548][42: 895.537][43: 895.526][44: 895.515][45: 895.504][46: 895.493][47: 895.481][48: 895.470][49: 895.459]\n",
      "[50: 895.447][51: 895.436][52: 895.424][53: 895.413][54: 895.401][55: 895.390][56: 895.378][57: 895.367][58: 895.355][59: 895.343]\n",
      "[60: 895.331][61: 895.320][62: 895.308][63: 895.296][64: 895.284][65: 895.272][66: 895.260][67: 895.248][68: 895.236][69: 895.224]\n",
      "[70: 895.212][71: 895.200][72: 895.188][73: 895.175][74: 895.163][75: 895.151][76: 895.139][77: 895.126][78: 895.114][79: 895.102]\n",
      "[80: 895.089][81: 895.077][82: 895.064][83: 895.052][84: 895.039][85: 895.027][86: 895.014][87: 895.002][88: 894.989][89: 894.976]\n",
      "[90: 894.963][91: 894.951][92: 894.938][93: 894.925][94: 894.912][95: 894.900][96: 894.887][97: 894.874][98: 894.861][99: 894.848]\n",
      "[100: 894.835][101: 894.822][102: 894.809][103: 894.796][104: 894.783][105: 894.770][106: 894.757][107: 894.744][108: 894.730][109: 894.717]\n",
      "[110: 894.704][111: 894.691][112: 894.678][113: 894.664][114: 894.651][115: 894.638][116: 894.624][117: 894.611][118: 894.598][119: 894.584]\n",
      "[120: 894.571][121: 894.557][122: 894.544][123: 894.530][124: 894.517][125: 894.503][126: 894.490][127: 894.476]\n",
      "0.0546 -> 0.0384\n",
      "2023-09-12 15:30:50 ME: 5, batch_size=512, lr=3.93e-06\n",
      "[0: 1258.587][0: 1258.587][0: 1258.587][0: 1258.579][1: 1258.568][2: 1258.557][3: 1258.545][4: 1258.532][5: 1258.520][6: 1258.507][7: 1258.493][8: 1258.480][9: 1258.466]\n",
      "[10: 1258.452][11: 1258.438][12: 1258.424][13: 1258.409][14: 1258.394][15: 1258.379][16: 1258.364][17: 1258.349][18: 1258.333][19: 1258.318]\n",
      "[20: 1258.302][21: 1258.286][22: 1258.270][23: 1258.254][24: 1258.238][25: 1258.221][26: 1258.205][27: 1258.188][28: 1258.172][29: 1258.155]\n",
      "[30: 1258.138][31: 1258.121][32: 1258.103][33: 1258.086][34: 1258.069][35: 1258.051][36: 1258.033][37: 1258.015][38: 1257.998][39: 1257.980]\n",
      "[40: 1257.962][41: 1257.943][42: 1257.925][43: 1257.907][44: 1257.888][45: 1257.870][46: 1257.851][47: 1257.832][48: 1257.813][49: 1257.794]\n",
      "[50: 1257.775][51: 1257.756][52: 1257.737][53: 1257.718][54: 1257.698][55: 1257.679][56: 1257.659][57: 1257.640][58: 1257.620][59: 1257.600]\n",
      "[60: 1257.580][61: 1257.560][62: 1257.540][63: 1257.520][64: 1257.500][65: 1257.479][66: 1257.459][67: 1257.439][68: 1257.418][69: 1257.397]\n",
      "[70: 1257.377][71: 1257.356][72: 1257.335][73: 1257.314][74: 1257.293][75: 1257.272][76: 1257.251][77: 1257.230][78: 1257.209][79: 1257.187]\n",
      "[80: 1257.166][81: 1257.144][82: 1257.123][83: 1257.101][84: 1257.079][85: 1257.058][86: 1257.036][87: 1257.014][88: 1256.992][89: 1256.970]\n",
      "[90: 1256.948][91: 1256.925][92: 1256.903][93: 1256.881][94: 1256.859][95: 1256.836][96: 1256.814][97: 1256.791][98: 1256.768][99: 1256.746]\n",
      "[100: 1256.723][101: 1256.700][102: 1256.677][103: 1256.654][104: 1256.631][105: 1256.608][106: 1256.585][107: 1256.562][108: 1256.539][109: 1256.516]\n",
      "[110: 1256.492][111: 1256.469][112: 1256.445][113: 1256.422][114: 1256.398][115: 1256.375][116: 1256.351][117: 1256.327][118: 1256.304][119: 1256.280]\n",
      "[120: 1256.256][121: 1256.232][122: 1256.208][123: 1256.184][124: 1256.160][125: 1256.136][126: 1256.112][127: 1256.088]\n",
      "0.0383 -> 0.0308\n",
      "2023-09-12 15:37:06 ME: 6, batch_size=256, lr=1.82e-06\n",
      "[0: 2021.264][0: 2021.264][0: 2021.264][0: 2021.252][1: 2021.237][2: 2021.222][3: 2021.205][4: 2021.188][5: 2021.171][6: 2021.153][7: 2021.135][8: 2021.117][9: 2021.098]\n",
      "[10: 2021.079][11: 2021.059][12: 2021.040][13: 2021.020][14: 2020.999][15: 2020.979][16: 2020.958][17: 2020.937][18: 2020.916][19: 2020.895]\n",
      "[20: 2020.873][21: 2020.852][22: 2020.830][23: 2020.808][24: 2020.786][25: 2020.763][26: 2020.741][27: 2020.718][28: 2020.695][29: 2020.672]\n",
      "[30: 2020.649][31: 2020.625][32: 2020.602][33: 2020.578][34: 2020.554][35: 2020.530][36: 2020.506][37: 2020.482][38: 2020.458][39: 2020.433]\n",
      "[40: 2020.409][41: 2020.384][42: 2020.359][43: 2020.334][44: 2020.309][45: 2020.283][46: 2020.258][47: 2020.233][48: 2020.207][49: 2020.181]\n",
      "[50: 2020.155][51: 2020.129][52: 2020.103][53: 2020.077][54: 2020.051][55: 2020.024][56: 2019.998][57: 2019.971][58: 2019.944][59: 2019.917]\n",
      "[60: 2019.890][61: 2019.863][62: 2019.836][63: 2019.809][64: 2019.782][65: 2019.754][66: 2019.726][67: 2019.699][68: 2019.671][69: 2019.643]\n",
      "[70: 2019.615][71: 2019.587][72: 2019.559][73: 2019.530][74: 2019.502][75: 2019.473][76: 2019.445][77: 2019.416][78: 2019.387][79: 2019.359]\n",
      "[80: 2019.330][81: 2019.301][82: 2019.271][83: 2019.242][84: 2019.213][85: 2019.183][86: 2019.154][87: 2019.124][88: 2019.095][89: 2019.065]\n",
      "[90: 2019.035][91: 2019.005][92: 2018.975][93: 2018.945][94: 2018.915][95: 2018.885][96: 2018.855][97: 2018.824][98: 2018.794][99: 2018.764]\n",
      "[100: 2018.733][101: 2018.702][102: 2018.672][103: 2018.641][104: 2018.610][105: 2018.579][106: 2018.548][107: 2018.517][108: 2018.486][109: 2018.455]\n",
      "[110: 2018.424][111: 2018.392][112: 2018.361][113: 2018.329][114: 2018.298][115: 2018.266][116: 2018.235][117: 2018.203][118: 2018.171][119: 2018.139]\n",
      "[120: 2018.107][121: 2018.076][122: 2018.043][123: 2018.011][124: 2017.979][125: 2017.947][126: 2017.915][127: 2017.882]\n",
      "0.0308 -> 0.024\n"
     ]
    }
   ],
   "source": [
    "n_epochs = 128\n",
    "learning_rate0 = 8e-4 # 5e-3\n",
    "learning_rate = learning_rate0\n",
    "orig_batch_size = mgd.h.shape[0]\n",
    "for meta_epoch in range(7):\n",
    "    cut_ratio = 2**meta_epoch\n",
    "    learning_rate = min(learning_rate / 4, learning_rate0 / cut_ratio)\n",
    "    # optimizer = torch.optim.Adam([mgd.h], lr=learning_rate)\n",
    "    # 1e-5 / orig_batch_size\n",
    "    if mgd.prev_losses is None:\n",
    "        loss_scale = 4 * mgd.h.shape[1] * mgd.h.shape[-1]\n",
    "    else:\n",
    "        loss_scale = torch.mean(mgd.prev_losses).item()\n",
    "    # TODO: do we really need / cut_ratio here?\n",
    "    optimizer = gdtuo.Adam(\n",
    "        alpha=learning_rate,\n",
    "        optimizer=gdtuo.SGD(0.5e-4 / loss_scale**0.5 / orig_batch_size / cut_ratio))\n",
    "    mw = gdtuo.ModuleWrapper(mgd, optimizer=optimizer)\n",
    "    mw.initialize()\n",
    "    print(f\"{datetime.datetime.now():%Y-%m-%d %H:%M:%S} ME: {meta_epoch}, \"\n",
    "          +f\"batch_size={mgd.h.shape[0]}, lr={learning_rate:.3g}\")\n",
    "    for epoch in range(n_epochs * cut_ratio):\n",
    "        mw.begin()\n",
    "        loss = mgd() # TODO: mw.forward()?\n",
    "        training_log[\"lr\"].append(optimizer.parameters[\"alpha\"].item())\n",
    "        training_log[\"loss\"].append(loss.item())\n",
    "        training_log[\"batch_size\"].append(mgd.h.shape[0])\n",
    "        if epoch <= 2 or epoch % cut_ratio == cut_ratio - 1:\n",
    "            display_epoch = epoch // cut_ratio\n",
    "            if display_epoch % 10 == 0 and display_epoch > 0:\n",
    "                print()\n",
    "            display_loss = loss.item() * (4096 / mgd.h.shape[0])**2\n",
    "            print(f'[{display_epoch}: {display_loss:.3f}'\n",
    "                  # + \", \" + \", \".join(f\"{k}:{v:.3g}\" for k, v in optimizer.parameters.items())\n",
    "                  + \"]\", end=\"\")\n",
    "        mw.zero_grad()\n",
    "        assert not torch.isnan(loss).any()\n",
    "        loss.backward(create_graph=True)\n",
    "        assert not torch.isnan(mgd.h.grad).any()\n",
    "        mw.step()\n",
    "        assert not torch.isnan(mgd.h.data).any()\n",
    "    learning_rate = optimizer.parameters[\"alpha\"].item()\n",
    "    print(\"\")\n",
    "    mgd.make_sparser()"
   ]
  },
  {
   "cell_type": "code",
   "execution_count": 352,
   "id": "3790d823-cc17-4d8c-90be-bb517896eab2",
   "metadata": {
    "tags": []
   },
   "outputs": [
    {
     "name": "stdout",
     "output_type": "stream",
     "text": [
      "2023-09-12 14:00:29 ME: 0, batch_size=16384, lr=0.0002\n",
      "[0: 17.099][1: 17.061][2: 17.008][3: 16.948][4: 16.881][5: 16.813][6: 16.748][7: 16.692][8: 16.645][9: 16.608]\n",
      "[10: 16.581][11: 16.560][12: 16.545][13: 16.533][14: 16.524][15: 16.515][16: 16.506][17: 16.498][18: 16.489][19: 16.480]\n",
      "[20: 16.470][21: 16.461][22: 16.451][23: 16.442][24: 16.434][25: 16.425][26: 16.417][27: 16.409][28: 16.402][29: 16.395]\n",
      "[30: 16.388][31: 16.382][32: 16.376][33: 16.370][34: 16.364][35: 16.358][36: 16.352][37: 16.347][38: 16.341][39: 16.336]\n",
      "[40: 16.330][41: 16.325][42: 16.320][43: 16.315][44: 16.309][45: 16.304][46: 16.300][47: 16.295][48: 16.290][49: 16.285]\n",
      "[50: 16.281][51: 16.276][52: 16.271][53: 16.267][54: 16.263][55: 16.258][56: 16.254][57: 16.250][58: 16.246][59: 16.241]\n",
      "[60: 16.237][61: 16.233][62: 16.229][63: 16.225][64: 16.221][65: 16.218][66: 16.214][67: 16.210][68: 16.206][69: 16.202]\n",
      "[70: 16.199][71: 16.195][72: 16.191][73: 16.188][74: 16.184][75: 16.181][76: 16.177][77: 16.174][78: 16.170][79: 16.167]\n",
      "[80: 16.163][81: 16.160][82: 16.157][83: 16.153][84: 16.150][85: 16.147][86: 16.143][87: 16.140][88: 16.137][89: 16.134]\n",
      "[90: 16.131][91: 16.128][92: 16.125][93: 16.122][94: 16.119][95: 16.116][96: 16.113][97: 16.110][98: 16.107][99: 16.104]\n",
      "[100: 16.101][101: 16.098][102: 16.095][103: 16.093][104: 16.090][105: 16.087][106: 16.084][107: 16.082][108: 16.079][109: 16.076]\n",
      "[110: 16.074][111: 16.071][112: 16.068][113: 16.066][114: 16.063][115: 16.061][116: 16.058][117: 16.055][118: 16.053][119: 16.050]\n",
      "[120: 16.048][121: 16.046][122: 16.043][123: 16.041][124: 16.038][125: 16.036][126: 16.034][127: 16.031]\n",
      "0.0157 -> 0.0124\n",
      "2023-09-12 14:06:31 ME: 1, batch_size=8192, lr=0.000139\n",
      "[0: 25.469][0: 25.477][1: 25.466][1: 25.468][2: 25.462][3: 25.459][4: 25.455][5: 25.452][6: 25.448][7: 25.445][8: 25.441][9: 25.438]\n",
      "[10: 25.434][11: 25.431][12: 25.427][13: 25.424][14: 25.420][15: 25.416][16: 25.413][17: 25.409][18: 25.405][19: 25.401]\n",
      "[20: 25.398][21: 25.394][22: 25.390][23: 25.386][24: 25.382][25: 25.378][26: 25.374][27: 25.370][28: 25.366][29: 25.362]\n",
      "[30: 25.358][31: 25.354][32: 25.350][33: 25.346][34: 25.342][35: 25.337][36: 25.333][37: 25.329][38: 25.325][39: 25.321]\n",
      "[40: 25.316][41: 25.312][42: 25.308][43: 25.304][44: 25.300][45: 25.296][46: 25.291][47: 25.287][48: 25.283][49: 25.279]\n",
      "[50: 25.275][51: 25.270][52: 25.266][53: 25.262][54: 25.258][55: 25.254][56: 25.250][57: 25.245][58: 25.241][59: 25.237]\n",
      "[60: 25.233][61: 25.229][62: 25.225][63: 25.221][64: 25.217][65: 25.213][66: 25.209][67: 25.205][68: 25.201][69: 25.197]\n",
      "[70: 25.193][71: 25.189][72: 25.185][73: 25.181][74: 25.177][75: 25.173][76: 25.169][77: 25.165][78: 25.161][79: 25.157]\n",
      "[80: 25.153][81: 25.149][82: 25.146][83: 25.142][84: 25.138][85: 25.134][86: 25.130][87: 25.126][88: 25.123][89: 25.119]\n",
      "[90: 25.115][91: 25.111][92: 25.108][93: 25.104][94: 25.100][95: 25.097][96: 25.093][97: 25.089][98: 25.086][99: 25.082]\n",
      "[100: 25.078][101: 25.075][102: 25.071][103: 25.068][104: 25.064][105: 25.061][106: 25.057][107: 25.054][108: 25.050][109: 25.047]\n",
      "[110: 25.043][111: 25.040][112: 25.036][113: 25.033][114: 25.029][115: 25.026][116: 25.023][117: 25.019][118: 25.016][119: 25.013]\n",
      "[120: 25.009][121: 25.006][122: 25.003][123: 24.999][124: 24.996][125: 24.993][126: 24.990][127: 24.986]\n",
      "0.0122 -> 0.00965\n",
      "2023-09-12 14:12:46 ME: 2, batch_size=4096, lr=4.9e-05\n",
      "[0: 39.539][0: 39.537][0: 39.537][0: 39.536][1: 39.532][2: 39.529][3: 39.525][4: 39.521][5: 39.517][6: 39.513][7: 39.509][8: 39.504][9: 39.500]\n",
      "[10: 39.496][11: 39.491][12: 39.487][13: 39.482][14: 39.477][15: 39.473][16: 39.468][17: 39.463][18: 39.458][19: 39.454]\n",
      "[20: 39.449][21: 39.444][22: 39.439][23: 39.434][24: 39.429][25: 39.424][26: 39.419][27: 39.413][28: 39.408][29: 39.403]\n",
      "[30: 39.398][31: 39.393][32: 39.387][33: 39.382][34: 39.377][35: 39.371][36: 39.366][37: 39.360][38: 39.355][39: 39.349]\n",
      "[40: 39.344][41: 39.338][42: 39.333][43: 39.327][44: 39.322][45: 39.316][46: 39.311][47: 39.305][48: 39.299][49: 39.294]\n",
      "[50: 39.288][51: 39.282][52: 39.276][53: 39.271][54: 39.265][55: 39.259][56: 39.253][57: 39.248][58: 39.242][59: 39.236]\n",
      "[60: 39.230][61: 39.225][62: 39.220][63: 39.214][64: 39.208][65: 39.202][66: 39.197][67: 39.191][68: 39.186][69: 39.180]\n",
      "[70: 39.175][71: 39.169][72: 39.164][73: 39.159][74: 39.153][75: 39.148][76: 39.143][77: 39.137][78: 39.132][79: 39.126]\n",
      "[80: 39.121][81: 39.116][82: 39.110][83: 39.105][84: 39.100][85: 39.094][86: 39.089][87: 39.084][88: 39.078][89: 39.073]\n",
      "[90: 39.068][91: 39.062][92: 39.057][93: 39.052][94: 39.047][95: 39.041][96: 39.036][97: 39.031][98: 39.026][99: 39.021]\n",
      "[100: 39.015][101: 39.010][102: 39.005][103: 39.000][104: 38.995][105: 38.990][106: 38.985][107: 38.980][108: 38.974][109: 38.969]\n",
      "[110: 38.964][111: 38.959][112: 38.954][113: 38.949][114: 38.944][115: 38.939][116: 38.934][117: 38.929][118: 38.925][119: 38.920]\n",
      "[120: 38.915][121: 38.910][122: 38.905][123: 38.900][124: 38.895][125: 38.891][126: 38.886][127: 38.881]\n",
      "0.00949 -> 0.00742\n",
      "2023-09-12 14:19:04 ME: 3, batch_size=2048, lr=2.34e-05\n",
      "[0: 60.785][0: 60.784][0: 60.783][0: 60.780][1: 60.775][2: 60.770][3: 60.764][4: 60.759][5: 60.753][6: 60.747][7: 60.741][8: 60.735][9: 60.728]\n",
      "[10: 60.722][11: 60.716][12: 60.709][13: 60.703][14: 60.696][15: 60.690][16: 60.683][17: 60.676][18: 60.669][19: 60.663]\n",
      "[20: 60.656][21: 60.649][22: 60.642][23: 60.635][24: 60.628][25: 60.620][26: 60.613][27: 60.606][28: 60.599][29: 60.591]\n",
      "[30: 60.584][31: 60.577][32: 60.569][33: 60.562][34: 60.554][35: 60.547][36: 60.539][37: 60.531][38: 60.524][39: 60.516]\n",
      "[40: 60.508][41: 60.501][42: 60.493][43: 60.485][44: 60.477][45: 60.469][46: 60.461][47: 60.453][48: 60.445][49: 60.437]\n",
      "[50: 60.429][51: 60.421][52: 60.413][53: 60.405][54: 60.397][55: 60.389][56: 60.381][57: 60.373][58: 60.365][59: 60.356]\n",
      "[60: 60.348][61: 60.340][62: 60.332][63: 60.323][64: 60.315][65: 60.307][66: 60.298][67: 60.290][68: 60.282][69: 60.273]\n",
      "[70: 60.265][71: 60.256][72: 60.248][73: 60.239][74: 60.231][75: 60.223][76: 60.214][77: 60.206][78: 60.197][79: 60.189]\n",
      "[80: 60.180][81: 60.171][82: 60.163][83: 60.155][84: 60.147][85: 60.138][86: 60.130][87: 60.121][88: 60.113][89: 60.105]\n",
      "[90: 60.097][91: 60.089][92: 60.080][93: 60.072][94: 60.064][95: 60.056][96: 60.048][97: 60.040][98: 60.032][99: 60.024]\n",
      "[100: 60.016][101: 60.008][102: 59.999][103: 59.991][104: 59.983][105: 59.975][106: 59.967][107: 59.959][108: 59.951][109: 59.943]\n",
      "[110: 59.935][111: 59.927][112: 59.919][113: 59.911][114: 59.904][115: 59.896][116: 59.888][117: 59.880][118: 59.872][119: 59.864]\n",
      "[120: 59.856][121: 59.849][122: 59.841][123: 59.833][124: 59.825][125: 59.818][126: 59.810][127: 59.802]\n",
      "0.0073 -> 0.00567\n",
      "2023-09-12 14:25:29 ME: 4, batch_size=1024, lr=1.2e-05\n",
      "[0: 92.892][0: 92.891][0: 92.891][0: 92.884][1: 92.875][2: 92.866][3: 92.857][4: 92.847][5: 92.838][6: 92.828][7: 92.818][8: 92.808][9: 92.798]\n",
      "[10: 92.787][11: 92.777][12: 92.767][13: 92.756][14: 92.745][15: 92.735][16: 92.724][17: 92.713][18: 92.702][19: 92.691]\n",
      "[20: 92.680][21: 92.669][22: 92.658][23: 92.646][24: 92.635][25: 92.623][26: 92.612][27: 92.600][28: 92.589][29: 92.577]\n",
      "[30: 92.565][31: 92.554][32: 92.542][33: 92.530][34: 92.518][35: 92.506][36: 92.494][37: 92.482][38: 92.470][39: 92.458]\n",
      "[40: 92.445][41: 92.433][42: 92.421][43: 92.409][44: 92.396][45: 92.384][46: 92.371][47: 92.359][48: 92.346][49: 92.334]\n",
      "[50: 92.321][51: 92.308][52: 92.296][53: 92.283][54: 92.270][55: 92.258][56: 92.245][57: 92.232][58: 92.219][59: 92.206]\n",
      "[60: 92.193][61: 92.180][62: 92.167][63: 92.154][64: 92.141][65: 92.128][66: 92.115][67: 92.102][68: 92.089][69: 92.076]\n",
      "[70: 92.063][71: 92.050][72: 92.037][73: 92.023][74: 92.010][75: 91.997][76: 91.984][77: 91.971][78: 91.957][79: 91.944]\n",
      "[80: 91.931][81: 91.917][82: 91.904][83: 91.891][84: 91.877][85: 91.864][86: 91.851][87: 91.837][88: 91.824][89: 91.811]\n",
      "[90: 91.797][91: 91.784][92: 91.771][93: 91.757][94: 91.744][95: 91.731][96: 91.717][97: 91.704][98: 91.691][99: 91.678]\n",
      "[100: 91.665][101: 91.652][102: 91.639][103: 91.626][104: 91.612][105: 91.599][106: 91.586][107: 91.573][108: 91.560][109: 91.547]\n",
      "[110: 91.534][111: 91.521][112: 91.508][113: 91.495][114: 91.482][115: 91.470][116: 91.457][117: 91.444][118: 91.431][119: 91.418]\n",
      "[120: 91.405][121: 91.393][122: 91.380][123: 91.367][124: 91.355][125: 91.342][126: 91.329][127: 91.317]\n",
      "0.00557 -> 0.00445\n",
      "2023-09-12 14:31:38 ME: 5, batch_size=512, lr=6.12e-06\n",
      "[0: 145.825][0: 145.825][0: 145.824][0: 145.816][1: 145.806][2: 145.795][3: 145.784][4: 145.773][5: 145.762][6: 145.750][7: 145.739][8: 145.727][9: 145.716]\n",
      "[10: 145.704][11: 145.692][12: 145.680][13: 145.668][14: 145.656][15: 145.644][16: 145.632][17: 145.620][18: 145.608][19: 145.595]\n",
      "[20: 145.583][21: 145.571][22: 145.558][23: 145.546][24: 145.533][25: 145.521][26: 145.508][27: 145.496][28: 145.483][29: 145.470]\n",
      "[30: 145.458][31: 145.445][32: 145.432][33: 145.419][34: 145.406][35: 145.393][36: 145.381][37: 145.368][38: 145.355][39: 145.342]\n",
      "[40: 145.329][41: 145.316][42: 145.302][43: 145.289][44: 145.276][45: 145.263][46: 145.250][47: 145.237][48: 145.223][49: 145.210]\n",
      "[50: 145.197][51: 145.183][52: 145.170][53: 145.157][54: 145.143][55: 145.130][56: 145.116][57: 145.103][58: 145.090][59: 145.076]\n",
      "[60: 145.063][61: 145.049][62: 145.036][63: 145.022][64: 145.008][65: 144.995][66: 144.981][67: 144.968][68: 144.954][69: 144.940]\n",
      "[70: 144.927][71: 144.913][72: 144.899][73: 144.886][74: 144.872][75: 144.858][76: 144.844][77: 144.831][78: 144.817][79: 144.803]\n",
      "[80: 144.789][81: 144.776][82: 144.762][83: 144.748][84: 144.734][85: 144.720][86: 144.707][87: 144.693][88: 144.679][89: 144.665]\n",
      "[90: 144.651][91: 144.637][92: 144.624][93: 144.610][94: 144.596][95: 144.582][96: 144.568][97: 144.555][98: 144.541][99: 144.527]\n",
      "[100: 144.514][101: 144.500][102: 144.486][103: 144.472][104: 144.459][105: 144.445][106: 144.431][107: 144.418][108: 144.404][109: 144.391]\n",
      "[110: 144.377][111: 144.364][112: 144.350][113: 144.337][114: 144.323][115: 144.310][116: 144.296][117: 144.283][118: 144.269][119: 144.256]\n",
      "[120: 144.243][121: 144.229][122: 144.216][123: 144.203][124: 144.190][125: 144.176][126: 144.163][127: 144.150]\n",
      "0.0044 -> 0.0039\n",
      "2023-09-12 14:37:56 ME: 6, batch_size=256, lr=2.6e-06\n",
      "[0: 255.775][0: 255.775][0: 255.775][0: 255.762][1: 255.748][2: 255.734][3: 255.719][4: 255.704][5: 255.689][6: 255.674][7: 255.658][8: 255.643][9: 255.627]\n",
      "[10: 255.611][11: 255.595][12: 255.579][13: 255.563][14: 255.546][15: 255.530][16: 255.513][17: 255.496][18: 255.480][19: 255.463]\n",
      "[20: 255.446][21: 255.429][22: 255.411][23: 255.394][24: 255.377][25: 255.359][26: 255.342][27: 255.324][28: 255.306][29: 255.288]\n",
      "[30: 255.270][31: 255.252][32: 255.234][33: 255.216][34: 255.198][35: 255.179][36: 255.161][37: 255.142][38: 255.124][39: 255.105]\n",
      "[40: 255.086][41: 255.068][42: 255.049][43: 255.030][44: 255.011][45: 254.991][46: 254.972][47: 254.953][48: 254.934][49: 254.914]\n",
      "[50: 254.895][51: 254.875][52: 254.855][53: 254.836][54: 254.816][55: 254.796][56: 254.776][57: 254.756][58: 254.736][59: 254.716]\n",
      "[60: 254.696][61: 254.676][62: 254.656][63: 254.635][64: 254.615][65: 254.594][66: 254.574][67: 254.553][68: 254.533][69: 254.512]\n",
      "[70: 254.491][71: 254.471][72: 254.450][73: 254.429][74: 254.408][75: 254.387][76: 254.366][77: 254.345][78: 254.324][79: 254.303]\n",
      "[80: 254.282][81: 254.261][82: 254.240][83: 254.219][84: 254.198][85: 254.177][86: 254.156][87: 254.134][88: 254.113][89: 254.092]\n",
      "[90: 254.071][91: 254.049][92: 254.028][93: 254.007][94: 253.986][95: 253.964][96: 253.943][97: 253.922][98: 253.900][99: 253.879]\n",
      "[100: 253.858][101: 253.836][102: 253.815][103: 253.794][104: 253.772][105: 253.751][106: 253.729][107: 253.708][108: 253.687][109: 253.665]\n",
      "[110: 253.644][111: 253.622][112: 253.601][113: 253.580][114: 253.558][115: 253.537][116: 253.515][117: 253.494][118: 253.472][119: 253.451]\n",
      "[120: 253.430][121: 253.408][122: 253.387][123: 253.365][124: 253.344][125: 253.322][126: 253.301][127: 253.280]\n",
      "0.00386 -> 0.00335\n"
     ]
    }
   ],
   "source": []
  },
  {
   "cell_type": "code",
   "execution_count": 360,
   "id": "f65311b1-3919-41ca-a8da-c3a099ec6d12",
   "metadata": {
    "tags": []
   },
   "outputs": [],
   "source": [
    "np.savez_compressed(os.path.expanduser(\"~/tmp/fft5_minimal_givens_decomposition.npz\"), mgd.h.data.numpy())"
   ]
  },
  {
   "cell_type": "code",
   "execution_count": 367,
   "id": "c547a9f2-234c-422a-8545-52cc9f32f3a5",
   "metadata": {
    "tags": []
   },
   "outputs": [
    {
     "data": {
      "text/plain": [
       "(0.0, 0.0250445949943914)"
      ]
     },
     "execution_count": 367,
     "metadata": {},
     "output_type": "execute_result"
    },
    {
     "data": {
      "image/png": "[encoded data removed]",
      "text/plain": [
       "<Figure size 640x480 with 1 Axes>"
      ]
     },
     "metadata": {},
     "output_type": "display_data"
    }
   ],
   "source": [
    "prev_losses = mgd.prev_losses.numpy()\n",
    "fig, ax = plt.subplots()\n",
    "ax.plot(prev_losses)\n",
    "ax.set_xlim((0, len(prev_losses)-1))\n",
    "ax.set_ylim((0, np.max(prev_losses)))"
   ]
  },
  {
   "cell_type": "code",
   "execution_count": 357,
   "id": "f355a990-a8c7-4cdd-ad64-b51b0f56a520",
   "metadata": {
    "tags": []
   },
   "outputs": [
    {
     "data": {
      "text/plain": [
       "(0.0, 0.004205325742662553)"
      ]
     },
     "execution_count": 357,
     "metadata": {},
     "output_type": "execute_result"
    },
    {
     "data": {
      "image/png": "[encoded data removed]",
      "text/plain": [
       "<Figure size 640x480 with 1 Axes>"
      ]
     },
     "metadata": {},
     "output_type": "display_data"
    }
   ],
   "source": [
    "prev_losses = mgd.prev_losses.numpy()\n",
    "fig, ax = plt.subplots()\n",
    "ax.plot(prev_losses)\n",
    "ax.set_xlim((0, len(prev_losses)-1))\n",
    "ax.set_ylim((0, np.max(prev_losses)))"
   ]
  },
  {
   "cell_type": "code",
   "execution_count": 350,
   "id": "279b3c77-8a63-4967-b101-c8299e245752",
   "metadata": {
    "tags": []
   },
   "outputs": [
    {
     "data": {
      "text/plain": [
       "[0.0041096497696046655, 0.004297880650492149]"
      ]
     },
     "execution_count": 350,
     "metadata": {},
     "output_type": "execute_result"
    }
   ],
   "source": [
    "mgd.prev_losses.tolist()"
   ]
  },
  {
   "cell_type": "code",
   "execution_count": 294,
   "id": "4aed82cb-c731-4235-bfe0-b6ea2fad27cc",
   "metadata": {
    "tags": []
   },
   "outputs": [
    {
     "data": {
      "image/png": "[encoded data removed]",
      "text/plain": [
       "<Figure size 640x480 with 1 Axes>"
      ]
     },
     "metadata": {},
     "output_type": "display_data"
    }
   ],
   "source": [
    "fig, ax = plt.subplots()\n",
    "lrs = np.array(training_log[\"lr\"])\n",
    "batch_sizes = np.array(training_log[\"batch_size\"])\n",
    "_, istart, iinv = np.unique(-batch_sizes, return_index=True, return_inverse=True)\n",
    "istart = np.append(istart, [len(batch_sizes)])\n",
    "epochs = np.arange(len(lrs))\n",
    "epoch_mins = epochs[istart[:-1]]\n",
    "epoch_maxs = epochs[istart[1:]-1]+1\n",
    "epochs = iinv + (epochs - epoch_mins[iinv]) / (epoch_maxs[iinv] - epoch_mins[iinv])\n",
    "ax.plot(epochs, np.maximum(0, lrs))\n",
    "for i in range(len(istart)):\n",
    "    ax.plot([i, i], [min(lrs), max(lrs)], color='black', linewidth=0.5)\n",
    "scaled_loss = np.array(training_log[\"loss\"]) * max(batch_sizes) / batch_sizes**2 / 10**3\n",
    "ax.plot(epochs, scaled_loss, color='red')\n",
    "ax.set_xlim((0, max(epochs)))\n",
    "ax.set_yscale('log')"
   ]
  },
  {
   "cell_type": "code",
   "execution_count": 355,
   "id": "8302253c-e1f6-4825-a6cb-97914a36a4c7",
   "metadata": {
    "tags": []
   },
   "outputs": [
    {
     "data": {
      "image/png": "[encoded data removed]",
      "text/plain": [
       "<Figure size 640x480 with 1 Axes>"
      ]
     },
     "metadata": {},
     "output_type": "display_data"
    }
   ],
   "source": [
    "fig, ax = plt.subplots()\n",
    "lrs = np.array(training_log[\"lr\"])\n",
    "batch_sizes = np.array(training_log[\"batch_size\"])\n",
    "_, istart, iinv = np.unique(-batch_sizes, return_index=True, return_inverse=True)\n",
    "istart = np.append(istart, [len(batch_sizes)])\n",
    "epochs = np.arange(len(lrs))\n",
    "epoch_mins = epochs[istart[:-1]]\n",
    "epoch_maxs = epochs[istart[1:]-1]+1\n",
    "epochs = iinv + (epochs - epoch_mins[iinv]) / (epoch_maxs[iinv] - epoch_mins[iinv])\n",
    "ax.plot(epochs, np.maximum(0, lrs))\n",
    "for i in range(len(istart)):\n",
    "    ax.plot([i, i], [min(lrs), max(lrs)], color='black', linewidth=0.5)\n",
    "scaled_loss = np.array(training_log[\"loss\"]) * max(batch_sizes) / batch_sizes**2 / 10**3\n",
    "ax.plot(epochs, scaled_loss, color='red')\n",
    "ax.set_xlim((0, max(epochs)))\n",
    "ax.set_yscale('log')"
   ]
  },
  {
   "cell_type": "markdown",
   "id": "6d2c238c-8917-4d98-983c-eb277df42b0e",
   "metadata": {},
   "source": [
    "## Debug gdtuo"
   ]
  },
  {
   "cell_type": "code",
   "execution_count": 460,
   "id": "e7e7f1c5-9013-46ba-b370-58f29e6ce631",
   "metadata": {},
   "outputs": [
    {
     "name": "stdout",
     "output_type": "stream",
     "text": [
      "Mean loss: 0.0344 vs 0.00469\n",
      "Min loss: 0.000594 0.000509\n"
     ]
    }
   ],
   "source": [
    "losses = mgd.prev_losses\n",
    "pocket_losses = losses_fn(h_pocket, q)\n",
    "ii = torch.argsort(pocket_losses)\n",
    "h_pocket = h_pocket[ii]\n",
    "pocket_losses = pocket_losses[ii]\n",
    "print(f\"Mean loss: {torch.mean(pocket_losses[:len(losses)]).item():.3g} vs {torch.mean(losses).item():.3g}\")\n",
    "print(f\"Min loss: {min(pocket_losses[:len(losses)]).item():.3g} {min(losses).item():.3g}\")"
   ]
  },
  {
   "cell_type": "code",
   "execution_count": 572,
   "id": "c17b6210-67c4-460b-9f7f-da0efb7acee6",
   "metadata": {},
   "outputs": [],
   "source": [
    "h_pocket2 = mgd.h.data.clone().detach()"
   ]
  },
  {
   "cell_type": "code",
   "execution_count": 573,
   "id": "8310fc15-60ac-4997-b27b-f716d1c20977",
   "metadata": {},
   "outputs": [
    {
     "data": {
      "text/plain": [
       "tensor(1.7288e-30, dtype=torch.float64)"
      ]
     },
     "execution_count": 573,
     "metadata": {},
     "output_type": "execute_result"
    }
   ],
   "source": [
    "torch.mean(torch.abs((h_pocket2 - h_pocket2.conj().transpose(-1, -2))**2))"
   ]
  },
  {
   "cell_type": "code",
   "execution_count": 575,
   "id": "b4fcb3c9-e03d-468a-b1c7-06ea8bd424e4",
   "metadata": {},
   "outputs": [
    {
     "data": {
      "text/plain": [
       "tensor(1.3902, dtype=torch.float64)"
      ]
     },
     "execution_count": 575,
     "metadata": {},
     "output_type": "execute_result"
    }
   ],
   "source": [
    "torch.mean(torch.abs((h_pocket2 + h_pocket2.conj().transpose(-1, -2))**2))"
   ]
  },
  {
   "cell_type": "code",
   "execution_count": 535,
   "id": "7500bea7-34e4-44be-bb78-f7aa11f36c34",
   "metadata": {},
   "outputs": [],
   "source": [
    "evals, evecs = torch.linalg.eig(h_pocket2)"
   ]
  },
  {
   "cell_type": "code",
   "execution_count": 544,
   "id": "5b0acb75-24b2-42fa-acc6-5dfacd3f0029",
   "metadata": {},
   "outputs": [
    {
     "data": {
      "text/plain": [
       "1.4736707380955316"
      ]
     },
     "execution_count": 544,
     "metadata": {},
     "output_type": "execute_result"
    }
   ],
   "source": [
    "torch.mean(evals * evals.conj()).real.item()**0.5"
   ]
  },
  {
   "cell_type": "code",
   "execution_count": 576,
   "id": "dcf25e36-6df2-4414-b633-737dd0e929f9",
   "metadata": {},
   "outputs": [],
   "source": [
    "gi, gj = GivensLoss.get_ij(h_pocket2)"
   ]
  },
  {
   "cell_type": "code",
   "execution_count": 471,
   "id": "dc04be5b-43c4-4ef6-ab36-71a2e70ebf61",
   "metadata": {},
   "outputs": [
    {
     "data": {
      "text/plain": [
       "torch.Size([257, 7])"
      ]
     },
     "execution_count": 471,
     "metadata": {},
     "output_type": "execute_result"
    }
   ],
   "source": [
    "gi.shape"
   ]
  },
  {
   "cell_type": "code",
   "execution_count": 527,
   "id": "6b88441f-d9ae-4815-8dd1-b546d98661fa",
   "metadata": {},
   "outputs": [],
   "source": [
    "gij_strs = sorted([[f\"{gii}{gji}\" for gii, gji in zip(gi[i], gj[i])] for i in range(gi.shape[0])])\n",
    "gij_unique, gij_counts = np.unique(gij_strs, axis=0, return_counts=True)"
   ]
  },
  {
   "cell_type": "code",
   "execution_count": 529,
   "id": "dc70c48f-c200-4eb1-856a-adb376b83227",
   "metadata": {},
   "outputs": [
    {
     "data": {
      "text/plain": [
       "(257, 7)"
      ]
     },
     "execution_count": 529,
     "metadata": {},
     "output_type": "execute_result"
    }
   ],
   "source": [
    "gij_unique.shape"
   ]
  },
  {
   "cell_type": "code",
   "execution_count": 577,
   "id": "c0873eff-9e49-49e5-9971-8462e87778cf",
   "metadata": {},
   "outputs": [
    {
     "name": "stdout",
     "output_type": "stream",
     "text": [
      "01.12.24.13.04.24.23\n",
      "01.14.24.04.14.04.13\n",
      "02.01.04.13.02.14.34\n",
      "02.01.13.04.23.03.23\n",
      "02.01.23.12.24.34.02\n",
      "02.04.13.03.02.01.34\n",
      "02.04.14.04.23.13.02\n",
      "02.13.03.24.02.04.03\n",
      "02.13.04.34.04.02.24\n",
      "02.13.23.34.04.24.01\n",
      "02.13.23.34.23.12.02\n",
      "02.14.01.12.24.12.13\n",
      "02.14.24.13.14.34.02\n",
      "02.14.34.04.14.02.13\n",
      "02.24.03.12.24.13.02\n",
      "02.24.13.02.34.03.24\n",
      "02.24.13.34.04.34.23\n",
      "03.13.23.34.02.04.02\n",
      "03.23.02.01.04.02.34\n",
      "04.02.13.24.03.04.23\n",
      "04.12.02.13.24.03.02\n",
      "04.12.14.13.24.03.04\n",
      "04.13.02.03.24.34.24\n",
      "04.13.03.02.04.03.34\n",
      "04.13.03.02.04.03.34\n",
      "04.13.24.04.34.24.04\n",
      "04.13.34.04.23.02.04\n",
      "04.23.12.13.24.34.02\n",
      "04.24.13.23.02.24.02\n",
      "04.24.14.04.13.23.03\n",
      "12.01.04.13.03.24.02\n",
      "12.01.13.34.23.04.24\n",
      "12.01.13.34.23.34.02\n",
      "12.02.01.04.14.12.13\n",
      "12.03.13.03.34.24.02\n",
      "12.03.24.01.13.23.03\n",
      "12.04.02.13.34.24.03\n",
      "12.13.03.04.23.34.24\n",
      "12.13.24.24.02.03.02\n",
      "12.13.34.04.04.24.04\n",
      "12.13.34.04.24.13.02\n",
      "12.13.34.34.04.24.02\n",
      "12.23.14.24.13.12.02\n",
      "12.23.34.12.02.04.02\n",
      "12.24.01.02.23.12.13\n",
      "12.24.13.03.02.14.03\n",
      "12.24.14.13.04.14.24\n",
      "12.24.23.13.23.04.02\n",
      "12.34.04.24.14.02.13\n",
      "12.34.14.02.04.13.02\n",
      "12.34.23.24.13.34.02\n",
      "12.34.24.12.13.02.24\n",
      "13.02.04.03.03.02.24\n",
      "13.03.04.24.03.34.03\n",
      "13.03.23.04.24.03.23\n",
      "13.03.24.34.03.02.24\n",
      "13.03.34.02.24.02.23\n",
      "13.04.24.23.24.03.02\n",
      "13.04.34.23.03.34.02\n",
      "13.04.34.24.23.02.14\n",
      "13.12.02.03.04.02.34\n",
      "13.12.13.04.34.24.02\n",
      "13.12.13.24.02.34.24\n",
      "13.12.24.14.02.24.13\n",
      "13.14.24.02.23.24.02\n",
      "13.23.02.04.23.03.23\n",
      "13.23.03.34.14.24.02\n",
      "13.23.24.23.02.04.24\n",
      "13.23.24.34.14.03.02\n",
      "13.23.34.04.23.02.04\n",
      "13.23.34.13.04.23.02\n",
      "13.23.34.24.24.04.24\n",
      "13.24.02.03.02.24.04\n",
      "13.24.02.14.03.04.02\n",
      "13.24.12.14.04.13.24\n",
      "13.24.14.13.04.02.04\n",
      "13.24.23.12.24.04.02\n",
      "13.34.02.03.34.02.04\n",
      "13.34.03.04.24.02.23\n",
      "14.01.24.04.23.14.12\n",
      "14.01.34.13.24.04.23\n",
      "14.01.34.24.13.23.04\n",
      "14.02.24.13.04.12.34\n",
      "14.12.01.02.04.03.01\n",
      "14.12.01.12.14.13.23\n",
      "14.12.01.14.01.13.02\n",
      "14.12.01.24.13.12.02\n",
      "14.12.02.24.13.12.02\n",
      "14.12.13.24.02.23.02\n",
      "14.12.24.13.04.12.02\n",
      "14.13.14.12.23.02.14\n",
      "14.23.34.23.12.23.02\n",
      "14.24.02.23.01.04.12\n",
      "14.24.04.24.04.14.13\n",
      "14.24.12.23.02.34.13\n",
      "14.24.13.12.02.23.03\n",
      "14.24.13.13.12.23.02\n",
      "14.24.14.02.13.24.12\n",
      "14.24.23.02.12.02.04\n",
      "14.24.23.13.01.12.03\n",
      "14.34.12.02.13.04.02\n",
      "23.12.13.02.04.03.02\n",
      "23.13.34.23.02.34.24\n",
      "23.13.34.23.24.02.24\n",
      "23.34.12.23.04.02.34\n",
      "24.01.13.23.34.03.02\n",
      "24.02.12.02.13.24.23\n",
      "24.02.14.13.12.13.03\n",
      "24.02.23.13.34.04.24\n",
      "24.04.03.13.23.24.04\n",
      "24.04.12.24.02.01.13\n",
      "24.12.13.03.24.23.13\n",
      "24.13.04.34.04.23.34\n",
      "24.13.13.23.34.04.24\n",
      "24.13.23.04.02.14.34\n",
      "24.13.34.03.04.24.02\n",
      "24.13.34.04.24.23.02\n",
      "24.13.34.23.04.02.13\n",
      "24.14.24.13.02.03.23\n",
      "24.23.12.23.02.34.24\n",
      "24.23.12.24.13.04.24\n",
      "34.02.13.24.12.34.02\n",
      "34.02.14.13.04.24.34\n",
      "34.12.24.02.01.13.23\n",
      "34.14.12.13.24.13.02\n",
      "34.14.12.14.13.12.02\n",
      "34.14.23.24.02.34.24\n",
      "34.14.34.12.24.13.02\n"
     ]
    }
   ],
   "source": [
    "gij_strs = sorted([\".\".join(f\"{gii}{gji}\" for gii, gji in zip(gi[i], gj[i])) for i in range(gi.shape[0])])\n",
    "for gij_str in gij_strs:\n",
    "    print(gij_str)"
   ]
  },
  {
   "cell_type": "code",
   "execution_count": 55,
   "id": "d51b3a3b-626a-4a5c-967c-37fefbb9b0e2",
   "metadata": {},
   "outputs": [],
   "source": [
    "ALL_INDEX_PAIRS_5 = set([(1<<j)^(1<<i) for i in range(4) for j in range(i+1,5)])\n",
    "def count_index_pair_lists5(k, excl=[]):\n",
    "    if k == 0:\n",
    "        return 1\n",
    "    res = 0\n",
    "    cur_pairs = list(ALL_INDEX_PAIRS_5 - set(excl))\n",
    "    for ij in cur_pairs:\n",
    "        new_excl = [ij1 for ij1 in excl if (ij1^ij).bit_count() == 4]\n",
    "        if not all(ij1 < ij for ij1 in new_excl):\n",
    "            continue\n",
    "        res += count_index_pair_lists5(k-1, excl=new_excl+[ij])\n",
    "    return res"
   ]
  },
  {
   "cell_type": "markdown",
   "id": "ed7b2766-886e-49ab-958c-d1348be1b751",
   "metadata": {},
   "source": [
    "# Scratch"
   ]
  },
  {
   "cell_type": "code",
   "execution_count": null,
   "id": "7d99769b-e135-475f-b282-f60f7dee0b9a",
   "metadata": {},
   "outputs": [],
   "source": []
  }
 ],
 "metadata": {
  "kernelspec": {
   "display_name": "Python [conda env:classifim]",
   "language": "python",
   "name": "conda-env-classifim-py"
  },
  "language_info": {
   "codemirror_mode": {
    "name": "ipython",
    "version": 3
   },
   "file_extension": ".py",
   "mimetype": "text/x-python",
   "name": "python",
   "nbconvert_exporter": "python",
   "pygments_lexer": "ipython3",
   "version": "3.10.11"
  }
 },
 "nbformat": 4,
 "nbformat_minor": 5
}
